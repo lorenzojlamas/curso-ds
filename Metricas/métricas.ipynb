{
 "cells": [
  {
   "cell_type": "markdown",
   "metadata": {},
   "source": [
    "# Métricas"
   ]
  },
  {
   "cell_type": "markdown",
   "metadata": {},
   "source": [
    "## Matriz de confusión\n",
    "Una matriz de confusión es una herramienta que nos permite visualizar el desempeño de un algoritmo. Esta matriz está compuesta de los valores reales y los valores predichos por el algoritmo. La idea es comparar el valor real y el valor predicho. Permite ver si las clasificaciones son correctas.\n",
    "\n",
    "Una matriz de confusión se basa en un conjunto de verdaderos positivos, falsos positivos, verdaderos negativos y falsos negativos.\n",
    "\n",
    "Para poder utilizar este metodo de evaluación de un modelo de clasificación necesitamos separa nuestra data de entrenamiento en dos datasets.\n",
    "\n",
    "* Train (por ejemplo, 80%)\n",
    "* Test (20%)\n",
    "\n",
    "Lo que haremos es entrenar el modelo utilizando las observaciones que estan en el dataset train y luego evaluaremos el modelo utilizando las observaciones del dataset test.\n",
    "\n",
    "Esto nos ayudar a medir como se comporta nuestro modelo cuando se lo aplicamos a data nueva. La matriz tiene la siguiente estructura.\n",
    "\n",
    "<img src=\"Matriz_confusion_generica.png\" align = \"middle\" width=\"400\" height=\"350\">\n",
    "\n",
    "* VP es la cantidad de positivos que fueron clasificados correctamente como positivos por el modelo.\n",
    "* VN es la cantidad de negativos que fueron clasificados correctamente como negativos por el modelo.\n",
    "* FN es la cantidad de positivos que fueron clasificados incorrectamente como negativos.\n",
    "* FP es la cantidad de negativos que fueron clasificados incorrectamente como positivos.\n",
    "\n",
    "A partir de la matriz de confusión se pueden precisar dos métricas muy utilizadas: Precision y Recall.\n",
    "\n",
    "### Precisión\n",
    "La idea de esta métricas es responder a la pregunta: Cuando predice positivos, qué porcentaje clasifica correctamente?\n",
    "\n",
    "<img src=\"precision.png\" align = \"middle\" width=\"300\" height=\"250\">\n",
    "\n",
    "Esto es una forma de darnos cuenta de qué tan bien está generalizando nuestro algoritmo. lo que buscamos es que el número de precisión tienda a uno. Si el resultado es 1, quiere decir que tiene precisión perfecta. \n",
    "\n",
    "### Sensibilidad o Recall\n",
    "La idea de esta métrica es responder a la pregunta: Cuando la clase es positiva, qué porcentaje logra clasificar?\n",
    "\n",
    "<img src=\"recall.png\" align = \"middle\" width=\"300\" height=\"250\">\n",
    "\n",
    "Visto de otra manera. ¿Qué proporción de instancias que eran efectivamente positivas, fue marcada como positivas por el algoritmo?\n",
    "\n",
    "### ROC AUC\n",
    "\n",
    "Las curvas ROC (Receiver Operating Characteristic) presentan la sensibilidad de una prueba diagnóstica que produce resultados contínuos, en función de los falsos positivos (complementario de la especificidad), para distintos puntos de corte.\n",
    "\n",
    "La separación entre los grupos representa la capacidad discriminatoria de una prueba para clasificar correctamente a cada objeto. Un parámetro para evaluar la bondad de un algoritmo que produce resultados contínuos es el área bajo la curva (AUC). Este área puede interpretarse como la probabilidad de que un conjunto de objetos, uno de cada clase, el algoritmo los clasifique correctamente.\n",
    "\n",
    "<img src=\"especificity.png\" align = \"middle\" width=\"200\" height=\"150\">\n",
    "\n",
    "Si tenemos un ROC de 1, quiere decir que el algoritmo está clasificando todo correctamente.\n",
    "\n",
    "\n",
    "\n",
    "\n",
    "La curva ROC es una herramienta estadística utilizada para analizar la capacidad discriminante de una prueba diagnóstica dicotómica. Es decir, una prueba, basada en una variable de decisión, cuyo objetivo es clasificar a los individuos de una población en dos grupos: uno que presente un evento de interés y otro que no. Esta capacidad discriminante está sujeta al valor umbral elegido de entre todos los posibles resultados de la variable de decisión, es decir, la variable por cuyo resultado se clasi\u001c",
    "ca a cada individuo en un grupo u otro.\n",
    "\n",
    "La curva es el grá\u001c",
    "co resultante de representar, para cada valor umbral, las medidas de sensibilidad y especi\u001c",
    "cidad de la prueba diagnóstica. Por un lado, la sensibilidad cuanti\u001c",
    "ca la proporción de individuos que presenta el evento de interés y que son clasi\u001c",
    "cados por la prueba como portadores de dicho evento.\n",
    "Por otro lado, la especi\u001c",
    "cidad cuanti\u001c",
    "ca la proporción de individuos que no lo presentan y son clasi\u001c",
    "cados por la prueba como tal.\n"
   ]
  },
  {
   "cell_type": "markdown",
   "metadata": {},
   "source": [
    "## GridSearch\n",
    "Automatiza la tarea de probar nuestros algoritmos con diferentes valores de los parámetros a partir de una grilla de valores posibles. Al finalizar, devuelve el conjunto de parámetros para los cuales el algoritmo generaliza mejor.\n"
   ]
  },
  {
   "cell_type": "code",
   "execution_count": 1,
   "metadata": {
    "ExecuteTime": {
     "end_time": "2019-09-16T17:16:00.466620Z",
     "start_time": "2019-09-16T17:15:57.837488Z"
    }
   },
   "outputs": [
    {
     "name": "stdout",
     "output_type": "stream",
     "text": [
      "Matriz de confusión sin normalizar\n",
      "[[13  0  0]\n",
      " [ 0 15  1]\n",
      " [ 0  0  9]]\n",
      "Matriz de confusión normalizada\n",
      "[[1.   0.   0.  ]\n",
      " [0.   0.94 0.06]\n",
      " [0.   0.   1.  ]]\n"
     ]
    },
    {
     "data": {
      "text/plain": [
       "<Figure size 640x480 with 2 Axes>"
      ]
     },
     "metadata": {},
     "output_type": "display_data"
    },
    {
     "data": {
      "text/plain": [
       "<Figure size 640x480 with 2 Axes>"
      ]
     },
     "metadata": {},
     "output_type": "display_data"
    }
   ],
   "source": [
    "import itertools\n",
    "import numpy as np\n",
    "import matplotlib.pyplot as plt\n",
    "\n",
    "from sklearn import datasets\n",
    "from sklearn.model_selection import train_test_split\n",
    "from sklearn.metrics import confusion_matrix\n",
    "from sklearn.tree import DecisionTreeClassifier \n",
    "\n",
    "# Importamos dataset iris de scikitlearn\n",
    "iris = datasets.load_iris()\n",
    "X = iris.data\n",
    "y = iris.target\n",
    "class_names = iris.target_names\n",
    "\n",
    "# Dividimos en train test el conjunto\n",
    "X_train, X_test, y_train, y_test = train_test_split(X, y, random_state=0)\n",
    "\n",
    "# Corremos un clasificador\n",
    "classifier = DecisionTreeClassifier()\n",
    "y_pred = classifier.fit(X_train, y_train).predict(X_test)\n",
    "\n",
    "\n",
    "def plot_confusion_matrix(cm, classes,\n",
    "                          normalize=False,\n",
    "                          title='Matriz de confusión',\n",
    "                          cmap=plt.cm.Blues):\n",
    "    \"\"\"\n",
    "    Esta función de scikit-learn imprime y plotea \n",
    "    la matriz de confusión pasada por parámetro. \n",
    "    Si se le pasa por parámetro \n",
    "    `normalize=True`, se le aplicará una normalización.\n",
    "\n",
    "    \"\"\"\n",
    "    if normalize:\n",
    "        cm = cm.astype('float') / cm.sum(axis=1)[:, np.newaxis]\n",
    "        print(\"Matriz de confusión normalizada\")\n",
    "    else:\n",
    "        print('Matriz de confusión sin normalizar')\n",
    "\n",
    "    print(cm)\n",
    "\n",
    "    plt.imshow(cm, interpolation='nearest', cmap=cmap)\n",
    "    plt.title(title)\n",
    "    plt.colorbar()\n",
    "    tick_marks = np.arange(len(classes))\n",
    "    plt.xticks(tick_marks, classes, rotation=45)\n",
    "    plt.yticks(tick_marks, classes)\n",
    "\n",
    "    fmt = '.2f' if normalize else 'd'\n",
    "    thresh = cm.max() / 2.\n",
    "    for i, j in itertools.product(range(cm.shape[0]), range(cm.shape[1])):\n",
    "        plt.text(j, i, format(cm[i, j], fmt),\n",
    "                 horizontalalignment=\"center\",\n",
    "                 color=\"white\" if cm[i, j] > thresh else \"black\")\n",
    "\n",
    "    plt.ylabel('Etiqueta verdadera')\n",
    "    plt.xlabel('Etiqueta predicha')\n",
    "    plt.tight_layout()\n",
    "\n",
    "\n",
    "# Compute confusion matrix\n",
    "cnf_matrix = confusion_matrix(y_test, y_pred)\n",
    "np.set_printoptions(precision=2)\n",
    "\n",
    "# Plot non-normalized confusion matrix\n",
    "plt.figure()\n",
    "plot_confusion_matrix(cnf_matrix, classes=class_names,\n",
    "                      title='Matriz de confusión sin normalizar')\n",
    "\n",
    "# Plot normalized confusion matrix\n",
    "plt.figure()\n",
    "plot_confusion_matrix(cnf_matrix, classes=class_names, normalize=True,\n",
    "                      title='Matriz de confusión normalizada')\n",
    "\n",
    "plt.show()"
   ]
  },
  {
   "cell_type": "markdown",
   "metadata": {},
   "source": [
    "## GridSeach "
   ]
  },
  {
   "cell_type": "code",
   "execution_count": 2,
   "metadata": {
    "ExecuteTime": {
     "end_time": "2019-09-16T17:29:18.899391Z",
     "start_time": "2019-09-16T17:29:18.884404Z"
    }
   },
   "outputs": [],
   "source": [
    "from sklearn.datasets import load_boston\n",
    "boston = load_boston()\n",
    "from sklearn.model_selection import train_test_split\n",
    "X_train, X_test, y_train, y_test = train_test_split(boston.data,\n",
    "                                                    boston.target,\n",
    "                                                    test_size=0.25,\n",
    "                                                    random_state=33)"
   ]
  },
  {
   "cell_type": "code",
   "execution_count": 29,
   "metadata": {
    "ExecuteTime": {
     "end_time": "2019-09-16T17:29:19.851326Z",
     "start_time": "2019-09-16T17:29:19.847339Z"
    }
   },
   "outputs": [],
   "source": [
    "from sklearn.model_selection import GridSearchCV\n",
    "from sklearn.tree import DecisionTreeRegressor\n",
    "param_grid = [\n",
    "    {'max_depth': [2, 3, 4, 10, 5, 15, 50], 'max_features': [2, 4, 6, 8]},\n",
    "]\n"
   ]
  },
  {
   "cell_type": "code",
   "execution_count": 30,
   "metadata": {
    "ExecuteTime": {
     "end_time": "2019-09-16T17:29:24.075908Z",
     "start_time": "2019-09-16T17:29:23.952242Z"
    }
   },
   "outputs": [
    {
     "name": "stderr",
     "output_type": "stream",
     "text": [
      "C:\\Users\\llamas\\AppData\\Roaming\\Python\\Python37\\site-packages\\sklearn\\model_selection\\_search.py:814: DeprecationWarning: The default of the `iid` parameter will change from True to False in version 0.22 and will be removed in 0.24. This will change numeric results when test-set sizes are unequal.\n",
      "  DeprecationWarning)\n"
     ]
    },
    {
     "data": {
      "text/plain": [
       "GridSearchCV(cv=5, error_score='raise-deprecating',\n",
       "             estimator=DecisionTreeRegressor(criterion='mse', max_depth=None,\n",
       "                                             max_features=None,\n",
       "                                             max_leaf_nodes=None,\n",
       "                                             min_impurity_decrease=0.0,\n",
       "                                             min_impurity_split=None,\n",
       "                                             min_samples_leaf=1,\n",
       "                                             min_samples_split=2,\n",
       "                                             min_weight_fraction_leaf=0.0,\n",
       "                                             presort=False, random_state=None,\n",
       "                                             splitter='best'),\n",
       "             iid='warn', n_jobs=None,\n",
       "             param_grid=[{'max_depth': [2, 3, 4, 10, 5, 15, 50],\n",
       "                          'max_features': [2, 4, 6, 8]}],\n",
       "             pre_dispatch='2*n_jobs', refit=True, return_train_score=True,\n",
       "             scoring='neg_mean_squared_error', verbose=0)"
      ]
     },
     "execution_count": 30,
     "metadata": {},
     "output_type": "execute_result"
    }
   ],
   "source": [
    "tree_reg = DecisionTreeRegressor()\n",
    "grid_search = GridSearchCV(tree_reg, param_grid, cv=5,\n",
    "                           scoring='neg_mean_squared_error', \n",
    "                           return_train_score=True)\n",
    "grid_search.fit(X_train, y_train)"
   ]
  },
  {
   "cell_type": "markdown",
   "metadata": {},
   "source": [
    "## Propiedades de GridSearch"
   ]
  },
  {
   "cell_type": "code",
   "execution_count": 31,
   "metadata": {
    "ExecuteTime": {
     "end_time": "2019-09-16T17:32:51.201477Z",
     "start_time": "2019-09-16T17:32:51.194496Z"
    }
   },
   "outputs": [
    {
     "data": {
      "text/plain": [
       "{'max_depth': 50, 'max_features': 8}"
      ]
     },
     "execution_count": 31,
     "metadata": {},
     "output_type": "execute_result"
    }
   ],
   "source": [
    "grid_search.best_params_"
   ]
  },
  {
   "cell_type": "code",
   "execution_count": 32,
   "metadata": {
    "ExecuteTime": {
     "end_time": "2019-09-16T17:32:57.591417Z",
     "start_time": "2019-09-16T17:32:57.585432Z"
    }
   },
   "outputs": [
    {
     "data": {
      "text/plain": [
       "DecisionTreeRegressor(criterion='mse', max_depth=50, max_features=8,\n",
       "                      max_leaf_nodes=None, min_impurity_decrease=0.0,\n",
       "                      min_impurity_split=None, min_samples_leaf=1,\n",
       "                      min_samples_split=2, min_weight_fraction_leaf=0.0,\n",
       "                      presort=False, random_state=None, splitter='best')"
      ]
     },
     "execution_count": 32,
     "metadata": {},
     "output_type": "execute_result"
    }
   ],
   "source": [
    "# Este devuelve el mejor modelo\n",
    "grid_search.best_estimator_"
   ]
  },
  {
   "cell_type": "code",
   "execution_count": 33,
   "metadata": {
    "ExecuteTime": {
     "end_time": "2019-09-16T17:34:15.412456Z",
     "start_time": "2019-09-16T17:34:15.406500Z"
    }
   },
   "outputs": [
    {
     "data": {
      "text/plain": [
       "array([-4.67e+01, -3.31e+01, -2.91e+01, -3.01e+01, -3.22e+01, -2.51e+01,\n",
       "       -2.14e+01, -1.92e+01, -2.59e+01, -1.55e+01, -1.61e+01, -1.12e+01,\n",
       "       -1.84e+00, -1.04e+00, -8.64e-01, -5.25e-01, -1.58e+01, -1.26e+01,\n",
       "       -7.63e+00, -6.31e+00, -6.25e-02, -1.44e-02, -2.41e-02, -3.34e-02,\n",
       "        0.00e+00, -2.50e-32,  0.00e+00,  0.00e+00])"
      ]
     },
     "execution_count": 33,
     "metadata": {},
     "output_type": "execute_result"
    }
   ],
   "source": [
    "grid_search.cv_results_['mean_train_score']"
   ]
  },
  {
   "cell_type": "code",
   "execution_count": 34,
   "metadata": {
    "ExecuteTime": {
     "end_time": "2019-09-16T17:34:16.047434Z",
     "start_time": "2019-09-16T17:34:16.041422Z"
    }
   },
   "outputs": [
    {
     "data": {
      "text/plain": [
       "array([ 6.83e+00,  5.75e+00,  5.40e+00,  5.49e+00,  5.67e+00,  5.01e+00,\n",
       "        4.62e+00,  4.39e+00,  5.09e+00,  3.94e+00,  4.02e+00,  3.34e+00,\n",
       "        1.36e+00,  1.02e+00,  9.30e-01,  7.25e-01,  3.97e+00,  3.55e+00,\n",
       "        2.76e+00,  2.51e+00,  2.50e-01,  1.20e-01,  1.55e-01,  1.83e-01,\n",
       "       -0.00e+00,  1.58e-16, -0.00e+00, -0.00e+00])"
      ]
     },
     "execution_count": 34,
     "metadata": {},
     "output_type": "execute_result"
    }
   ],
   "source": [
    "np.sqrt(-grid_search.cv_results_['mean_train_score'])"
   ]
  },
  {
   "cell_type": "code",
   "execution_count": 35,
   "metadata": {
    "ExecuteTime": {
     "end_time": "2019-09-16T17:34:59.078248Z",
     "start_time": "2019-09-16T17:34:59.073230Z"
    }
   },
   "outputs": [
    {
     "data": {
      "text/plain": [
       "array([7.7 , 6.08, 5.68, 5.95, 7.38, 5.14, 5.42, 5.41, 6.99, 5.68, 5.19,\n",
       "       4.48, 5.21, 5.73, 5.25, 4.43, 5.69, 5.58, 5.83, 4.34, 5.61, 5.43,\n",
       "       4.56, 4.59, 6.68, 5.29, 5.  , 4.13])"
      ]
     },
     "execution_count": 35,
     "metadata": {},
     "output_type": "execute_result"
    }
   ],
   "source": [
    "np.sqrt(-grid_search.cv_results_['mean_test_score'])"
   ]
  },
  {
   "cell_type": "markdown",
   "metadata": {},
   "source": [
    "## RandomizedSearch"
   ]
  },
  {
   "cell_type": "code",
   "execution_count": 51,
   "metadata": {
    "ExecuteTime": {
     "end_time": "2019-09-16T17:39:35.726533Z",
     "start_time": "2019-09-16T17:39:35.717560Z"
    }
   },
   "outputs": [],
   "source": [
    "from sklearn.model_selection import RandomizedSearchCV\n",
    "from scipy.stats import randint as sp_randint\n",
    "\n",
    "param_grid = {'max_depth': sp_randint(2, 50), 'max_features': sp_randint(2, 14)}\n"
   ]
  },
  {
   "cell_type": "code",
   "execution_count": 52,
   "metadata": {
    "ExecuteTime": {
     "end_time": "2019-09-16T17:39:36.952786Z",
     "start_time": "2019-09-16T17:39:36.867978Z"
    }
   },
   "outputs": [
    {
     "name": "stderr",
     "output_type": "stream",
     "text": [
      "C:\\Users\\llamas\\AppData\\Roaming\\Python\\Python37\\site-packages\\sklearn\\model_selection\\_search.py:814: DeprecationWarning: The default of the `iid` parameter will change from True to False in version 0.22 and will be removed in 0.24. This will change numeric results when test-set sizes are unequal.\n",
      "  DeprecationWarning)\n"
     ]
    },
    {
     "data": {
      "text/plain": [
       "RandomizedSearchCV(cv=5, error_score='raise-deprecating',\n",
       "                   estimator=DecisionTreeRegressor(criterion='mse',\n",
       "                                                   max_depth=None,\n",
       "                                                   max_features=None,\n",
       "                                                   max_leaf_nodes=None,\n",
       "                                                   min_impurity_decrease=0.0,\n",
       "                                                   min_impurity_split=None,\n",
       "                                                   min_samples_leaf=1,\n",
       "                                                   min_samples_split=2,\n",
       "                                                   min_weight_fraction_leaf=0.0,\n",
       "                                                   presort=False,\n",
       "                                                   random_state=None,\n",
       "                                                   splitter='best'),\n",
       "                   iid='warn', n_iter=10, n_jobs=None,\n",
       "                   param_distributions={'max_depth': <scipy.stats._distn_infrastructure.rv_frozen object at 0x16169390>,\n",
       "                                        'max_features': <scipy.stats._distn_infrastructure.rv_frozen object at 0x161690D0>},\n",
       "                   pre_dispatch='2*n_jobs', random_state=None, refit=True,\n",
       "                   return_train_score=True, scoring='neg_mean_squared_error',\n",
       "                   verbose=0)"
      ]
     },
     "execution_count": 52,
     "metadata": {},
     "output_type": "execute_result"
    }
   ],
   "source": [
    "tree_reg = DecisionTreeRegressor()\n",
    "rand_search = RandomizedSearchCV(tree_reg, param_distributions=param_grid, cv=5,\n",
    "                                 scoring='neg_mean_squared_error',\n",
    "                                 n_iter=10,\n",
    "                                 return_train_score=True)\n",
    "\n",
    "rand_search.fit(X_train, y_train)"
   ]
  },
  {
   "cell_type": "code",
   "execution_count": 53,
   "metadata": {
    "ExecuteTime": {
     "end_time": "2019-09-16T17:39:41.570475Z",
     "start_time": "2019-09-16T17:39:41.565493Z"
    }
   },
   "outputs": [
    {
     "data": {
      "text/plain": [
       "{'max_depth': 27, 'max_features': 11}"
      ]
     },
     "execution_count": 53,
     "metadata": {},
     "output_type": "execute_result"
    }
   ],
   "source": [
    "rand_search.best_params_"
   ]
  },
  {
   "cell_type": "code",
   "execution_count": 54,
   "metadata": {
    "ExecuteTime": {
     "end_time": "2019-09-16T17:39:43.331812Z",
     "start_time": "2019-09-16T17:39:43.326795Z"
    }
   },
   "outputs": [
    {
     "data": {
      "text/plain": [
       "DecisionTreeRegressor(criterion='mse', max_depth=27, max_features=11,\n",
       "                      max_leaf_nodes=None, min_impurity_decrease=0.0,\n",
       "                      min_impurity_split=None, min_samples_leaf=1,\n",
       "                      min_samples_split=2, min_weight_fraction_leaf=0.0,\n",
       "                      presort=False, random_state=None, splitter='best')"
      ]
     },
     "execution_count": 54,
     "metadata": {},
     "output_type": "execute_result"
    }
   ],
   "source": [
    "rand_search.best_estimator_"
   ]
  },
  {
   "cell_type": "code",
   "execution_count": 55,
   "metadata": {},
   "outputs": [
    {
     "data": {
      "text/plain": [
       "array([-0.  ,  0.16, -0.  , -0.  ,  3.31,  0.17,  0.02,  3.28,  3.56,\n",
       "        0.63])"
      ]
     },
     "execution_count": 55,
     "metadata": {},
     "output_type": "execute_result"
    }
   ],
   "source": [
    "np.sqrt(-rand_search.cv_results_['mean_train_score'])"
   ]
  },
  {
   "cell_type": "code",
   "execution_count": 56,
   "metadata": {},
   "outputs": [
    {
     "data": {
      "text/plain": [
       "array([4.68, 5.12, 4.86, 4.08, 4.94, 5.68, 5.4 , 4.99, 4.76, 4.41])"
      ]
     },
     "execution_count": 56,
     "metadata": {},
     "output_type": "execute_result"
    }
   ],
   "source": [
    "np.sqrt(-rand_search.cv_results_['mean_test_score'])"
   ]
  },
  {
   "cell_type": "code",
   "execution_count": 57,
   "metadata": {},
   "outputs": [
    {
     "name": "stdout",
     "output_type": "stream",
     "text": [
      "Promedio GridSearch RMSE:  5.515053805776572\n",
      "Promedio RandomizedSearch RMSE:  4.891164315181499\n"
     ]
    }
   ],
   "source": [
    "# Comparamos los resultados entre Randomizedsearch y GridSearch\n",
    "print(\"Promedio GridSearch RMSE: \", np.sqrt(-grid_search.cv_results_['mean_test_score']).mean())\n",
    "print(\"Promedio RandomizedSearch RMSE: \", np.sqrt(-rand_search.cv_results_['mean_test_score']).mean())"
   ]
  },
  {
   "cell_type": "markdown",
   "metadata": {},
   "source": [
    "## Cambiando el scoring en GridSearch"
   ]
  },
  {
   "cell_type": "code",
   "execution_count": 58,
   "metadata": {
    "ExecuteTime": {
     "end_time": "2019-09-16T17:44:46.113536Z",
     "start_time": "2019-09-16T17:44:45.997848Z"
    }
   },
   "outputs": [
    {
     "name": "stderr",
     "output_type": "stream",
     "text": [
      "C:\\Users\\llamas\\AppData\\Roaming\\Python\\Python37\\site-packages\\sklearn\\model_selection\\_search.py:814: DeprecationWarning: The default of the `iid` parameter will change from True to False in version 0.22 and will be removed in 0.24. This will change numeric results when test-set sizes are unequal.\n",
      "  DeprecationWarning)\n"
     ]
    },
    {
     "data": {
      "text/plain": [
       "GridSearchCV(cv=5, error_score='raise-deprecating',\n",
       "             estimator=DecisionTreeRegressor(criterion='mse', max_depth=None,\n",
       "                                             max_features=None,\n",
       "                                             max_leaf_nodes=None,\n",
       "                                             min_impurity_decrease=0.0,\n",
       "                                             min_impurity_split=None,\n",
       "                                             min_samples_leaf=1,\n",
       "                                             min_samples_split=2,\n",
       "                                             min_weight_fraction_leaf=0.0,\n",
       "                                             presort=False, random_state=None,\n",
       "                                             splitter='best'),\n",
       "             iid='warn', n_jobs=None,\n",
       "             param_grid=[{'max_depth': [2, 3, 4],\n",
       "                          'max_features': [2, 4, 6, 8]}],\n",
       "             pre_dispatch='2*n_jobs', refit=True, return_train_score=True,\n",
       "             scoring='r2', verbose=0)"
      ]
     },
     "execution_count": 58,
     "metadata": {},
     "output_type": "execute_result"
    }
   ],
   "source": [
    "from sklearn.model_selection import GridSearchCV\n",
    "from sklearn.tree import DecisionTreeRegressor\n",
    "param_grid = [\n",
    "    {'max_depth': [2, 3, 4], 'max_features': [2, 4, 6, 8]},\n",
    "]\n",
    "tree_reg = DecisionTreeRegressor()\n",
    "grid_search_r2 = GridSearchCV(tree_reg, param_grid, cv=5,\n",
    "                           scoring='r2', return_train_score=True)\n",
    "grid_search_r2.fit(X_train, y_train)"
   ]
  },
  {
   "cell_type": "markdown",
   "metadata": {},
   "source": [
    "## Evaluación en test set"
   ]
  },
  {
   "cell_type": "code",
   "execution_count": 40,
   "metadata": {
    "ExecuteTime": {
     "end_time": "2019-09-16T17:43:49.642351Z",
     "start_time": "2019-09-16T17:43:49.637368Z"
    }
   },
   "outputs": [],
   "source": [
    "y_pred = grid_search.predict(X_test)"
   ]
  },
  {
   "cell_type": "code",
   "execution_count": 41,
   "metadata": {
    "ExecuteTime": {
     "end_time": "2019-09-16T17:43:54.558432Z",
     "start_time": "2019-09-16T17:43:54.553445Z"
    }
   },
   "outputs": [],
   "source": [
    "from sklearn.metrics import mean_squared_error"
   ]
  },
  {
   "cell_type": "code",
   "execution_count": 42,
   "metadata": {
    "ExecuteTime": {
     "end_time": "2019-09-16T17:43:55.209384Z",
     "start_time": "2019-09-16T17:43:55.202403Z"
    }
   },
   "outputs": [
    {
     "data": {
      "text/plain": [
       "5.4660728824180085"
      ]
     },
     "execution_count": 42,
     "metadata": {},
     "output_type": "execute_result"
    }
   ],
   "source": [
    "np.sqrt(mean_squared_error(y_test, y_pred))"
   ]
  },
  {
   "cell_type": "code",
   "execution_count": 43,
   "metadata": {
    "ExecuteTime": {
     "end_time": "2019-09-16T17:44:11.986853Z",
     "start_time": "2019-09-16T17:44:11.982865Z"
    }
   },
   "outputs": [],
   "source": [
    "y_pred = rand_search.predict(X_test)"
   ]
  },
  {
   "cell_type": "code",
   "execution_count": 44,
   "metadata": {
    "ExecuteTime": {
     "end_time": "2019-09-16T17:44:12.803366Z",
     "start_time": "2019-09-16T17:44:12.798381Z"
    }
   },
   "outputs": [
    {
     "data": {
      "text/plain": [
       "6.955056922171251"
      ]
     },
     "execution_count": 44,
     "metadata": {},
     "output_type": "execute_result"
    }
   ],
   "source": [
    "np.sqrt(mean_squared_error(y_test, y_pred))"
   ]
  },
  {
   "cell_type": "code",
   "execution_count": 45,
   "metadata": {
    "ExecuteTime": {
     "end_time": "2019-09-16T17:44:50.181239Z",
     "start_time": "2019-09-16T17:44:50.175255Z"
    }
   },
   "outputs": [],
   "source": [
    "y_pred = grid_search_r2.predict(X_test)"
   ]
  },
  {
   "cell_type": "code",
   "execution_count": 46,
   "metadata": {},
   "outputs": [
    {
     "data": {
      "text/plain": [
       "5.074217643538162"
      ]
     },
     "execution_count": 46,
     "metadata": {},
     "output_type": "execute_result"
    }
   ],
   "source": [
    "np.sqrt(mean_squared_error(y_test, y_pred))"
   ]
  },
  {
   "cell_type": "markdown",
   "metadata": {},
   "source": [
    "## Oversampling "
   ]
  },
  {
   "cell_type": "markdown",
   "metadata": {},
   "source": [
    "Ejemplo extra de oversample"
   ]
  },
  {
   "cell_type": "code",
   "execution_count": 48,
   "metadata": {},
   "outputs": [
    {
     "name": "stdout",
     "output_type": "stream",
     "text": [
      "Automatically created module for IPython interactive environment\n"
     ]
    },
    {
     "data": {
      "image/png": "[encoded data removed]",
      "text/plain": [
       "<Figure size 432x288 with 6 Axes>"
      ]
     },
     "metadata": {
      "needs_background": "light"
     },
     "output_type": "display_data"
    }
   ],
   "source": [
    "# Authors: Fernando Nogueira\n",
    "#          Christos Aridas\n",
    "#          Guillaume Lemaitre <g.lemaitre58@gmail.com>\n",
    "# License: MIT\n",
    "\n",
    "import matplotlib.pyplot as plt\n",
    "from sklearn.datasets import make_classification\n",
    "from sklearn.decomposition import PCA\n",
    "\n",
    "from imblearn.over_sampling import SMOTE\n",
    "\n",
    "print(__doc__)\n",
    "\n",
    "\n",
    "def plot_resampling(ax, X, y, title):\n",
    "    c0 = ax.scatter(X[y == 0, 0], X[y == 0, 1], label=\"Class #0\", alpha=0.5)\n",
    "    c1 = ax.scatter(X[y == 1, 0], X[y == 1, 1], label=\"Class #1\", alpha=0.5)\n",
    "    ax.set_title(title)\n",
    "    ax.spines['top'].set_visible(False)\n",
    "    ax.spines['right'].set_visible(False)\n",
    "    ax.get_xaxis().tick_bottom()\n",
    "    ax.get_yaxis().tick_left()\n",
    "    ax.spines['left'].set_position(('outward', 10))\n",
    "    ax.spines['bottom'].set_position(('outward', 10))\n",
    "    ax.set_xlim([-6, 8])\n",
    "    ax.set_ylim([-6, 6])\n",
    "\n",
    "    return c0, c1\n",
    "\n",
    "\n",
    "# Generate the dataset\n",
    "X, y = make_classification(n_classes=2, class_sep=2, weights=[0.3, 0.7],\n",
    "                           n_informative=3, n_redundant=1, flip_y=0,\n",
    "                           n_features=20, n_clusters_per_class=1,\n",
    "                           n_samples=80, random_state=10)\n",
    "\n",
    "# Instanciate a PCA object for the sake of easy visualisation\n",
    "pca = PCA(n_components=2)\n",
    "# Fit and transform x to visualise inside a 2D feature space\n",
    "X_vis = pca.fit_transform(X)\n",
    "\n",
    "# Apply regular SMOTE\n",
    "kind = ['regular', 'borderline1', 'borderline2', 'svm']\n",
    "sm = [SMOTE(kind=k) for k in kind]\n",
    "X_resampled = []\n",
    "y_resampled = []\n",
    "X_res_vis = []\n",
    "for method in sm:\n",
    "    X_res, y_res = method.fit_sample(X, y)\n",
    "    X_resampled.append(X_res)\n",
    "    y_resampled.append(y_res)\n",
    "    X_res_vis.append(pca.transform(X_res))\n",
    "\n",
    "# Two subplots, unpack the axes array immediately\n",
    "f, ((ax1, ax2), (ax3, ax4), (ax5, ax6)) = plt.subplots(3, 2)\n",
    "# Remove axis for second plot\n",
    "ax2.axis('off')\n",
    "ax_res = [ax3, ax4, ax5, ax6]\n",
    "\n",
    "c0, c1 = plot_resampling(ax1, X_vis, y, 'Original set')\n",
    "for i in range(len(kind)):\n",
    "    plot_resampling(ax_res[i], X_res_vis[i], y_resampled[i],\n",
    "                    'SMOTE {}'.format(kind[i]))\n",
    "\n",
    "ax2.legend((c0, c1), ('Class #0', 'Class #1'), loc='center',\n",
    "           ncol=1, labelspacing=0.)\n",
    "plt.tight_layout()\n",
    "plt.show()"
   ]
  }
 ],
 "metadata": {
  "kernelspec": {
   "display_name": "Python 3",
   "language": "python",
   "name": "python3"
  },
  "language_info": {
   "codemirror_mode": {
    "name": "ipython",
    "version": 3
   },
   "file_extension": ".py",
   "mimetype": "text/x-python",
   "name": "python",
   "nbconvert_exporter": "python",
   "pygments_lexer": "ipython3",
   "version": "3.7.4"
  },
  "toc": {
   "base_numbering": 1,
   "nav_menu": {},
   "number_sections": true,
   "sideBar": true,
   "skip_h1_title": false,
   "title_cell": "Table of Contents",
   "title_sidebar": "Contents",
   "toc_cell": false,
   "toc_position": {},
   "toc_section_display": true,
   "toc_window_display": false
  },
  "varInspector": {
   "cols": {
    "lenName": 16,
    "lenType": 16,
    "lenVar": 40
   },
   "kernels_config": {
    "python": {
     "delete_cmd_postfix": "",
     "delete_cmd_prefix": "del ",
     "library": "var_list.py",
     "varRefreshCmd": "print(var_dic_list())"
    },
    "r": {
     "delete_cmd_postfix": ") ",
     "delete_cmd_prefix": "rm(",
     "library": "var_list.r",
     "varRefreshCmd": "cat(var_dic_list()) "
    }
   },
   "types_to_exclude": [
    "module",
    "function",
    "builtin_function_or_method",
    "instance",
    "_Feature"
   ],
   "window_display": false
  }
 },
 "nbformat": 4,
 "nbformat_minor": 4
}
