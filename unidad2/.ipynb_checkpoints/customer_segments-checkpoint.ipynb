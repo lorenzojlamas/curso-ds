{
 "cells": [
  {
   "cell_type": "markdown",
   "metadata": {
    "colab_type": "text",
    "id": "r0x5D0I3J2xn"
   },
   "source": [
    "## Creating Customer Segments\n",
    "\n",
    "### Unsupervised Learning\n"
   ]
  },
  {
   "cell_type": "markdown",
   "metadata": {
    "colab_type": "text",
    "id": "LmBoEH1gJ2xo"
   },
   "source": [
    "## Getting Started\n",
    "\n",
    "In this project, you will analyze a dataset containing data on various customers' annual spending amounts (reported in *monetary units*) of diverse product categories for internal structure. One goal of this project is to best describe the variation in the different types of customers that a wholesale distributor interacts with. Doing so would equip the distributor with insight into how to best structure their delivery service to meet the needs of each customer.\n",
    "\n",
    "The dataset for this project can be found on the [UCI Machine Learning Repository](https://archive.ics.uci.edu/ml/datasets/Wholesale+customers). For the purposes of this project, the features `'Channel'` and `'Region'` will be excluded in the analysis — with focus instead on the six product categories recorded for customers.\n",
    "\n",
    "Run the code block below to load the wholesale customers dataset, along with a few of the necessary Python libraries required for this project. You will know the dataset loaded successfully if the size of the dataset is reported."
   ]
  },
  {
   "cell_type": "code",
   "execution_count": 1,
   "metadata": {
    "colab": {
     "base_uri": "https://localhost:8080/",
     "height": 204
    },
    "colab_type": "code",
    "executionInfo": {
     "elapsed": 2770,
     "status": "ok",
     "timestamp": 1565190599269,
     "user": {
      "displayName": "Alan Bernardo Palacio",
      "photoUrl": "",
      "userId": "14099975777942802468"
     },
     "user_tz": 180
    },
    "id": "4QACRgqGKit6",
    "outputId": "71640c56-6c31-4056-abad-22695b7b93c6"
   },
   "outputs": [
    {
     "name": "stdout",
     "output_type": "stream",
     "text": [
      "--2019-08-07 15:09:57--  https://archive.ics.uci.edu/ml/machine-learning-databases/00292/Wholesale%20customers%20data.csv\n",
      "Resolving archive.ics.uci.edu (archive.ics.uci.edu)... 128.195.10.252\n",
      "Connecting to archive.ics.uci.edu (archive.ics.uci.edu)|128.195.10.252|:443... connected.\n",
      "HTTP request sent, awaiting response... 200 OK\n",
      "Length: 15021 (15K) [application/x-httpd-php]\n",
      "Saving to: ‘Wholesale customers data.csv’\n",
      "\n",
      "\r",
      "          Wholesale   0%[                    ]       0  --.-KB/s               \r",
      "Wholesale customers 100%[===================>]  14.67K  --.-KB/s    in 0.06s   \n",
      "\n",
      "2019-08-07 15:09:57 (232 KB/s) - ‘Wholesale customers data.csv’ saved [15021/15021]\n",
      "\n"
     ]
    }
   ],
   "source": [
    "!wget https://archive.ics.uci.edu/ml/machine-learning-databases/00292/Wholesale%20customers%20data.csv"
   ]
  },
  {
   "cell_type": "code",
   "execution_count": 2,
   "metadata": {
    "colab": {
     "base_uri": "https://localhost:8080/",
     "height": 34
    },
    "colab_type": "code",
    "executionInfo": {
     "elapsed": 730,
     "status": "ok",
     "timestamp": 1565190614068,
     "user": {
      "displayName": "Alan Bernardo Palacio",
      "photoUrl": "",
      "userId": "14099975777942802468"
     },
     "user_tz": 180
    },
    "id": "-UfaWIZoJ2xp",
    "outputId": "26fab009-f56c-4fb7-fade-e40dd1a3798b"
   },
   "outputs": [
    {
     "name": "stdout",
     "output_type": "stream",
     "text": [
      "Wholesale customers dataset has 440 samples with 6 features each.\n"
     ]
    }
   ],
   "source": [
    "# Import libraries necessary for this project\n",
    "import numpy as np\n",
    "import pandas as pd\n",
    "from IPython.display import display # Allows the use of display() for DataFrames\n",
    "\n",
    "# Show matplotlib plots inline (nicely formatted in the notebook)\n",
    "%matplotlib inline\n",
    "\n",
    "# Load the wholesale customers dataset\n",
    "try:\n",
    "    data = pd.read_csv(\"Wholesale customers data.csv\")\n",
    "    data.drop(['Region', 'Channel'], axis = 1, inplace = True)\n",
    "    print(\"Wholesale customers dataset has {} samples with {} features each.\".format(*data.shape))\n",
    "except:\n",
    "    print(\"Dataset could not be loaded. Is the dataset missing?\")"
   ]
  },
  {
   "cell_type": "markdown",
   "metadata": {
    "colab_type": "text",
    "id": "wbr3hxDrJ2xs"
   },
   "source": [
    "## Data Exploration\n",
    "In this section, you will begin exploring the data through visualizations and code to understand how each feature is related to the others. You will observe a statistical description of the dataset, consider the relevance of each feature, and select a few sample data points from the dataset which you will track through the course of this project.\n",
    "\n",
    "Run the code block below to observe a statistical description of the dataset. Note that the dataset is composed of six important product categories: **'Fresh'**, **'Milk'**, **'Grocery'**, **'Frozen'**, **'Detergents_Paper'**, and **'Delicatessen'**. Consider what each category represents in terms of products you could purchase."
   ]
  },
  {
   "cell_type": "markdown",
   "metadata": {
    "colab_type": "text",
    "id": "Zn5NYMhLJ2xt"
   },
   "source": [
    "**Description of Categories**\n",
    "- FRESH: annual spending (m.u.) on fresh products (Continuous)\n",
    "- MILK: annual spending (m.u.) on milk products (Continuous)\n",
    "- GROCERY: annual spending (m.u.) on grocery products (Continuous)\n",
    "- FROZEN: annual spending (m.u.)on frozen products (Continuous) \n",
    "- DETERGENTS_PAPER: annual spending (m.u.) on detergents and paper products (Continuous) \n",
    "- DELICATESSEN: annual spending (m.u.) on and delicatessen products (Continuous)\n",
    "    - \"A store selling cold cuts, cheeses, and a variety of salads, as well as a selection of unusual or foreign prepared foods.\""
   ]
  },
  {
   "cell_type": "code",
   "execution_count": 3,
   "metadata": {
    "colab": {
     "base_uri": "https://localhost:8080/",
     "height": 204
    },
    "colab_type": "code",
    "executionInfo": {
     "elapsed": 872,
     "status": "ok",
     "timestamp": 1565190668488,
     "user": {
      "displayName": "Alan Bernardo Palacio",
      "photoUrl": "",
      "userId": "14099975777942802468"
     },
     "user_tz": 180
    },
    "id": "CK2wH7OELFCz",
    "outputId": "2f6db3fe-d200-4ff9-f248-8d087997cc46"
   },
   "outputs": [
    {
     "data": {
      "text/html": [
       "<div>\n",
       "<style scoped>\n",
       "    .dataframe tbody tr th:only-of-type {\n",
       "        vertical-align: middle;\n",
       "    }\n",
       "\n",
       "    .dataframe tbody tr th {\n",
       "        vertical-align: top;\n",
       "    }\n",
       "\n",
       "    .dataframe thead th {\n",
       "        text-align: right;\n",
       "    }\n",
       "</style>\n",
       "<table border=\"1\" class=\"dataframe\">\n",
       "  <thead>\n",
       "    <tr style=\"text-align: right;\">\n",
       "      <th></th>\n",
       "      <th>Fresh</th>\n",
       "      <th>Milk</th>\n",
       "      <th>Grocery</th>\n",
       "      <th>Frozen</th>\n",
       "      <th>Detergents_Paper</th>\n",
       "      <th>Delicassen</th>\n",
       "    </tr>\n",
       "  </thead>\n",
       "  <tbody>\n",
       "    <tr>\n",
       "      <th>0</th>\n",
       "      <td>12669</td>\n",
       "      <td>9656</td>\n",
       "      <td>7561</td>\n",
       "      <td>214</td>\n",
       "      <td>2674</td>\n",
       "      <td>1338</td>\n",
       "    </tr>\n",
       "    <tr>\n",
       "      <th>1</th>\n",
       "      <td>7057</td>\n",
       "      <td>9810</td>\n",
       "      <td>9568</td>\n",
       "      <td>1762</td>\n",
       "      <td>3293</td>\n",
       "      <td>1776</td>\n",
       "    </tr>\n",
       "    <tr>\n",
       "      <th>2</th>\n",
       "      <td>6353</td>\n",
       "      <td>8808</td>\n",
       "      <td>7684</td>\n",
       "      <td>2405</td>\n",
       "      <td>3516</td>\n",
       "      <td>7844</td>\n",
       "    </tr>\n",
       "    <tr>\n",
       "      <th>3</th>\n",
       "      <td>13265</td>\n",
       "      <td>1196</td>\n",
       "      <td>4221</td>\n",
       "      <td>6404</td>\n",
       "      <td>507</td>\n",
       "      <td>1788</td>\n",
       "    </tr>\n",
       "    <tr>\n",
       "      <th>4</th>\n",
       "      <td>22615</td>\n",
       "      <td>5410</td>\n",
       "      <td>7198</td>\n",
       "      <td>3915</td>\n",
       "      <td>1777</td>\n",
       "      <td>5185</td>\n",
       "    </tr>\n",
       "  </tbody>\n",
       "</table>\n",
       "</div>"
      ],
      "text/plain": [
       "   Fresh  Milk  Grocery  Frozen  Detergents_Paper  Delicassen\n",
       "0  12669  9656     7561     214              2674        1338\n",
       "1   7057  9810     9568    1762              3293        1776\n",
       "2   6353  8808     7684    2405              3516        7844\n",
       "3  13265  1196     4221    6404               507        1788\n",
       "4  22615  5410     7198    3915              1777        5185"
      ]
     },
     "execution_count": 3,
     "metadata": {
      "tags": []
     },
     "output_type": "execute_result"
    }
   ],
   "source": [
    "# Display the first columns of the dataset\n",
    "data.head()"
   ]
  },
  {
   "cell_type": "code",
   "execution_count": 4,
   "metadata": {
    "colab": {
     "base_uri": "https://localhost:8080/",
     "height": 297
    },
    "colab_type": "code",
    "executionInfo": {
     "elapsed": 778,
     "status": "ok",
     "timestamp": 1565190675355,
     "user": {
      "displayName": "Alan Bernardo Palacio",
      "photoUrl": "",
      "userId": "14099975777942802468"
     },
     "user_tz": 180
    },
    "id": "y4wd93uTJ2xt",
    "outputId": "71ce579c-b45b-4404-f97d-64b78a4241b8"
   },
   "outputs": [
    {
     "data": {
      "text/html": [
       "<div>\n",
       "<style scoped>\n",
       "    .dataframe tbody tr th:only-of-type {\n",
       "        vertical-align: middle;\n",
       "    }\n",
       "\n",
       "    .dataframe tbody tr th {\n",
       "        vertical-align: top;\n",
       "    }\n",
       "\n",
       "    .dataframe thead th {\n",
       "        text-align: right;\n",
       "    }\n",
       "</style>\n",
       "<table border=\"1\" class=\"dataframe\">\n",
       "  <thead>\n",
       "    <tr style=\"text-align: right;\">\n",
       "      <th></th>\n",
       "      <th>Fresh</th>\n",
       "      <th>Milk</th>\n",
       "      <th>Grocery</th>\n",
       "      <th>Frozen</th>\n",
       "      <th>Detergents_Paper</th>\n",
       "      <th>Delicassen</th>\n",
       "    </tr>\n",
       "  </thead>\n",
       "  <tbody>\n",
       "    <tr>\n",
       "      <th>count</th>\n",
       "      <td>440.000000</td>\n",
       "      <td>440.000000</td>\n",
       "      <td>440.000000</td>\n",
       "      <td>440.000000</td>\n",
       "      <td>440.000000</td>\n",
       "      <td>440.000000</td>\n",
       "    </tr>\n",
       "    <tr>\n",
       "      <th>mean</th>\n",
       "      <td>12000.297727</td>\n",
       "      <td>5796.265909</td>\n",
       "      <td>7951.277273</td>\n",
       "      <td>3071.931818</td>\n",
       "      <td>2881.493182</td>\n",
       "      <td>1524.870455</td>\n",
       "    </tr>\n",
       "    <tr>\n",
       "      <th>std</th>\n",
       "      <td>12647.328865</td>\n",
       "      <td>7380.377175</td>\n",
       "      <td>9503.162829</td>\n",
       "      <td>4854.673333</td>\n",
       "      <td>4767.854448</td>\n",
       "      <td>2820.105937</td>\n",
       "    </tr>\n",
       "    <tr>\n",
       "      <th>min</th>\n",
       "      <td>3.000000</td>\n",
       "      <td>55.000000</td>\n",
       "      <td>3.000000</td>\n",
       "      <td>25.000000</td>\n",
       "      <td>3.000000</td>\n",
       "      <td>3.000000</td>\n",
       "    </tr>\n",
       "    <tr>\n",
       "      <th>25%</th>\n",
       "      <td>3127.750000</td>\n",
       "      <td>1533.000000</td>\n",
       "      <td>2153.000000</td>\n",
       "      <td>742.250000</td>\n",
       "      <td>256.750000</td>\n",
       "      <td>408.250000</td>\n",
       "    </tr>\n",
       "    <tr>\n",
       "      <th>50%</th>\n",
       "      <td>8504.000000</td>\n",
       "      <td>3627.000000</td>\n",
       "      <td>4755.500000</td>\n",
       "      <td>1526.000000</td>\n",
       "      <td>816.500000</td>\n",
       "      <td>965.500000</td>\n",
       "    </tr>\n",
       "    <tr>\n",
       "      <th>75%</th>\n",
       "      <td>16933.750000</td>\n",
       "      <td>7190.250000</td>\n",
       "      <td>10655.750000</td>\n",
       "      <td>3554.250000</td>\n",
       "      <td>3922.000000</td>\n",
       "      <td>1820.250000</td>\n",
       "    </tr>\n",
       "    <tr>\n",
       "      <th>max</th>\n",
       "      <td>112151.000000</td>\n",
       "      <td>73498.000000</td>\n",
       "      <td>92780.000000</td>\n",
       "      <td>60869.000000</td>\n",
       "      <td>40827.000000</td>\n",
       "      <td>47943.000000</td>\n",
       "    </tr>\n",
       "  </tbody>\n",
       "</table>\n",
       "</div>"
      ],
      "text/plain": [
       "               Fresh          Milk  ...  Detergents_Paper    Delicassen\n",
       "count     440.000000    440.000000  ...        440.000000    440.000000\n",
       "mean    12000.297727   5796.265909  ...       2881.493182   1524.870455\n",
       "std     12647.328865   7380.377175  ...       4767.854448   2820.105937\n",
       "min         3.000000     55.000000  ...          3.000000      3.000000\n",
       "25%      3127.750000   1533.000000  ...        256.750000    408.250000\n",
       "50%      8504.000000   3627.000000  ...        816.500000    965.500000\n",
       "75%     16933.750000   7190.250000  ...       3922.000000   1820.250000\n",
       "max    112151.000000  73498.000000  ...      40827.000000  47943.000000\n",
       "\n",
       "[8 rows x 6 columns]"
      ]
     },
     "execution_count": 4,
     "metadata": {
      "tags": []
     },
     "output_type": "execute_result"
    }
   ],
   "source": [
    "# Display a description of the dataset\n",
    "stats = data.describe()\n",
    "stats"
   ]
  },
  {
   "cell_type": "markdown",
   "metadata": {
    "colab_type": "text",
    "id": "UV11r5IOJ2xw"
   },
   "source": [
    "### Implementation: Selecting Samples\n",
    "To get a better understanding of the customers and how their data will transform through the analysis, it would be best to select a few sample data points and explore them in more detail. In the code block below we will track three customers of random choice will represent the customers to track. It is suggested to try different sets of samples until we obtain customers that vary significantly from one another."
   ]
  },
  {
   "cell_type": "code",
   "execution_count": 8,
   "metadata": {
    "colab": {
     "base_uri": "https://localhost:8080/",
     "height": 142
    },
    "colab_type": "code",
    "executionInfo": {
     "elapsed": 1072,
     "status": "ok",
     "timestamp": 1565190852225,
     "user": {
      "displayName": "Alan Bernardo Palacio",
      "photoUrl": "",
      "userId": "14099975777942802468"
     },
     "user_tz": 180
    },
    "id": "pBYb3KA2J2xx",
    "outputId": "231d449a-c1f8-42ae-e82a-208a1bd013b6"
   },
   "outputs": [
    {
     "data": {
      "text/html": [
       "<div>\n",
       "<style scoped>\n",
       "    .dataframe tbody tr th:only-of-type {\n",
       "        vertical-align: middle;\n",
       "    }\n",
       "\n",
       "    .dataframe tbody tr th {\n",
       "        vertical-align: top;\n",
       "    }\n",
       "\n",
       "    .dataframe thead th {\n",
       "        text-align: right;\n",
       "    }\n",
       "</style>\n",
       "<table border=\"1\" class=\"dataframe\">\n",
       "  <thead>\n",
       "    <tr style=\"text-align: right;\">\n",
       "      <th></th>\n",
       "      <th>Fresh</th>\n",
       "      <th>Milk</th>\n",
       "      <th>Grocery</th>\n",
       "      <th>Frozen</th>\n",
       "      <th>Detergents_Paper</th>\n",
       "      <th>Delicassen</th>\n",
       "    </tr>\n",
       "  </thead>\n",
       "  <tbody>\n",
       "    <tr>\n",
       "      <th>100</th>\n",
       "      <td>11594</td>\n",
       "      <td>7779</td>\n",
       "      <td>12144</td>\n",
       "      <td>3252</td>\n",
       "      <td>8035</td>\n",
       "      <td>3029</td>\n",
       "    </tr>\n",
       "    <tr>\n",
       "      <th>200</th>\n",
       "      <td>3067</td>\n",
       "      <td>13240</td>\n",
       "      <td>23127</td>\n",
       "      <td>3941</td>\n",
       "      <td>9959</td>\n",
       "      <td>731</td>\n",
       "    </tr>\n",
       "    <tr>\n",
       "      <th>300</th>\n",
       "      <td>16448</td>\n",
       "      <td>6243</td>\n",
       "      <td>6360</td>\n",
       "      <td>824</td>\n",
       "      <td>2662</td>\n",
       "      <td>2005</td>\n",
       "    </tr>\n",
       "  </tbody>\n",
       "</table>\n",
       "</div>"
      ],
      "text/plain": [
       "     Fresh   Milk  Grocery  Frozen  Detergents_Paper  Delicassen\n",
       "100  11594   7779    12144    3252              8035        3029\n",
       "200   3067  13240    23127    3941              9959         731\n",
       "300  16448   6243     6360     824              2662        2005"
      ]
     },
     "execution_count": 8,
     "metadata": {
      "tags": []
     },
     "output_type": "execute_result"
    }
   ],
   "source": [
    "# Using data.loc to filter a pandas DataFrame\n",
    "data.iloc[[100, 200, 300]]"
   ]
  },
  {
   "cell_type": "code",
   "execution_count": 11,
   "metadata": {
    "colab": {
     "base_uri": "https://localhost:8080/",
     "height": 34
    },
    "colab_type": "code",
    "executionInfo": {
     "elapsed": 802,
     "status": "ok",
     "timestamp": 1565115990177,
     "user": {
      "displayName": "Alan Bernardo Palacio",
      "photoUrl": "",
      "userId": "14099975777942802468"
     },
     "user_tz": 180
    },
    "id": "zajzvyuEJ2xz",
    "outputId": "e825cd38-fa61-486d-b4b1-c9ce6461b38d"
   },
   "outputs": [
    {
     "data": {
      "text/plain": [
       "['Fresh', 'Milk', 'Grocery', 'Frozen', 'Detergents_Paper', 'Delicassen']"
      ]
     },
     "execution_count": 11,
     "metadata": {
      "tags": []
     },
     "output_type": "execute_result"
    }
   ],
   "source": [
    "# Retrieve column names\n",
    "# Alternative code:\n",
    "# data.keys()\n",
    "data.columns.tolist()"
   ]
  },
  {
   "cell_type": "markdown",
   "metadata": {
    "colab_type": "text",
    "id": "i7fbUNBOJ2x1"
   },
   "source": [
    "**Logic in selecting the 3 samples: Quartiles**\n",
    "- As you can previously (in the object \"stats\"), we've the data showing the first and third quartiles.\n",
    "- We can filter samples that are starkly different based on the quartiles.\n",
    "    - This way we've two establishments that belong in the first and third quartiles respectively in, for example, the Frozen category."
   ]
  },
  {
   "cell_type": "code",
   "execution_count": 17,
   "metadata": {
    "colab": {
     "base_uri": "https://localhost:8080/",
     "height": 204
    },
    "colab_type": "code",
    "executionInfo": {
     "elapsed": 793,
     "status": "ok",
     "timestamp": 1565191454580,
     "user": {
      "displayName": "Alan Bernardo Palacio",
      "photoUrl": "",
      "userId": "14099975777942802468"
     },
     "user_tz": 180
    },
    "id": "5uE4El_mJ2x2",
    "outputId": "e534e3b1-d097-4a78-c131-8e102f6f214a"
   },
   "outputs": [
    {
     "data": {
      "text/html": [
       "<div>\n",
       "<style scoped>\n",
       "    .dataframe tbody tr th:only-of-type {\n",
       "        vertical-align: middle;\n",
       "    }\n",
       "\n",
       "    .dataframe tbody tr th {\n",
       "        vertical-align: top;\n",
       "    }\n",
       "\n",
       "    .dataframe thead th {\n",
       "        text-align: right;\n",
       "    }\n",
       "</style>\n",
       "<table border=\"1\" class=\"dataframe\">\n",
       "  <thead>\n",
       "    <tr style=\"text-align: right;\">\n",
       "      <th></th>\n",
       "      <th>Fresh</th>\n",
       "      <th>Milk</th>\n",
       "      <th>Grocery</th>\n",
       "      <th>Frozen</th>\n",
       "      <th>Detergents_Paper</th>\n",
       "      <th>Delicassen</th>\n",
       "    </tr>\n",
       "  </thead>\n",
       "  <tbody>\n",
       "    <tr>\n",
       "      <th>16</th>\n",
       "      <td>1020</td>\n",
       "      <td>8816</td>\n",
       "      <td>12121</td>\n",
       "      <td>134</td>\n",
       "      <td>4508</td>\n",
       "      <td>1080</td>\n",
       "    </tr>\n",
       "    <tr>\n",
       "      <th>31</th>\n",
       "      <td>2612</td>\n",
       "      <td>4339</td>\n",
       "      <td>3133</td>\n",
       "      <td>2088</td>\n",
       "      <td>820</td>\n",
       "      <td>985</td>\n",
       "    </tr>\n",
       "    <tr>\n",
       "      <th>34</th>\n",
       "      <td>1502</td>\n",
       "      <td>1979</td>\n",
       "      <td>2262</td>\n",
       "      <td>425</td>\n",
       "      <td>483</td>\n",
       "      <td>395</td>\n",
       "    </tr>\n",
       "    <tr>\n",
       "      <th>35</th>\n",
       "      <td>688</td>\n",
       "      <td>5491</td>\n",
       "      <td>11091</td>\n",
       "      <td>833</td>\n",
       "      <td>4239</td>\n",
       "      <td>436</td>\n",
       "    </tr>\n",
       "    <tr>\n",
       "      <th>43</th>\n",
       "      <td>630</td>\n",
       "      <td>11095</td>\n",
       "      <td>23998</td>\n",
       "      <td>787</td>\n",
       "      <td>9529</td>\n",
       "      <td>72</td>\n",
       "    </tr>\n",
       "  </tbody>\n",
       "</table>\n",
       "</div>"
      ],
      "text/plain": [
       "    Fresh   Milk  Grocery  Frozen  Detergents_Paper  Delicassen\n",
       "16   1020   8816    12121     134              4508        1080\n",
       "31   2612   4339     3133    2088               820         985\n",
       "34   1502   1979     2262     425               483         395\n",
       "35    688   5491    11091     833              4239         436\n",
       "43    630  11095    23998     787              9529          72"
      ]
     },
     "metadata": {
      "tags": []
     },
     "output_type": "display_data"
    }
   ],
   "source": [
    "# Fresh filter\n",
    "fresh_q1 = stats.at['25%','Fresh']\n",
    "display(data.loc[data.Fresh < fresh_q1, :].head())"
   ]
  },
  {
   "cell_type": "code",
   "execution_count": 20,
   "metadata": {
    "colab": {
     "base_uri": "https://localhost:8080/",
     "height": 204
    },
    "colab_type": "code",
    "executionInfo": {
     "elapsed": 805,
     "status": "ok",
     "timestamp": 1565191583269,
     "user": {
      "displayName": "Alan Bernardo Palacio",
      "photoUrl": "",
      "userId": "14099975777942802468"
     },
     "user_tz": 180
    },
    "id": "a8NQDhVMJ2x4",
    "outputId": "4b311475-8377-4644-d7de-b7a0601f0bf3"
   },
   "outputs": [
    {
     "data": {
      "text/html": [
       "<div>\n",
       "<style scoped>\n",
       "    .dataframe tbody tr th:only-of-type {\n",
       "        vertical-align: middle;\n",
       "    }\n",
       "\n",
       "    .dataframe tbody tr th {\n",
       "        vertical-align: top;\n",
       "    }\n",
       "\n",
       "    .dataframe thead th {\n",
       "        text-align: right;\n",
       "    }\n",
       "</style>\n",
       "<table border=\"1\" class=\"dataframe\">\n",
       "  <thead>\n",
       "    <tr style=\"text-align: right;\">\n",
       "      <th></th>\n",
       "      <th>Fresh</th>\n",
       "      <th>Milk</th>\n",
       "      <th>Grocery</th>\n",
       "      <th>Frozen</th>\n",
       "      <th>Detergents_Paper</th>\n",
       "      <th>Delicassen</th>\n",
       "    </tr>\n",
       "  </thead>\n",
       "  <tbody>\n",
       "    <tr>\n",
       "      <th>0</th>\n",
       "      <td>12669</td>\n",
       "      <td>9656</td>\n",
       "      <td>7561</td>\n",
       "      <td>214</td>\n",
       "      <td>2674</td>\n",
       "      <td>1338</td>\n",
       "    </tr>\n",
       "    <tr>\n",
       "      <th>5</th>\n",
       "      <td>9413</td>\n",
       "      <td>8259</td>\n",
       "      <td>5126</td>\n",
       "      <td>666</td>\n",
       "      <td>1795</td>\n",
       "      <td>1451</td>\n",
       "    </tr>\n",
       "    <tr>\n",
       "      <th>6</th>\n",
       "      <td>12126</td>\n",
       "      <td>3199</td>\n",
       "      <td>6975</td>\n",
       "      <td>480</td>\n",
       "      <td>3140</td>\n",
       "      <td>545</td>\n",
       "    </tr>\n",
       "    <tr>\n",
       "      <th>8</th>\n",
       "      <td>5963</td>\n",
       "      <td>3648</td>\n",
       "      <td>6192</td>\n",
       "      <td>425</td>\n",
       "      <td>1716</td>\n",
       "      <td>750</td>\n",
       "    </tr>\n",
       "    <tr>\n",
       "      <th>12</th>\n",
       "      <td>31714</td>\n",
       "      <td>12319</td>\n",
       "      <td>11757</td>\n",
       "      <td>287</td>\n",
       "      <td>3881</td>\n",
       "      <td>2931</td>\n",
       "    </tr>\n",
       "  </tbody>\n",
       "</table>\n",
       "</div>"
      ],
      "text/plain": [
       "    Fresh   Milk  Grocery  Frozen  Detergents_Paper  Delicassen\n",
       "0   12669   9656     7561     214              2674        1338\n",
       "5    9413   8259     5126     666              1795        1451\n",
       "6   12126   3199     6975     480              3140         545\n",
       "8    5963   3648     6192     425              1716         750\n",
       "12  31714  12319    11757     287              3881        2931"
      ]
     },
     "metadata": {
      "tags": []
     },
     "output_type": "display_data"
    }
   ],
   "source": [
    "# Frozen filter\n",
    "frozen_q1 = stats.at['25%','Frozen']\n",
    "display(data.loc[data.Frozen < frozen_q1, :].head())"
   ]
  },
  {
   "cell_type": "code",
   "execution_count": 31,
   "metadata": {
    "colab": {
     "base_uri": "https://localhost:8080/",
     "height": 204
    },
    "colab_type": "code",
    "executionInfo": {
     "elapsed": 749,
     "status": "ok",
     "timestamp": 1565192291701,
     "user": {
      "displayName": "Alan Bernardo Palacio",
      "photoUrl": "",
      "userId": "14099975777942802468"
     },
     "user_tz": 180
    },
    "id": "Oy_SvZ7zuLf2",
    "outputId": "6c216aed-3e5b-4c4d-8bd1-7cd3571b396e"
   },
   "outputs": [
    {
     "data": {
      "text/html": [
       "<div>\n",
       "<style scoped>\n",
       "    .dataframe tbody tr th:only-of-type {\n",
       "        vertical-align: middle;\n",
       "    }\n",
       "\n",
       "    .dataframe tbody tr th {\n",
       "        vertical-align: top;\n",
       "    }\n",
       "\n",
       "    .dataframe thead th {\n",
       "        text-align: right;\n",
       "    }\n",
       "</style>\n",
       "<table border=\"1\" class=\"dataframe\">\n",
       "  <thead>\n",
       "    <tr style=\"text-align: right;\">\n",
       "      <th></th>\n",
       "      <th>Fresh</th>\n",
       "      <th>Milk</th>\n",
       "      <th>Grocery</th>\n",
       "      <th>Frozen</th>\n",
       "      <th>Detergents_Paper</th>\n",
       "      <th>Delicassen</th>\n",
       "    </tr>\n",
       "  </thead>\n",
       "  <tbody>\n",
       "    <tr>\n",
       "      <th>12</th>\n",
       "      <td>31714</td>\n",
       "      <td>12319</td>\n",
       "      <td>11757</td>\n",
       "      <td>287</td>\n",
       "      <td>3881</td>\n",
       "      <td>2931</td>\n",
       "    </tr>\n",
       "    <tr>\n",
       "      <th>14</th>\n",
       "      <td>24653</td>\n",
       "      <td>9465</td>\n",
       "      <td>12091</td>\n",
       "      <td>294</td>\n",
       "      <td>5058</td>\n",
       "      <td>2168</td>\n",
       "    </tr>\n",
       "    <tr>\n",
       "      <th>16</th>\n",
       "      <td>1020</td>\n",
       "      <td>8816</td>\n",
       "      <td>12121</td>\n",
       "      <td>134</td>\n",
       "      <td>4508</td>\n",
       "      <td>1080</td>\n",
       "    </tr>\n",
       "    <tr>\n",
       "      <th>38</th>\n",
       "      <td>4591</td>\n",
       "      <td>15729</td>\n",
       "      <td>16709</td>\n",
       "      <td>33</td>\n",
       "      <td>6956</td>\n",
       "      <td>433</td>\n",
       "    </tr>\n",
       "    <tr>\n",
       "      <th>42</th>\n",
       "      <td>10850</td>\n",
       "      <td>7555</td>\n",
       "      <td>14961</td>\n",
       "      <td>188</td>\n",
       "      <td>6899</td>\n",
       "      <td>46</td>\n",
       "    </tr>\n",
       "  </tbody>\n",
       "</table>\n",
       "</div>"
      ],
      "text/plain": [
       "    Fresh   Milk  Grocery  Frozen  Detergents_Paper  Delicassen\n",
       "12  31714  12319    11757     287              3881        2931\n",
       "14  24653   9465    12091     294              5058        2168\n",
       "16   1020   8816    12121     134              4508        1080\n",
       "38   4591  15729    16709      33              6956         433\n",
       "42  10850   7555    14961     188              6899          46"
      ]
     },
     "execution_count": 31,
     "metadata": {
      "tags": []
     },
     "output_type": "execute_result"
    }
   ],
   "source": [
    "data.loc[(data.Frozen < frozen_q1)&(data.Grocery > stats.at['75%','Grocery']), :].head()"
   ]
  },
  {
   "cell_type": "code",
   "execution_count": 22,
   "metadata": {
    "colab": {
     "base_uri": "https://localhost:8080/",
     "height": 266
    },
    "colab_type": "code",
    "executionInfo": {
     "elapsed": 808,
     "status": "ok",
     "timestamp": 1565191668380,
     "user": {
      "displayName": "Alan Bernardo Palacio",
      "photoUrl": "",
      "userId": "14099975777942802468"
     },
     "user_tz": 180
    },
    "id": "YhTt_hoDJ2x7",
    "outputId": "f2e6f4c6-5975-4808-fcba-40851c6051fc"
   },
   "outputs": [
    {
     "data": {
      "text/html": [
       "<div>\n",
       "<style scoped>\n",
       "    .dataframe tbody tr th:only-of-type {\n",
       "        vertical-align: middle;\n",
       "    }\n",
       "\n",
       "    .dataframe tbody tr th {\n",
       "        vertical-align: top;\n",
       "    }\n",
       "\n",
       "    .dataframe thead th {\n",
       "        text-align: right;\n",
       "    }\n",
       "</style>\n",
       "<table border=\"1\" class=\"dataframe\">\n",
       "  <thead>\n",
       "    <tr style=\"text-align: right;\">\n",
       "      <th></th>\n",
       "      <th>Fresh</th>\n",
       "      <th>Milk</th>\n",
       "      <th>Grocery</th>\n",
       "      <th>Frozen</th>\n",
       "      <th>Detergents_Paper</th>\n",
       "      <th>Delicassen</th>\n",
       "    </tr>\n",
       "  </thead>\n",
       "  <tbody>\n",
       "    <tr>\n",
       "      <th>3</th>\n",
       "      <td>13265</td>\n",
       "      <td>1196</td>\n",
       "      <td>4221</td>\n",
       "      <td>6404</td>\n",
       "      <td>507</td>\n",
       "      <td>1788</td>\n",
       "    </tr>\n",
       "    <tr>\n",
       "      <th>4</th>\n",
       "      <td>22615</td>\n",
       "      <td>5410</td>\n",
       "      <td>7198</td>\n",
       "      <td>3915</td>\n",
       "      <td>1777</td>\n",
       "      <td>5185</td>\n",
       "    </tr>\n",
       "    <tr>\n",
       "      <th>10</th>\n",
       "      <td>3366</td>\n",
       "      <td>5403</td>\n",
       "      <td>12974</td>\n",
       "      <td>4400</td>\n",
       "      <td>5977</td>\n",
       "      <td>1744</td>\n",
       "    </tr>\n",
       "    <tr>\n",
       "      <th>22</th>\n",
       "      <td>31276</td>\n",
       "      <td>1917</td>\n",
       "      <td>4469</td>\n",
       "      <td>9408</td>\n",
       "      <td>2381</td>\n",
       "      <td>4334</td>\n",
       "    </tr>\n",
       "    <tr>\n",
       "      <th>23</th>\n",
       "      <td>26373</td>\n",
       "      <td>36423</td>\n",
       "      <td>22019</td>\n",
       "      <td>5154</td>\n",
       "      <td>4337</td>\n",
       "      <td>16523</td>\n",
       "    </tr>\n",
       "    <tr>\n",
       "      <th>33</th>\n",
       "      <td>29729</td>\n",
       "      <td>4786</td>\n",
       "      <td>7326</td>\n",
       "      <td>6130</td>\n",
       "      <td>361</td>\n",
       "      <td>1083</td>\n",
       "    </tr>\n",
       "    <tr>\n",
       "      <th>39</th>\n",
       "      <td>56159</td>\n",
       "      <td>555</td>\n",
       "      <td>902</td>\n",
       "      <td>10002</td>\n",
       "      <td>212</td>\n",
       "      <td>2916</td>\n",
       "    </tr>\n",
       "  </tbody>\n",
       "</table>\n",
       "</div>"
      ],
      "text/plain": [
       "    Fresh   Milk  Grocery  Frozen  Detergents_Paper  Delicassen\n",
       "3   13265   1196     4221    6404               507        1788\n",
       "4   22615   5410     7198    3915              1777        5185\n",
       "10   3366   5403    12974    4400              5977        1744\n",
       "22  31276   1917     4469    9408              2381        4334\n",
       "23  26373  36423    22019    5154              4337       16523\n",
       "33  29729   4786     7326    6130               361        1083\n",
       "39  56159    555      902   10002               212        2916"
      ]
     },
     "metadata": {
      "tags": []
     },
     "output_type": "display_data"
    }
   ],
   "source": [
    "# Frozen\n",
    "frozen_q3 = stats.at['75%','Frozen']\n",
    "display(data.loc[data.Frozen > frozen_q3, :].head(7))"
   ]
  },
  {
   "cell_type": "markdown",
   "metadata": {
    "colab_type": "text",
    "id": "9BrKX5vbJ2x9"
   },
   "source": [
    "Hence we'll be choosing:\n",
    "- 43: Very low \"Fresh\" and very high \"Grocery\"\n",
    "- 12: Very low \"Frozen\" and very high \"Fresh\"\n",
    "- 39: Very high \"Frozen\" and very low \"Detergens_Paper\""
   ]
  },
  {
   "cell_type": "code",
   "execution_count": 35,
   "metadata": {
    "colab": {
     "base_uri": "https://localhost:8080/",
     "height": 159
    },
    "colab_type": "code",
    "executionInfo": {
     "elapsed": 819,
     "status": "ok",
     "timestamp": 1565192442327,
     "user": {
      "displayName": "Alan Bernardo Palacio",
      "photoUrl": "",
      "userId": "14099975777942802468"
     },
     "user_tz": 180
    },
    "id": "tOYL4Z0SJ2x-",
    "outputId": "2f189a33-5450-40be-985c-931056845781"
   },
   "outputs": [
    {
     "name": "stdout",
     "output_type": "stream",
     "text": [
      "Chosen samples of wholesale customers dataset:\n"
     ]
    },
    {
     "data": {
      "text/html": [
       "<div>\n",
       "<style scoped>\n",
       "    .dataframe tbody tr th:only-of-type {\n",
       "        vertical-align: middle;\n",
       "    }\n",
       "\n",
       "    .dataframe tbody tr th {\n",
       "        vertical-align: top;\n",
       "    }\n",
       "\n",
       "    .dataframe thead th {\n",
       "        text-align: right;\n",
       "    }\n",
       "</style>\n",
       "<table border=\"1\" class=\"dataframe\">\n",
       "  <thead>\n",
       "    <tr style=\"text-align: right;\">\n",
       "      <th></th>\n",
       "      <th>Fresh</th>\n",
       "      <th>Milk</th>\n",
       "      <th>Grocery</th>\n",
       "      <th>Frozen</th>\n",
       "      <th>Detergents_Paper</th>\n",
       "      <th>Delicassen</th>\n",
       "    </tr>\n",
       "  </thead>\n",
       "  <tbody>\n",
       "    <tr>\n",
       "      <th>0</th>\n",
       "      <td>630</td>\n",
       "      <td>11095</td>\n",
       "      <td>23998</td>\n",
       "      <td>787</td>\n",
       "      <td>9529</td>\n",
       "      <td>72</td>\n",
       "    </tr>\n",
       "    <tr>\n",
       "      <th>1</th>\n",
       "      <td>31714</td>\n",
       "      <td>12319</td>\n",
       "      <td>11757</td>\n",
       "      <td>287</td>\n",
       "      <td>3881</td>\n",
       "      <td>2931</td>\n",
       "    </tr>\n",
       "    <tr>\n",
       "      <th>2</th>\n",
       "      <td>56159</td>\n",
       "      <td>555</td>\n",
       "      <td>902</td>\n",
       "      <td>10002</td>\n",
       "      <td>212</td>\n",
       "      <td>2916</td>\n",
       "    </tr>\n",
       "  </tbody>\n",
       "</table>\n",
       "</div>"
      ],
      "text/plain": [
       "   Fresh   Milk  Grocery  Frozen  Detergents_Paper  Delicassen\n",
       "0    630  11095    23998     787              9529          72\n",
       "1  31714  12319    11757     287              3881        2931\n",
       "2  56159    555      902   10002               212        2916"
      ]
     },
     "metadata": {
      "tags": []
     },
     "output_type": "display_data"
    }
   ],
   "source": [
    "# TODO: Select three indices of your choice you wish to sample from the dataset\n",
    "indices = [43, 12, 39]\n",
    "\n",
    "# Create a DataFrame of the chosen samples\n",
    "# .reset_index(drop = True) resets the index from 0, 1 and 2 instead of 100, 200 and 300 \n",
    "samples = pd.DataFrame(data.loc[indices], columns = data.columns).reset_index(drop = True)\n",
    "print(\"Chosen samples of wholesale customers dataset:\")\n",
    "display(samples)"
   ]
  },
  {
   "cell_type": "markdown",
   "metadata": {
    "colab_type": "text",
    "id": "697pbgbCJ2yB"
   },
   "source": [
    "**Comparison of Samples and Means**"
   ]
  },
  {
   "cell_type": "code",
   "execution_count": 36,
   "metadata": {
    "colab": {
     "base_uri": "https://localhost:8080/",
     "height": 522
    },
    "colab_type": "code",
    "executionInfo": {
     "elapsed": 1136,
     "status": "ok",
     "timestamp": 1565192444485,
     "user": {
      "displayName": "Alan Bernardo Palacio",
      "photoUrl": "",
      "userId": "14099975777942802468"
     },
     "user_tz": 180
    },
    "id": "oVeP7SzsJ2yC",
    "outputId": "a81c9ab3-a321-46bd-efe1-1ccca1084e00"
   },
   "outputs": [
    {
     "data": {
      "text/plain": [
       "<matplotlib.axes._subplots.AxesSubplot at 0x7f8fc22d7d30>"
      ]
     },
     "execution_count": 36,
     "metadata": {
      "tags": []
     },
     "output_type": "execute_result"
    },
    {
     "data": {
      "image/png": "[encoded data removed]",
      "text/plain": [
       "<Figure size 1008x576 with 1 Axes>"
      ]
     },
     "metadata": {
      "tags": []
     },
     "output_type": "display_data"
    }
   ],
   "source": [
    "# Import Seaborn, a very powerful library for Data Visualisation\n",
    "import seaborn as sns\n",
    "\n",
    "# Get the means \n",
    "mean_data = data.describe().loc['mean', :]\n",
    "\n",
    "# Append means to the samples' data\n",
    "samples_bar = samples.append(mean_data)\n",
    "\n",
    "# Construct indices\n",
    "samples_bar.index = indices + ['mean']\n",
    "\n",
    "# Plot bar plot\n",
    "samples_bar.plot(kind='bar', figsize=(14,8))"
   ]
  },
  {
   "cell_type": "code",
   "execution_count": 37,
   "metadata": {
    "colab": {
     "base_uri": "https://localhost:8080/",
     "height": 173
    },
    "colab_type": "code",
    "executionInfo": {
     "elapsed": 802,
     "status": "ok",
     "timestamp": 1565192448273,
     "user": {
      "displayName": "Alan Bernardo Palacio",
      "photoUrl": "",
      "userId": "14099975777942802468"
     },
     "user_tz": 180
    },
    "id": "QDk00qDNvOhM",
    "outputId": "581fe3b1-4c9d-4119-b2cc-9512cafef2c5"
   },
   "outputs": [
    {
     "data": {
      "text/html": [
       "<div>\n",
       "<style scoped>\n",
       "    .dataframe tbody tr th:only-of-type {\n",
       "        vertical-align: middle;\n",
       "    }\n",
       "\n",
       "    .dataframe tbody tr th {\n",
       "        vertical-align: top;\n",
       "    }\n",
       "\n",
       "    .dataframe thead th {\n",
       "        text-align: right;\n",
       "    }\n",
       "</style>\n",
       "<table border=\"1\" class=\"dataframe\">\n",
       "  <thead>\n",
       "    <tr style=\"text-align: right;\">\n",
       "      <th></th>\n",
       "      <th>Fresh</th>\n",
       "      <th>Milk</th>\n",
       "      <th>Grocery</th>\n",
       "      <th>Frozen</th>\n",
       "      <th>Detergents_Paper</th>\n",
       "      <th>Delicassen</th>\n",
       "    </tr>\n",
       "  </thead>\n",
       "  <tbody>\n",
       "    <tr>\n",
       "      <th>43</th>\n",
       "      <td>630.000000</td>\n",
       "      <td>11095.000000</td>\n",
       "      <td>23998.000000</td>\n",
       "      <td>787.000000</td>\n",
       "      <td>9529.000000</td>\n",
       "      <td>72.000000</td>\n",
       "    </tr>\n",
       "    <tr>\n",
       "      <th>12</th>\n",
       "      <td>31714.000000</td>\n",
       "      <td>12319.000000</td>\n",
       "      <td>11757.000000</td>\n",
       "      <td>287.000000</td>\n",
       "      <td>3881.000000</td>\n",
       "      <td>2931.000000</td>\n",
       "    </tr>\n",
       "    <tr>\n",
       "      <th>39</th>\n",
       "      <td>56159.000000</td>\n",
       "      <td>555.000000</td>\n",
       "      <td>902.000000</td>\n",
       "      <td>10002.000000</td>\n",
       "      <td>212.000000</td>\n",
       "      <td>2916.000000</td>\n",
       "    </tr>\n",
       "    <tr>\n",
       "      <th>mean</th>\n",
       "      <td>12000.297727</td>\n",
       "      <td>5796.265909</td>\n",
       "      <td>7951.277273</td>\n",
       "      <td>3071.931818</td>\n",
       "      <td>2881.493182</td>\n",
       "      <td>1524.870455</td>\n",
       "    </tr>\n",
       "  </tbody>\n",
       "</table>\n",
       "</div>"
      ],
      "text/plain": [
       "             Fresh          Milk  ...  Detergents_Paper   Delicassen\n",
       "43      630.000000  11095.000000  ...       9529.000000    72.000000\n",
       "12    31714.000000  12319.000000  ...       3881.000000  2931.000000\n",
       "39    56159.000000    555.000000  ...        212.000000  2916.000000\n",
       "mean  12000.297727   5796.265909  ...       2881.493182  1524.870455\n",
       "\n",
       "[4 rows x 6 columns]"
      ]
     },
     "execution_count": 37,
     "metadata": {
      "tags": []
     },
     "output_type": "execute_result"
    }
   ],
   "source": [
    "samples_bar"
   ]
  },
  {
   "cell_type": "markdown",
   "metadata": {
    "colab_type": "text",
    "id": "vEL9hkqMJ2yE"
   },
   "source": [
    "**Comparing Samples' Percentiles**"
   ]
  },
  {
   "cell_type": "code",
   "execution_count": 38,
   "metadata": {
    "colab": {
     "base_uri": "https://localhost:8080/",
     "height": 365
    },
    "colab_type": "code",
    "executionInfo": {
     "elapsed": 1284,
     "status": "ok",
     "timestamp": 1565192544837,
     "user": {
      "displayName": "Alan Bernardo Palacio",
      "photoUrl": "",
      "userId": "14099975777942802468"
     },
     "user_tz": 180
    },
    "id": "V4O4xP3ZJ2yE",
    "outputId": "adc644b2-b641-4852-9502-f0399e90156a"
   },
   "outputs": [
    {
     "data": {
      "text/plain": [
       "<matplotlib.axes._subplots.AxesSubplot at 0x7f8fcc4b06d8>"
      ]
     },
     "execution_count": 38,
     "metadata": {
      "tags": []
     },
     "output_type": "execute_result"
    },
    {
     "data": {
      "image/png": "[encoded data removed]",
      "text/plain": [
       "<Figure size 432x288 with 2 Axes>"
      ]
     },
     "metadata": {
      "tags": []
     },
     "output_type": "display_data"
    }
   ],
   "source": [
    "# First, calculate the percentile ranks of the whole dataset.\n",
    "percentiles = data.rank(pct=True)\n",
    "\n",
    "# Then, round it up, and multiply by 100\n",
    "percentiles = 100*percentiles.round(decimals=3)\n",
    "\n",
    "# Select the indices you chose from the percentiles dataframe\n",
    "percentiles = percentiles.iloc[indices]\n",
    "\n",
    "# Now, create the heat map using the seaborn library\n",
    "sns.heatmap(percentiles, vmin=1, vmax=99, annot=True)"
   ]
  },
  {
   "cell_type": "code",
   "execution_count": 39,
   "metadata": {
    "colab": {
     "base_uri": "https://localhost:8080/",
     "height": 1000
    },
    "colab_type": "code",
    "executionInfo": {
     "elapsed": 860,
     "status": "ok",
     "timestamp": 1565192554455,
     "user": {
      "displayName": "Alan Bernardo Palacio",
      "photoUrl": "",
      "userId": "14099975777942802468"
     },
     "user_tz": 180
    },
    "id": "BSL-0x1Bvumh",
    "outputId": "f7d3a4e4-6289-40d0-dfb6-b0a7a406ce8a"
   },
   "outputs": [
    {
     "data": {
      "text/html": [
       "<div>\n",
       "<style scoped>\n",
       "    .dataframe tbody tr th:only-of-type {\n",
       "        vertical-align: middle;\n",
       "    }\n",
       "\n",
       "    .dataframe tbody tr th {\n",
       "        vertical-align: top;\n",
       "    }\n",
       "\n",
       "    .dataframe thead th {\n",
       "        text-align: right;\n",
       "    }\n",
       "</style>\n",
       "<table border=\"1\" class=\"dataframe\">\n",
       "  <thead>\n",
       "    <tr style=\"text-align: right;\">\n",
       "      <th></th>\n",
       "      <th>Fresh</th>\n",
       "      <th>Milk</th>\n",
       "      <th>Grocery</th>\n",
       "      <th>Frozen</th>\n",
       "      <th>Detergents_Paper</th>\n",
       "      <th>Delicassen</th>\n",
       "    </tr>\n",
       "  </thead>\n",
       "  <tbody>\n",
       "    <tr>\n",
       "      <th>0</th>\n",
       "      <td>0.663636</td>\n",
       "      <td>0.838636</td>\n",
       "      <td>0.650000</td>\n",
       "      <td>0.075000</td>\n",
       "      <td>0.681818</td>\n",
       "      <td>0.629545</td>\n",
       "    </tr>\n",
       "    <tr>\n",
       "      <th>1</th>\n",
       "      <td>0.440909</td>\n",
       "      <td>0.847727</td>\n",
       "      <td>0.718182</td>\n",
       "      <td>0.545455</td>\n",
       "      <td>0.704545</td>\n",
       "      <td>0.740909</td>\n",
       "    </tr>\n",
       "    <tr>\n",
       "      <th>2</th>\n",
       "      <td>0.415909</td>\n",
       "      <td>0.820455</td>\n",
       "      <td>0.659091</td>\n",
       "      <td>0.636364</td>\n",
       "      <td>0.722727</td>\n",
       "      <td>0.988636</td>\n",
       "    </tr>\n",
       "    <tr>\n",
       "      <th>3</th>\n",
       "      <td>0.677273</td>\n",
       "      <td>0.187500</td>\n",
       "      <td>0.465909</td>\n",
       "      <td>0.879545</td>\n",
       "      <td>0.406818</td>\n",
       "      <td>0.747727</td>\n",
       "    </tr>\n",
       "    <tr>\n",
       "      <th>4</th>\n",
       "      <td>0.856818</td>\n",
       "      <td>0.647727</td>\n",
       "      <td>0.636364</td>\n",
       "      <td>0.775000</td>\n",
       "      <td>0.629545</td>\n",
       "      <td>0.968182</td>\n",
       "    </tr>\n",
       "    <tr>\n",
       "      <th>5</th>\n",
       "      <td>0.543182</td>\n",
       "      <td>0.800000</td>\n",
       "      <td>0.529545</td>\n",
       "      <td>0.238636</td>\n",
       "      <td>0.631818</td>\n",
       "      <td>0.672727</td>\n",
       "    </tr>\n",
       "    <tr>\n",
       "      <th>6</th>\n",
       "      <td>0.645455</td>\n",
       "      <td>0.448864</td>\n",
       "      <td>0.618182</td>\n",
       "      <td>0.175000</td>\n",
       "      <td>0.697727</td>\n",
       "      <td>0.313636</td>\n",
       "    </tr>\n",
       "    <tr>\n",
       "      <th>7</th>\n",
       "      <td>0.463636</td>\n",
       "      <td>0.604545</td>\n",
       "      <td>0.711364</td>\n",
       "      <td>0.522727</td>\n",
       "      <td>0.706818</td>\n",
       "      <td>0.865909</td>\n",
       "    </tr>\n",
       "    <tr>\n",
       "      <th>8</th>\n",
       "      <td>0.388636</td>\n",
       "      <td>0.504545</td>\n",
       "      <td>0.581818</td>\n",
       "      <td>0.153409</td>\n",
       "      <td>0.627273</td>\n",
       "      <td>0.426136</td>\n",
       "    </tr>\n",
       "    <tr>\n",
       "      <th>9</th>\n",
       "      <td>0.395455</td>\n",
       "      <td>0.877273</td>\n",
       "      <td>0.900000</td>\n",
       "      <td>0.418182</td>\n",
       "      <td>0.900000</td>\n",
       "      <td>0.793182</td>\n",
       "    </tr>\n",
       "    <tr>\n",
       "      <th>10</th>\n",
       "      <td>0.269318</td>\n",
       "      <td>0.645455</td>\n",
       "      <td>0.820455</td>\n",
       "      <td>0.795455</td>\n",
       "      <td>0.843182</td>\n",
       "      <td>0.731818</td>\n",
       "    </tr>\n",
       "    <tr>\n",
       "      <th>11</th>\n",
       "      <td>0.675000</td>\n",
       "      <td>0.170455</td>\n",
       "      <td>0.477273</td>\n",
       "      <td>0.479545</td>\n",
       "      <td>0.420455</td>\n",
       "      <td>0.288636</td>\n",
       "    </tr>\n",
       "    <tr>\n",
       "      <th>12</th>\n",
       "      <td>0.936364</td>\n",
       "      <td>0.902273</td>\n",
       "      <td>0.790909</td>\n",
       "      <td>0.106818</td>\n",
       "      <td>0.745455</td>\n",
       "      <td>0.897727</td>\n",
       "    </tr>\n",
       "    <tr>\n",
       "      <th>13</th>\n",
       "      <td>0.838636</td>\n",
       "      <td>0.688636</td>\n",
       "      <td>0.859091</td>\n",
       "      <td>0.713636</td>\n",
       "      <td>0.861364</td>\n",
       "      <td>0.340909</td>\n",
       "    </tr>\n",
       "    <tr>\n",
       "      <th>14</th>\n",
       "      <td>0.872727</td>\n",
       "      <td>0.834091</td>\n",
       "      <td>0.797727</td>\n",
       "      <td>0.109091</td>\n",
       "      <td>0.818182</td>\n",
       "      <td>0.818182</td>\n",
       "    </tr>\n",
       "    <tr>\n",
       "      <th>15</th>\n",
       "      <td>0.572727</td>\n",
       "      <td>0.163636</td>\n",
       "      <td>0.440909</td>\n",
       "      <td>0.134091</td>\n",
       "      <td>0.547727</td>\n",
       "      <td>0.256818</td>\n",
       "    </tr>\n",
       "    <tr>\n",
       "      <th>16</th>\n",
       "      <td>0.109091</td>\n",
       "      <td>0.822727</td>\n",
       "      <td>0.800000</td>\n",
       "      <td>0.050000</td>\n",
       "      <td>0.786364</td>\n",
       "      <td>0.550000</td>\n",
       "    </tr>\n",
       "    <tr>\n",
       "      <th>17</th>\n",
       "      <td>0.381818</td>\n",
       "      <td>0.684091</td>\n",
       "      <td>0.363636</td>\n",
       "      <td>0.293182</td>\n",
       "      <td>0.334091</td>\n",
       "      <td>0.950000</td>\n",
       "    </tr>\n",
       "    <tr>\n",
       "      <th>18</th>\n",
       "      <td>0.793182</td>\n",
       "      <td>0.702273</td>\n",
       "      <td>0.736364</td>\n",
       "      <td>0.600000</td>\n",
       "      <td>0.686364</td>\n",
       "      <td>0.918182</td>\n",
       "    </tr>\n",
       "    <tr>\n",
       "      <th>19</th>\n",
       "      <td>0.470455</td>\n",
       "      <td>0.388636</td>\n",
       "      <td>0.713636</td>\n",
       "      <td>0.240909</td>\n",
       "      <td>0.670455</td>\n",
       "      <td>0.290909</td>\n",
       "    </tr>\n",
       "    <tr>\n",
       "      <th>20</th>\n",
       "      <td>0.768182</td>\n",
       "      <td>0.577273</td>\n",
       "      <td>0.486364</td>\n",
       "      <td>0.384091</td>\n",
       "      <td>0.654545</td>\n",
       "      <td>0.797727</td>\n",
       "    </tr>\n",
       "    <tr>\n",
       "      <th>21</th>\n",
       "      <td>0.372727</td>\n",
       "      <td>0.095455</td>\n",
       "      <td>0.213636</td>\n",
       "      <td>0.738636</td>\n",
       "      <td>0.338636</td>\n",
       "      <td>0.331818</td>\n",
       "    </tr>\n",
       "    <tr>\n",
       "      <th>22</th>\n",
       "      <td>0.931818</td>\n",
       "      <td>0.311364</td>\n",
       "      <td>0.475000</td>\n",
       "      <td>0.938636</td>\n",
       "      <td>0.661364</td>\n",
       "      <td>0.943182</td>\n",
       "    </tr>\n",
       "    <tr>\n",
       "      <th>23</th>\n",
       "      <td>0.893182</td>\n",
       "      <td>0.988636</td>\n",
       "      <td>0.936364</td>\n",
       "      <td>0.831818</td>\n",
       "      <td>0.779545</td>\n",
       "      <td>0.997727</td>\n",
       "    </tr>\n",
       "    <tr>\n",
       "      <th>24</th>\n",
       "      <td>0.859091</td>\n",
       "      <td>0.845455</td>\n",
       "      <td>0.838636</td>\n",
       "      <td>0.693182</td>\n",
       "      <td>0.784091</td>\n",
       "      <td>0.975000</td>\n",
       "    </tr>\n",
       "    <tr>\n",
       "      <th>25</th>\n",
       "      <td>0.734091</td>\n",
       "      <td>0.560227</td>\n",
       "      <td>0.652273</td>\n",
       "      <td>0.070455</td>\n",
       "      <td>0.754545</td>\n",
       "      <td>0.043182</td>\n",
       "    </tr>\n",
       "    <tr>\n",
       "      <th>26</th>\n",
       "      <td>0.570455</td>\n",
       "      <td>0.129545</td>\n",
       "      <td>0.356818</td>\n",
       "      <td>0.718182</td>\n",
       "      <td>0.234091</td>\n",
       "      <td>0.459091</td>\n",
       "    </tr>\n",
       "    <tr>\n",
       "      <th>27</th>\n",
       "      <td>0.697727</td>\n",
       "      <td>0.081818</td>\n",
       "      <td>0.377273</td>\n",
       "      <td>0.177273</td>\n",
       "      <td>0.102273</td>\n",
       "      <td>0.295455</td>\n",
       "    </tr>\n",
       "    <tr>\n",
       "      <th>28</th>\n",
       "      <td>0.297727</td>\n",
       "      <td>0.956818</td>\n",
       "      <td>0.956818</td>\n",
       "      <td>0.415909</td>\n",
       "      <td>0.918182</td>\n",
       "      <td>0.970455</td>\n",
       "    </tr>\n",
       "    <tr>\n",
       "      <th>29</th>\n",
       "      <td>0.972727</td>\n",
       "      <td>0.340909</td>\n",
       "      <td>0.329545</td>\n",
       "      <td>0.429545</td>\n",
       "      <td>0.563636</td>\n",
       "      <td>0.456818</td>\n",
       "    </tr>\n",
       "    <tr>\n",
       "      <th>...</th>\n",
       "      <td>...</td>\n",
       "      <td>...</td>\n",
       "      <td>...</td>\n",
       "      <td>...</td>\n",
       "      <td>...</td>\n",
       "      <td>...</td>\n",
       "    </tr>\n",
       "    <tr>\n",
       "      <th>410</th>\n",
       "      <td>0.425000</td>\n",
       "      <td>0.338636</td>\n",
       "      <td>0.481818</td>\n",
       "      <td>0.472727</td>\n",
       "      <td>0.636364</td>\n",
       "      <td>0.772727</td>\n",
       "    </tr>\n",
       "    <tr>\n",
       "      <th>411</th>\n",
       "      <td>0.172727</td>\n",
       "      <td>0.463636</td>\n",
       "      <td>0.397727</td>\n",
       "      <td>0.502273</td>\n",
       "      <td>0.225000</td>\n",
       "      <td>0.945455</td>\n",
       "    </tr>\n",
       "    <tr>\n",
       "      <th>412</th>\n",
       "      <td>0.018182</td>\n",
       "      <td>0.493182</td>\n",
       "      <td>0.809091</td>\n",
       "      <td>0.031818</td>\n",
       "      <td>0.693182</td>\n",
       "      <td>0.047727</td>\n",
       "    </tr>\n",
       "    <tr>\n",
       "      <th>413</th>\n",
       "      <td>0.338636</td>\n",
       "      <td>0.597727</td>\n",
       "      <td>0.604545</td>\n",
       "      <td>0.988636</td>\n",
       "      <td>0.525000</td>\n",
       "      <td>0.850000</td>\n",
       "    </tr>\n",
       "    <tr>\n",
       "      <th>414</th>\n",
       "      <td>0.390909</td>\n",
       "      <td>0.325000</td>\n",
       "      <td>0.413636</td>\n",
       "      <td>0.854545</td>\n",
       "      <td>0.565909</td>\n",
       "      <td>0.169318</td>\n",
       "    </tr>\n",
       "    <tr>\n",
       "      <th>415</th>\n",
       "      <td>0.475000</td>\n",
       "      <td>0.675000</td>\n",
       "      <td>0.686364</td>\n",
       "      <td>0.527273</td>\n",
       "      <td>0.727273</td>\n",
       "      <td>0.768182</td>\n",
       "    </tr>\n",
       "    <tr>\n",
       "      <th>416</th>\n",
       "      <td>0.302273</td>\n",
       "      <td>0.872727</td>\n",
       "      <td>0.763636</td>\n",
       "      <td>0.296591</td>\n",
       "      <td>0.863636</td>\n",
       "      <td>0.513636</td>\n",
       "    </tr>\n",
       "    <tr>\n",
       "      <th>417</th>\n",
       "      <td>0.343182</td>\n",
       "      <td>0.654545</td>\n",
       "      <td>0.768182</td>\n",
       "      <td>0.128409</td>\n",
       "      <td>0.720455</td>\n",
       "      <td>0.543182</td>\n",
       "    </tr>\n",
       "    <tr>\n",
       "      <th>418</th>\n",
       "      <td>0.081818</td>\n",
       "      <td>0.809091</td>\n",
       "      <td>0.895455</td>\n",
       "      <td>0.046591</td>\n",
       "      <td>0.865909</td>\n",
       "      <td>0.432955</td>\n",
       "    </tr>\n",
       "    <tr>\n",
       "      <th>419</th>\n",
       "      <td>0.520455</td>\n",
       "      <td>0.527273</td>\n",
       "      <td>0.265909</td>\n",
       "      <td>0.220455</td>\n",
       "      <td>0.615909</td>\n",
       "      <td>0.686364</td>\n",
       "    </tr>\n",
       "    <tr>\n",
       "      <th>420</th>\n",
       "      <td>0.311364</td>\n",
       "      <td>0.631818</td>\n",
       "      <td>0.822727</td>\n",
       "      <td>0.002273</td>\n",
       "      <td>0.875000</td>\n",
       "      <td>0.650000</td>\n",
       "    </tr>\n",
       "    <tr>\n",
       "      <th>421</th>\n",
       "      <td>0.759091</td>\n",
       "      <td>0.595455</td>\n",
       "      <td>0.702273</td>\n",
       "      <td>0.370455</td>\n",
       "      <td>0.713636</td>\n",
       "      <td>0.745455</td>\n",
       "    </tr>\n",
       "    <tr>\n",
       "      <th>422</th>\n",
       "      <td>0.895455</td>\n",
       "      <td>0.227273</td>\n",
       "      <td>0.463636</td>\n",
       "      <td>0.287500</td>\n",
       "      <td>0.534091</td>\n",
       "      <td>0.602273</td>\n",
       "    </tr>\n",
       "    <tr>\n",
       "      <th>423</th>\n",
       "      <td>0.770455</td>\n",
       "      <td>0.513636</td>\n",
       "      <td>0.490909</td>\n",
       "      <td>0.381818</td>\n",
       "      <td>0.634091</td>\n",
       "      <td>0.372727</td>\n",
       "    </tr>\n",
       "    <tr>\n",
       "      <th>424</th>\n",
       "      <td>0.754545</td>\n",
       "      <td>0.423864</td>\n",
       "      <td>0.804545</td>\n",
       "      <td>0.311364</td>\n",
       "      <td>0.702273</td>\n",
       "      <td>0.147727</td>\n",
       "    </tr>\n",
       "    <tr>\n",
       "      <th>425</th>\n",
       "      <td>0.611364</td>\n",
       "      <td>0.381818</td>\n",
       "      <td>0.327273</td>\n",
       "      <td>0.977273</td>\n",
       "      <td>0.106818</td>\n",
       "      <td>0.770455</td>\n",
       "    </tr>\n",
       "    <tr>\n",
       "      <th>426</th>\n",
       "      <td>0.672727</td>\n",
       "      <td>0.831818</td>\n",
       "      <td>0.845455</td>\n",
       "      <td>0.715909</td>\n",
       "      <td>0.820455</td>\n",
       "      <td>0.775000</td>\n",
       "    </tr>\n",
       "    <tr>\n",
       "      <th>427</th>\n",
       "      <td>0.929545</td>\n",
       "      <td>0.945455</td>\n",
       "      <td>0.561364</td>\n",
       "      <td>0.975000</td>\n",
       "      <td>0.379545</td>\n",
       "      <td>0.592045</td>\n",
       "    </tr>\n",
       "    <tr>\n",
       "      <th>428</th>\n",
       "      <td>0.238636</td>\n",
       "      <td>0.668182</td>\n",
       "      <td>0.509091</td>\n",
       "      <td>0.597727</td>\n",
       "      <td>0.518182</td>\n",
       "      <td>0.193182</td>\n",
       "    </tr>\n",
       "    <tr>\n",
       "      <th>429</th>\n",
       "      <td>0.509091</td>\n",
       "      <td>0.277273</td>\n",
       "      <td>0.425000</td>\n",
       "      <td>0.013636</td>\n",
       "      <td>0.079545</td>\n",
       "      <td>0.854545</td>\n",
       "    </tr>\n",
       "    <tr>\n",
       "      <th>430</th>\n",
       "      <td>0.247727</td>\n",
       "      <td>0.560227</td>\n",
       "      <td>0.879545</td>\n",
       "      <td>0.206818</td>\n",
       "      <td>0.231818</td>\n",
       "      <td>0.790909</td>\n",
       "    </tr>\n",
       "    <tr>\n",
       "      <th>431</th>\n",
       "      <td>0.502273</td>\n",
       "      <td>0.656818</td>\n",
       "      <td>0.531818</td>\n",
       "      <td>0.972727</td>\n",
       "      <td>0.593182</td>\n",
       "      <td>0.681818</td>\n",
       "    </tr>\n",
       "    <tr>\n",
       "      <th>432</th>\n",
       "      <td>0.836364</td>\n",
       "      <td>0.175000</td>\n",
       "      <td>0.500000</td>\n",
       "      <td>0.097727</td>\n",
       "      <td>0.586364</td>\n",
       "      <td>0.236364</td>\n",
       "    </tr>\n",
       "    <tr>\n",
       "      <th>433</th>\n",
       "      <td>0.161364</td>\n",
       "      <td>0.454545</td>\n",
       "      <td>0.119318</td>\n",
       "      <td>0.504545</td>\n",
       "      <td>0.327273</td>\n",
       "      <td>0.668182</td>\n",
       "    </tr>\n",
       "    <tr>\n",
       "      <th>434</th>\n",
       "      <td>0.745455</td>\n",
       "      <td>0.545455</td>\n",
       "      <td>0.663636</td>\n",
       "      <td>0.245455</td>\n",
       "      <td>0.659091</td>\n",
       "      <td>0.470455</td>\n",
       "    </tr>\n",
       "    <tr>\n",
       "      <th>435</th>\n",
       "      <td>0.918182</td>\n",
       "      <td>0.897727</td>\n",
       "      <td>0.875000</td>\n",
       "      <td>0.968182</td>\n",
       "      <td>0.167045</td>\n",
       "      <td>0.820455</td>\n",
       "    </tr>\n",
       "    <tr>\n",
       "      <th>436</th>\n",
       "      <td>0.959091</td>\n",
       "      <td>0.229545</td>\n",
       "      <td>0.045455</td>\n",
       "      <td>0.809091</td>\n",
       "      <td>0.092045</td>\n",
       "      <td>0.836364</td>\n",
       "    </tr>\n",
       "    <tr>\n",
       "      <th>437</th>\n",
       "      <td>0.702273</td>\n",
       "      <td>0.936364</td>\n",
       "      <td>0.975000</td>\n",
       "      <td>0.163636</td>\n",
       "      <td>0.972727</td>\n",
       "      <td>0.765909</td>\n",
       "    </tr>\n",
       "    <tr>\n",
       "      <th>438</th>\n",
       "      <td>0.575000</td>\n",
       "      <td>0.322727</td>\n",
       "      <td>0.268182</td>\n",
       "      <td>0.375000</td>\n",
       "      <td>0.150000</td>\n",
       "      <td>0.800000</td>\n",
       "    </tr>\n",
       "    <tr>\n",
       "      <th>439</th>\n",
       "      <td>0.215909</td>\n",
       "      <td>0.272727</td>\n",
       "      <td>0.313636</td>\n",
       "      <td>0.020455</td>\n",
       "      <td>0.395455</td>\n",
       "      <td>0.038636</td>\n",
       "    </tr>\n",
       "  </tbody>\n",
       "</table>\n",
       "<p>440 rows × 6 columns</p>\n",
       "</div>"
      ],
      "text/plain": [
       "        Fresh      Milk   Grocery    Frozen  Detergents_Paper  Delicassen\n",
       "0    0.663636  0.838636  0.650000  0.075000          0.681818    0.629545\n",
       "1    0.440909  0.847727  0.718182  0.545455          0.704545    0.740909\n",
       "2    0.415909  0.820455  0.659091  0.636364          0.722727    0.988636\n",
       "3    0.677273  0.187500  0.465909  0.879545          0.406818    0.747727\n",
       "4    0.856818  0.647727  0.636364  0.775000          0.629545    0.968182\n",
       "5    0.543182  0.800000  0.529545  0.238636          0.631818    0.672727\n",
       "6    0.645455  0.448864  0.618182  0.175000          0.697727    0.313636\n",
       "7    0.463636  0.604545  0.711364  0.522727          0.706818    0.865909\n",
       "8    0.388636  0.504545  0.581818  0.153409          0.627273    0.426136\n",
       "9    0.395455  0.877273  0.900000  0.418182          0.900000    0.793182\n",
       "10   0.269318  0.645455  0.820455  0.795455          0.843182    0.731818\n",
       "11   0.675000  0.170455  0.477273  0.479545          0.420455    0.288636\n",
       "12   0.936364  0.902273  0.790909  0.106818          0.745455    0.897727\n",
       "13   0.838636  0.688636  0.859091  0.713636          0.861364    0.340909\n",
       "14   0.872727  0.834091  0.797727  0.109091          0.818182    0.818182\n",
       "15   0.572727  0.163636  0.440909  0.134091          0.547727    0.256818\n",
       "16   0.109091  0.822727  0.800000  0.050000          0.786364    0.550000\n",
       "17   0.381818  0.684091  0.363636  0.293182          0.334091    0.950000\n",
       "18   0.793182  0.702273  0.736364  0.600000          0.686364    0.918182\n",
       "19   0.470455  0.388636  0.713636  0.240909          0.670455    0.290909\n",
       "20   0.768182  0.577273  0.486364  0.384091          0.654545    0.797727\n",
       "21   0.372727  0.095455  0.213636  0.738636          0.338636    0.331818\n",
       "22   0.931818  0.311364  0.475000  0.938636          0.661364    0.943182\n",
       "23   0.893182  0.988636  0.936364  0.831818          0.779545    0.997727\n",
       "24   0.859091  0.845455  0.838636  0.693182          0.784091    0.975000\n",
       "25   0.734091  0.560227  0.652273  0.070455          0.754545    0.043182\n",
       "26   0.570455  0.129545  0.356818  0.718182          0.234091    0.459091\n",
       "27   0.697727  0.081818  0.377273  0.177273          0.102273    0.295455\n",
       "28   0.297727  0.956818  0.956818  0.415909          0.918182    0.970455\n",
       "29   0.972727  0.340909  0.329545  0.429545          0.563636    0.456818\n",
       "..        ...       ...       ...       ...               ...         ...\n",
       "410  0.425000  0.338636  0.481818  0.472727          0.636364    0.772727\n",
       "411  0.172727  0.463636  0.397727  0.502273          0.225000    0.945455\n",
       "412  0.018182  0.493182  0.809091  0.031818          0.693182    0.047727\n",
       "413  0.338636  0.597727  0.604545  0.988636          0.525000    0.850000\n",
       "414  0.390909  0.325000  0.413636  0.854545          0.565909    0.169318\n",
       "415  0.475000  0.675000  0.686364  0.527273          0.727273    0.768182\n",
       "416  0.302273  0.872727  0.763636  0.296591          0.863636    0.513636\n",
       "417  0.343182  0.654545  0.768182  0.128409          0.720455    0.543182\n",
       "418  0.081818  0.809091  0.895455  0.046591          0.865909    0.432955\n",
       "419  0.520455  0.527273  0.265909  0.220455          0.615909    0.686364\n",
       "420  0.311364  0.631818  0.822727  0.002273          0.875000    0.650000\n",
       "421  0.759091  0.595455  0.702273  0.370455          0.713636    0.745455\n",
       "422  0.895455  0.227273  0.463636  0.287500          0.534091    0.602273\n",
       "423  0.770455  0.513636  0.490909  0.381818          0.634091    0.372727\n",
       "424  0.754545  0.423864  0.804545  0.311364          0.702273    0.147727\n",
       "425  0.611364  0.381818  0.327273  0.977273          0.106818    0.770455\n",
       "426  0.672727  0.831818  0.845455  0.715909          0.820455    0.775000\n",
       "427  0.929545  0.945455  0.561364  0.975000          0.379545    0.592045\n",
       "428  0.238636  0.668182  0.509091  0.597727          0.518182    0.193182\n",
       "429  0.509091  0.277273  0.425000  0.013636          0.079545    0.854545\n",
       "430  0.247727  0.560227  0.879545  0.206818          0.231818    0.790909\n",
       "431  0.502273  0.656818  0.531818  0.972727          0.593182    0.681818\n",
       "432  0.836364  0.175000  0.500000  0.097727          0.586364    0.236364\n",
       "433  0.161364  0.454545  0.119318  0.504545          0.327273    0.668182\n",
       "434  0.745455  0.545455  0.663636  0.245455          0.659091    0.470455\n",
       "435  0.918182  0.897727  0.875000  0.968182          0.167045    0.820455\n",
       "436  0.959091  0.229545  0.045455  0.809091          0.092045    0.836364\n",
       "437  0.702273  0.936364  0.975000  0.163636          0.972727    0.765909\n",
       "438  0.575000  0.322727  0.268182  0.375000          0.150000    0.800000\n",
       "439  0.215909  0.272727  0.313636  0.020455          0.395455    0.038636\n",
       "\n",
       "[440 rows x 6 columns]"
      ]
     },
     "execution_count": 39,
     "metadata": {
      "tags": []
     },
     "output_type": "execute_result"
    }
   ],
   "source": [
    "data.rank(pct=True)"
   ]
  },
  {
   "cell_type": "markdown",
   "metadata": {
    "colab_type": "text",
    "id": "Aj2vi2OCJ2yH"
   },
   "source": [
    "### Type of business given the behavior\n",
    "\n",
    "Consider the total purchase cost of each product category and the statistical description of the dataset above for your sample customers.  \n",
    "*What kind of establishment (customer) could each of the three samples you've chosen represent?*  \n",
    "\n",
    "Examples of establishments include places like markets, cafes, and retailers, among many others.  We could restrain the answers to 3 types of business:\n",
    "\n",
    "- Coffee Cafe\n",
    "    - Low spending on \"Fresh\", \"Frozen\" and \"Delicatessen\".\n",
    "    - Majority of spending on \"Grocery\", \"Milk\" and \"Detergents_Paper\".\n",
    "        - With some spending on \"Delicatessen\", it may be a cafe establishment serving drinks, coffee perhaps, with some ready-made food as a complimentary product.\n",
    "- Upscale Restaurant\n",
    "    - Low spending on \"Frozen\".\n",
    "    - Majority of spending is a mix of \"Fresh\", \"Milk, and \"Grocery\"\n",
    "        - This may be an upscale restaurent with almost no spending on frozen foods. \n",
    "        - Most upscale restaurants only use fresh foods. \n",
    "- Fresh Food Retailer\n",
    "    - Majority of spending is on \"Fresh\" goods with little spending on everything else except on \"Frozen\".\n",
    "        - This may be a grocery store specializing in fresh foods with some frozen goods. "
   ]
  },
  {
   "cell_type": "markdown",
   "metadata": {
    "colab_type": "text",
    "id": "r2KZr2WcJ2yI"
   },
   "source": [
    "### Implementation: Feature Relevance\n",
    "One interesting thought to consider is if one (or more) of the six product categories is actually relevant for understanding customer purchasing. That is to say, is it possible to determine whether customers purchasing some amount of one category of products will necessarily purchase some proportional amount of another category of products? We can make this determination quite easily by training a supervised regression learner on a subset of the data with one feature removed, and then score how well that model can predict the removed feature.\n",
    "\n",
    "In the code block below, you will need to implement the following:\n",
    " - Assign `new_data` a copy of the data by removing a feature of your choice using the `DataFrame.drop` function.\n",
    " - Use `sklearn.cross_validation.train_test_split` to split the dataset into training and testing sets.\n",
    "   - Use the removed feature as your target label. Set a `test_size` of `0.25` and set a `random_state`.\n",
    " - Import a decision tree regressor, set a `random_state`, and fit the learner to the training data.\n",
    " - Report the prediction score of the testing set using the regressor's `score` function."
   ]
  },
  {
   "cell_type": "code",
   "execution_count": 40,
   "metadata": {
    "colab": {
     "base_uri": "https://localhost:8080/",
     "height": 34
    },
    "colab_type": "code",
    "executionInfo": {
     "elapsed": 1019,
     "status": "ok",
     "timestamp": 1565193064235,
     "user": {
      "displayName": "Alan Bernardo Palacio",
      "photoUrl": "",
      "userId": "14099975777942802468"
     },
     "user_tz": 180
    },
    "id": "fhoBZ9qNJ2yJ",
    "outputId": "7c976ff4-13c8-4eea-c0e2-969a4edff65f"
   },
   "outputs": [
    {
     "data": {
      "text/plain": [
       "['Fresh', 'Milk', 'Grocery', 'Frozen', 'Detergents_Paper', 'Delicassen']"
      ]
     },
     "execution_count": 40,
     "metadata": {
      "tags": []
     },
     "output_type": "execute_result"
    }
   ],
   "source": [
    "# Existing features\n",
    "data.columns.tolist()"
   ]
  },
  {
   "cell_type": "code",
   "execution_count": 0,
   "metadata": {
    "colab": {},
    "colab_type": "code",
    "id": "Mpa9G73oJ2yL"
   },
   "outputs": [],
   "source": [
    "# Imports\n",
    "from sklearn.model_selection import train_test_split\n",
    "from sklearn.tree import DecisionTreeRegressor"
   ]
  },
  {
   "cell_type": "code",
   "execution_count": 42,
   "metadata": {
    "colab": {
     "base_uri": "https://localhost:8080/",
     "height": 119
    },
    "colab_type": "code",
    "executionInfo": {
     "elapsed": 806,
     "status": "ok",
     "timestamp": 1565193071084,
     "user": {
      "displayName": "Alan Bernardo Palacio",
      "photoUrl": "",
      "userId": "14099975777942802468"
     },
     "user_tz": 180
    },
    "id": "zjWxtpbkJ2yN",
    "outputId": "d192ecfc-c83c-445e-deff-22e351484146"
   },
   "outputs": [
    {
     "name": "stdout",
     "output_type": "stream",
     "text": [
      "R2 score for Fresh as dependent variable: -0.38574971020407384\n",
      "R2 score for Milk as dependent variable: 0.15627539501732116\n",
      "R2 score for Grocery as dependent variable: 0.6818840085440834\n",
      "R2 score for Frozen as dependent variable: -0.21013589012491396\n",
      "R2 score for Detergents_Paper as dependent variable: 0.27166698062685013\n",
      "R2 score for Delicassen as dependent variable: -2.254711537203931\n"
     ]
    }
   ],
   "source": [
    "# Create list to loop through\n",
    "dep_vars = list(data.columns)\n",
    "\n",
    "\n",
    "# Create loop to test each feature as a dependent variable\n",
    "for var in dep_vars:\n",
    "    \n",
    "    # TO DO: Make a copy of the DataFrame, using the 'drop' function to drop the given feature\n",
    "    new_data = data.drop([var], axis = 1)\n",
    "    # Confirm drop\n",
    "    # display(new_data.head(2))\n",
    "\n",
    "    # Create feature Series (Vector)\n",
    "    new_feature = pd.DataFrame(data.loc[:, var])\n",
    "    # Confirm creation of new feature\n",
    "    # display(new_feature.head(2))\n",
    "\n",
    "    # TODO: Split the data into training and testing sets using the given feature as the target\n",
    "    X_train, X_test, y_train, y_test = train_test_split(new_data, new_feature, test_size=0.25, random_state=42)\n",
    "\n",
    "    # TODO: Create a decision tree regressor and fit it to the training set\n",
    "    # Instantiate\n",
    "    dtr = DecisionTreeRegressor(random_state=42)\n",
    "    # Fit\n",
    "    dtr.fit(X_train, y_train)\n",
    "\n",
    "    # TODO: Report the score of the prediction using the testing set\n",
    "    # Returns R^2\n",
    "    score = dtr.score(X_test, y_test)\n",
    "    print('R2 score for {} as dependent variable: {}'.format(var, score))"
   ]
  },
  {
   "cell_type": "markdown",
   "metadata": {
    "colab_type": "text",
    "id": "sGl8AdoeJ2yP"
   },
   "source": [
    " The coefficient of determination, `R^2`, is scored between 0 and 1, with 1 being a perfect fit. A negative `R^2` implies the model fails to fit the data.\n",
    "\n",
    "\n",
    "-  We used a loop to predict every single feature as a dependent variable with the results shown above.\n",
    "- As you can see, \"Fresh\", \"Frozen\" and \"Delicatessen\" as dependent variables have negative R2 scores.\n",
    "    - Their negative scores imply that they are necessary for identifying customers' spending habits because the remaining features cannot explain the variation in them. \n",
    "- Similarly, \"Milk\" and \"Detergents_Paper\" have very low R2 scores.\n",
    "    - Their low scores also imply that they are necessary for identifying customers' spending habits.\n",
    "- However, \"Grocery\" has a R2 score of 0.68.\n",
    "    - Now this is, in my opinion, a low score. But relative to the others it is much higher.\n",
    "    - It may be not as necessary, compared to the other features, for identifying customers' spending habits.\n",
    "    - We will explore this further."
   ]
  },
  {
   "cell_type": "markdown",
   "metadata": {
    "colab_type": "text",
    "id": "5X-V_qhcJ2yR"
   },
   "source": [
    "### Visualize Feature Distributions\n",
    "To get a better understanding of the dataset, we can construct a scatter matrix of each of the six product features present in the data. If you found that the feature you attempted to predict above is relevant for identifying a specific customer, then the scatter matrix below may not show any correlation between that feature and the others. Conversely, if you believe that feature is not relevant for identifying a specific customer, the scatter matrix might show a correlation between that feature and another feature in the data. Run the code block below to produce a scatter matrix."
   ]
  },
  {
   "cell_type": "code",
   "execution_count": 46,
   "metadata": {
    "colab": {
     "base_uri": "https://localhost:8080/",
     "height": 520
    },
    "colab_type": "code",
    "executionInfo": {
     "elapsed": 3670,
     "status": "ok",
     "timestamp": 1565196226436,
     "user": {
      "displayName": "Alan Bernardo Palacio",
      "photoUrl": "",
      "userId": "14099975777942802468"
     },
     "user_tz": 180
    },
    "id": "XKvi-22_PVKR",
    "outputId": "f2500d9e-c033-41d6-e7d1-301b9750873b"
   },
   "outputs": [
    {
     "data": {
      "image/png": "[encoded data removed]",
      "text/plain": [
       "<Figure size 1008x576 with 36 Axes>"
      ]
     },
     "metadata": {
      "tags": []
     },
     "output_type": "display_data"
    }
   ],
   "source": [
    "# Produce a scatter matrix for each pair of features in the data\n",
    "from pandas.plotting import scatter_matrix\n",
    "scatter_matrix(data, alpha = 0.3, figsize = (14,8), diagonal = 'kde');"
   ]
  },
  {
   "cell_type": "markdown",
   "metadata": {
    "colab_type": "text",
    "id": "SgfcwQBUJ2yT"
   },
   "source": [
    "**Correlation Matrix**\n",
    "- This is to cross-reference with the scatter matrix above to draw more accurate insights from the data.\n",
    "- The higher the color is on the bar, the higher the correlation."
   ]
  },
  {
   "cell_type": "code",
   "execution_count": 45,
   "metadata": {
    "colab": {
     "base_uri": "https://localhost:8080/",
     "height": 582
    },
    "colab_type": "code",
    "executionInfo": {
     "elapsed": 1201,
     "status": "ok",
     "timestamp": 1565196219791,
     "user": {
      "displayName": "Alan Bernardo Palacio",
      "photoUrl": "",
      "userId": "14099975777942802468"
     },
     "user_tz": 180
    },
    "id": "kcHFrsEwJ2yV",
    "outputId": "4f9477ca-1ed0-48d7-8070-3c9e2ea009c1"
   },
   "outputs": [
    {
     "data": {
      "image/png": "[encoded data removed]",
      "text/plain": [
       "<Figure size 720x720 with 2 Axes>"
      ]
     },
     "metadata": {
      "tags": []
     },
     "output_type": "display_data"
    }
   ],
   "source": [
    "import matplotlib.pyplot as plt\n",
    "%matplotlib inline\n",
    "\n",
    "def plot_corr(df,size=10):\n",
    "    '''Function plots a graphical correlation matrix for each pair of columns in the dataframe.\n",
    "\n",
    "    Input:\n",
    "        df: pandas DataFrame\n",
    "        size: vertical and horizontal size of the plot'''\n",
    "\n",
    "    corr = df.corr()\n",
    "    fig, ax = plt.subplots(figsize=(size, size))\n",
    "    cax = ax.matshow(df, interpolation='nearest')  \n",
    "    ax.matshow(corr)\n",
    "    fig.colorbar(cax)\n",
    "    plt.xticks(range(len(corr.columns)), corr.columns);\n",
    "    plt.yticks(range(len(corr.columns)), corr.columns);\n",
    "    \n",
    "\n",
    "plot_corr(data)"
   ]
  },
  {
   "cell_type": "markdown",
   "metadata": {
    "colab_type": "text",
    "id": "PRB5Z6XgJ2yY"
   },
   "source": [
    "### Question 3\n",
    "*Are there any pairs of features which exhibit some degree of correlation? Does this confirm or deny your suspicions about the relevance of the feature you attempted to predict? How is the data for those features distributed?*  \n",
    "**Hint:** Is the data normally distributed? Where do most of the data points lie? "
   ]
  },
  {
   "cell_type": "markdown",
   "metadata": {
    "colab_type": "text",
    "id": "W9Jlu8IRJ2ya"
   },
   "source": [
    "**Answer:**\n",
    "We have plotted a correlation matrix to compare with the scatter matrix to ensure this answer is as accurate as possible. \n",
    "- The follow pairs of features seem to have some correlation as observed from the scatter plot showing a linear trend and the correlation plot showing a high correlation between the two features. We have ranked them in order of correlation from strongest to weakest.\n",
    "    - Grocery and Detergents_Paper.\n",
    "    - Grocery and Milk.\n",
    "    - Detergents_Paper and Milk (not too strong).\n",
    "- These features that are strongly correlated does lend credence to our initial claim that Grocery may not be necessary for identifying customers' spending habits.\n",
    "    - Grocery has a high correlation with Detergents_Paper and Milk that corresponds to a relatively high R2 score when we regress Grocery on all other features.\n",
    "- The data are **not normally distributed** due to the presence of many outliers.\n",
    "    - Evidently, most are skewed to the left where most of the data points lie.\n",
    "    - This indicates how normalization is required to make the data features normally distributed as clustering algorithms require them to be normally distributed."
   ]
  },
  {
   "cell_type": "markdown",
   "metadata": {
    "colab_type": "text",
    "id": "vFuzF1TLJ2yb"
   },
   "source": [
    "## Data Preprocessing\n",
    "In this section, you will preprocess the data to create a better representation of customers by performing a scaling on the data and detecting (and optionally removing) outliers. Preprocessing data is often times a critical step in assuring that results you obtain from your analysis are significant and meaningful."
   ]
  },
  {
   "cell_type": "markdown",
   "metadata": {
    "colab_type": "text",
    "id": "C_LNe_aWJ2yd"
   },
   "source": [
    "### Implementation: Feature Scaling\n",
    "If data is not normally distributed, especially if the mean and median vary significantly (indicating a large skew), it is most [often appropriate](http://econbrowser.com/archives/2014/02/use-of-logarithms-in-economics) to apply a non-linear scaling — particularly for financial data. One way to achieve this scaling is by using a [Box-Cox test](http://scipy.github.io/devdocs/generated/scipy.stats.boxcox.html), which calculates the best power transformation of the data that reduces skewness. A simpler approach which can work in most cases would be applying the natural logarithm.\n",
    "\n",
    "In the code block below, you will need to implement the following:\n",
    " - Assign a copy of the data to `log_data` after applying a logarithm scaling. Use the `np.log` function for this.\n",
    " - Assign a copy of the sample data to `log_samples` after applying a logrithm scaling. Again, use `np.log`."
   ]
  },
  {
   "cell_type": "code",
   "execution_count": 47,
   "metadata": {
    "colab": {
     "base_uri": "https://localhost:8080/",
     "height": 509
    },
    "colab_type": "code",
    "executionInfo": {
     "elapsed": 4084,
     "status": "ok",
     "timestamp": 1565196234928,
     "user": {
      "displayName": "Alan Bernardo Palacio",
      "photoUrl": "",
      "userId": "14099975777942802468"
     },
     "user_tz": 180
    },
    "id": "oqGmSl2MJ2ye",
    "outputId": "99723ced-9cec-4b21-f0ff-5081c817ceff"
   },
   "outputs": [
    {
     "data": {
      "image/png": "[encoded data removed]",
      "text/plain": [
       "<Figure size 1008x576 with 36 Axes>"
      ]
     },
     "metadata": {
      "tags": []
     },
     "output_type": "display_data"
    }
   ],
   "source": [
    "# TODO: Scale the data using the natural logarithm\n",
    "log_data = np.log(data)\n",
    "\n",
    "# TODO: Scale the sample data using the natural logarithm\n",
    "log_samples = np.log(samples)\n",
    "\n",
    "# Produce a scatter matrix for each pair of newly-transformed features\n",
    "scatter_matrix(log_data, alpha = 0.3, figsize = (14,8), diagonal = 'kde');"
   ]
  },
  {
   "cell_type": "markdown",
   "metadata": {
    "colab_type": "text",
    "id": "tTzRxhlwJ2yg"
   },
   "source": [
    "### Observation\n",
    "After applying a natural logarithm scaling to the data, the distribution of each feature should appear much more normal. For any pairs of features you may have identified earlier as being correlated, observe here whether that correlation is still present (and whether it is now stronger or weaker than before).\n",
    "\n",
    "Run the code below to see how the sample data has changed after having the natural logarithm applied to it."
   ]
  },
  {
   "cell_type": "code",
   "execution_count": 48,
   "metadata": {
    "colab": {
     "base_uri": "https://localhost:8080/",
     "height": 142
    },
    "colab_type": "code",
    "executionInfo": {
     "elapsed": 847,
     "status": "ok",
     "timestamp": 1565196238297,
     "user": {
      "displayName": "Alan Bernardo Palacio",
      "photoUrl": "",
      "userId": "14099975777942802468"
     },
     "user_tz": 180
    },
    "id": "pOTIjuInJ2yg",
    "outputId": "1f5b98f2-cc32-4458-f192-fb6e4878b330"
   },
   "outputs": [
    {
     "data": {
      "text/html": [
       "<div>\n",
       "<style scoped>\n",
       "    .dataframe tbody tr th:only-of-type {\n",
       "        vertical-align: middle;\n",
       "    }\n",
       "\n",
       "    .dataframe tbody tr th {\n",
       "        vertical-align: top;\n",
       "    }\n",
       "\n",
       "    .dataframe thead th {\n",
       "        text-align: right;\n",
       "    }\n",
       "</style>\n",
       "<table border=\"1\" class=\"dataframe\">\n",
       "  <thead>\n",
       "    <tr style=\"text-align: right;\">\n",
       "      <th></th>\n",
       "      <th>Fresh</th>\n",
       "      <th>Milk</th>\n",
       "      <th>Grocery</th>\n",
       "      <th>Frozen</th>\n",
       "      <th>Detergents_Paper</th>\n",
       "      <th>Delicassen</th>\n",
       "    </tr>\n",
       "  </thead>\n",
       "  <tbody>\n",
       "    <tr>\n",
       "      <th>0</th>\n",
       "      <td>6.445720</td>\n",
       "      <td>9.314250</td>\n",
       "      <td>10.085726</td>\n",
       "      <td>6.668228</td>\n",
       "      <td>9.162095</td>\n",
       "      <td>4.276666</td>\n",
       "    </tr>\n",
       "    <tr>\n",
       "      <th>1</th>\n",
       "      <td>10.364514</td>\n",
       "      <td>9.418898</td>\n",
       "      <td>9.372204</td>\n",
       "      <td>5.659482</td>\n",
       "      <td>8.263848</td>\n",
       "      <td>7.983099</td>\n",
       "    </tr>\n",
       "    <tr>\n",
       "      <th>2</th>\n",
       "      <td>10.935942</td>\n",
       "      <td>6.318968</td>\n",
       "      <td>6.804615</td>\n",
       "      <td>9.210540</td>\n",
       "      <td>5.356586</td>\n",
       "      <td>7.977968</td>\n",
       "    </tr>\n",
       "  </tbody>\n",
       "</table>\n",
       "</div>"
      ],
      "text/plain": [
       "       Fresh      Milk    Grocery    Frozen  Detergents_Paper  Delicassen\n",
       "0   6.445720  9.314250  10.085726  6.668228          9.162095    4.276666\n",
       "1  10.364514  9.418898   9.372204  5.659482          8.263848    7.983099\n",
       "2  10.935942  6.318968   6.804615  9.210540          5.356586    7.977968"
      ]
     },
     "metadata": {
      "tags": []
     },
     "output_type": "display_data"
    }
   ],
   "source": [
    "# Display the log-transformed sample data\n",
    "display(log_samples)"
   ]
  },
  {
   "cell_type": "code",
   "execution_count": 49,
   "metadata": {
    "colab": {
     "base_uri": "https://localhost:8080/",
     "height": 1000
    },
    "colab_type": "code",
    "executionInfo": {
     "elapsed": 1413,
     "status": "ok",
     "timestamp": 1565196241503,
     "user": {
      "displayName": "Alan Bernardo Palacio",
      "photoUrl": "",
      "userId": "14099975777942802468"
     },
     "user_tz": 180
    },
    "id": "QOUU0kxaJ2yj",
    "outputId": "62eacabf-abb2-49bc-fe62-ab86d4f0d470"
   },
   "outputs": [
    {
     "data": {
      "image/png": "[encoded data removed]",
      "text/plain": [
       "<Figure size 720x720 with 2 Axes>"
      ]
     },
     "metadata": {
      "tags": []
     },
     "output_type": "display_data"
    },
    {
     "data": {
      "image/png": "[encoded data removed]",
      "text/plain": [
       "<Figure size 720x720 with 2 Axes>"
      ]
     },
     "metadata": {
      "tags": []
     },
     "output_type": "display_data"
    }
   ],
   "source": [
    "plot_corr(data)\n",
    "plot_corr(log_data)"
   ]
  },
  {
   "cell_type": "markdown",
   "metadata": {
    "colab_type": "text",
    "id": "S_BdHMnaJ2ym"
   },
   "source": [
    "**Changes in correlations**\n",
    "- Grocery and Detergents_Paper has a weaker correlation.\n",
    "- Grocery and Milk has a slightly stronger correlation.\n",
    "- Detergents_Paper and Milk has a slightly stronger correlation."
   ]
  },
  {
   "cell_type": "markdown",
   "metadata": {
    "colab_type": "text",
    "id": "xETsd10WJ2ym"
   },
   "source": [
    "### Implementation: Outlier Detection\n",
    "Detecting outliers in the data is extremely important in the data preprocessing step of any analysis. The presence of outliers can often skew results which take into consideration these data points. There are many \"rules of thumb\" for what constitutes an outlier in a dataset. Here, we will use [Tukey's Method for identfying outliers](http://datapigtechnologies.com/blog/index.php/highlighting-outliers-in-your-data-with-the-tukey-method/): An *outlier step* is calculated as 1.5 times the interquartile range (IQR). A data point with a feature that is beyond an outlier step outside of the IQR for that feature is considered abnormal.\n",
    "\n",
    "In the code block below, you will need to implement the following:\n",
    " - Assign the value of the 25th percentile for the given feature to `Q1`. Use `np.percentile` for this.\n",
    " - Assign the value of the 75th percentile for the given feature to `Q3`. Again, use `np.percentile`.\n",
    " - Assign the calculation of an outlier step for the given feature to `step`.\n",
    " - Optionally remove data points from the dataset by adding indices to the `outliers` list.\n",
    "\n",
    "**NOTE:** If you choose to remove any outliers, ensure that the sample data does not contain any of these points!  \n",
    "Once you have performed this implementation, the dataset will be stored in the variable `good_data`."
   ]
  },
  {
   "cell_type": "code",
   "execution_count": 50,
   "metadata": {
    "colab": {
     "base_uri": "https://localhost:8080/",
     "height": 34
    },
    "colab_type": "code",
    "executionInfo": {
     "elapsed": 754,
     "status": "ok",
     "timestamp": 1565196251977,
     "user": {
      "displayName": "Alan Bernardo Palacio",
      "photoUrl": "",
      "userId": "14099975777942802468"
     },
     "user_tz": 180
    },
    "id": "zQu5OfRPJ2yn",
    "outputId": "648bf896-67a1-41a5-d0ae-25fbf5070968"
   },
   "outputs": [
    {
     "data": {
      "text/plain": [
       "1533.0"
      ]
     },
     "execution_count": 50,
     "metadata": {
      "tags": []
     },
     "output_type": "execute_result"
    }
   ],
   "source": [
    "# This is how np.percentile would work\n",
    "# np.percentile[series, percentile]\n",
    "np.percentile(data.loc[:, 'Milk'], 25)"
   ]
  },
  {
   "cell_type": "markdown",
   "metadata": {
    "colab_type": "text",
    "id": "pQyAI-peJ2yr"
   },
   "source": [
    "**Modified Code**\n",
    "- The code has been revamped to use pandas .loc method because I prefer the consistency! "
   ]
  },
  {
   "cell_type": "code",
   "execution_count": 0,
   "metadata": {
    "colab": {},
    "colab_type": "code",
    "id": "D4hnpXNzJ2yr"
   },
   "outputs": [],
   "source": [
    "import itertools"
   ]
  },
  {
   "cell_type": "code",
   "execution_count": 58,
   "metadata": {
    "colab": {
     "base_uri": "https://localhost:8080/",
     "height": 343
    },
    "colab_type": "code",
    "executionInfo": {
     "elapsed": 802,
     "status": "ok",
     "timestamp": 1565198420421,
     "user": {
      "displayName": "Alan Bernardo Palacio",
      "photoUrl": "",
      "userId": "14099975777942802468"
     },
     "user_tz": 180
    },
    "id": "4vZ6bN0tJ2yt",
    "outputId": "d0fd16e6-befb-4617-bee0-209b8f2c0764"
   },
   "outputs": [
    {
     "name": "stdout",
     "output_type": "stream",
     "text": [
      "Data points considered outliers for the feature 'Fresh':\n",
      "Data points considered outliers for the feature 'Milk':\n",
      "Data points considered outliers for the feature 'Grocery':\n",
      "Data points considered outliers for the feature 'Frozen':\n",
      "Data points considered outliers for the feature 'Detergents_Paper':\n",
      "Data points considered outliers for the feature 'Delicassen':\n",
      "Outliers list:\n",
      " [128, 264, 137, 142, 145, 154, 412, 285, 161, 289, 420, 38, 171, 429, 175, 304, 305, 439, 183, 57, 184, 187, 65, 66, 193, 325, 75, 203, 81, 338, 86, 343, 218, 95, 96, 353, 98, 355, 356, 357, 233, 109]\n",
      "Length of outliers list:\n",
      " 42\n",
      "Duplicate list:\n",
      " [128, 65, 66, 75, 154]\n",
      "Length of duplicates list:\n",
      " 5\n",
      "Original shape of data:\n",
      " (440, 6)\n",
      "New shape of data:\n",
      " (435, 6)\n"
     ]
    }
   ],
   "source": [
    "# Select the indices for data points you wish to remove\n",
    "outliers_lst  = []\n",
    "\n",
    "# For each feature find the data points with extreme high or low values\n",
    "for feature in log_data.columns:\n",
    "    # TODO: Calculate Q1 (25th percentile of the data) for the given feature\n",
    "    Q1 = np.percentile(log_data.loc[:, feature], 25)\n",
    "    \n",
    "    # TODO: Calculate Q3 (75th percentile of the data) for the given feature\n",
    "    Q3 = np.percentile(log_data.loc[:, feature], 75)\n",
    "    \n",
    "    # TODO: Use the interquartile range to calculate an outlier step (1.5 times the interquartile range)\n",
    "    step = 1.5 * (Q3 - Q1)\n",
    "    \n",
    "    # Display the outliers\n",
    "    print(\"Data points considered outliers for the feature '{}':\".format(feature))\n",
    "    \n",
    "    # The tilde sign ~ means not\n",
    "    # So here, we're finding any points outside of Q1 - step and Q3 + step\n",
    "    outliers_rows = log_data.loc[~((log_data[feature] >= Q1 - step) & (log_data[feature] <= Q3 + step)), :]\n",
    "    # display(outliers_rows)\n",
    "\n",
    "    outliers_lst.append(list(outliers_rows.index))\n",
    "        \n",
    "outliers = list(itertools.chain.from_iterable(outliers_lst))\n",
    "\n",
    "# List of unique outliers\n",
    "# We use set()\n",
    "# Sets are lists with no duplicate entries\n",
    "uniq_outliers = list(set(outliers))\n",
    "        \n",
    "# List of duplicate outliers\n",
    "dup_outliers = list(set([x for x in outliers if outliers.count(x) > 1]))\n",
    "        \n",
    "print( 'Outliers list:\\n', uniq_outliers)\n",
    "print('Length of outliers list:\\n', len(uniq_outliers))\n",
    "\n",
    "print('Duplicate list:\\n', dup_outliers)\n",
    "print('Length of duplicates list:\\n', len(dup_outliers))\n",
    "\n",
    "# Remove duplicate outliers\n",
    "# Only 5 specified\n",
    "good_data = log_data.drop(log_data.index[dup_outliers]).reset_index(drop = True)\n",
    "\n",
    "# Original Data \n",
    "print('Original shape of data:\\n', data.shape)\n",
    "# Processed Data\n",
    "print('New shape of data:\\n', good_data.shape)"
   ]
  },
  {
   "cell_type": "markdown",
   "metadata": {
    "colab_type": "text",
    "id": "BR9wVY7JJ2yv"
   },
   "source": [
    "**Notes**\n",
    "- Samples are not in this outliers' list. \n",
    "- The good data now is a matrix that measures 435 x 6 instead of the original dimensionality of 440 x 6"
   ]
  },
  {
   "cell_type": "markdown",
   "metadata": {
    "colab_type": "text",
    "id": "Uelmobd7J2yw"
   },
   "source": [
    "### Question 4\n",
    "*Are there any data points considered outliers for more than one feature based on the definition above? Should these data points be removed from the dataset? If any data points were added to the `outliers` list to be removed, explain why.* "
   ]
  },
  {
   "cell_type": "markdown",
   "metadata": {
    "colab_type": "text",
    "id": "axr6uJU6J2yw"
   },
   "source": [
    "**Answer:**\n",
    "- Specifically there are 5 examples that have duplicates.\n",
    "    - Their indices are in this array: [128, 65, 66, 75, 154].\n",
    "- They should be removed as they are not only outliers in one categories but more than once. \n",
    "    - Hence, they are not representative of our general customers."
   ]
  },
  {
   "cell_type": "markdown",
   "metadata": {
    "colab_type": "text",
    "id": "P3sQiq4yJ2yx"
   },
   "source": [
    "**Further Readings**\n",
    "- http://www.theanalysisfactor.com/outliers-to-drop-or-not-to-drop/\n",
    "    - Abstract Summary\n",
    "        - If it is obvious that the outlier is due to incorrectly entered or measured data, you should drop the outlier.\n",
    "        - If the outlier does not change the results but does affect assumptions, you may drop the outlier.  But note that in a footnote of your paper.\n",
    "        - More commonly, the outlier affects both results and assumptions.  In this situation, it is not legitimate to simply drop the outlier.  You may run the analysis both with and without it, but you should state in at least a footnote the dropping of any such data points and how the results changed.\n",
    "        - If the outlier creates a significant association, you should drop the outlier and should not report any significance from your analysis."
   ]
  },
  {
   "cell_type": "markdown",
   "metadata": {
    "colab_type": "text",
    "id": "ICwbsbQ6J2yy"
   },
   "source": [
    "## Feature Transformation\n",
    "In this section you will use principal component analysis (PCA) to draw conclusions about the underlying structure of the wholesale customer data. Since using PCA on a dataset calculates the dimensions which best maximize variance, we will find which compound combinations of features best describe customers."
   ]
  },
  {
   "cell_type": "markdown",
   "metadata": {
    "colab_type": "text",
    "id": "Vk4rAnAFJ2yz"
   },
   "source": [
    "### Implementation: PCA\n",
    "\n",
    "Now that the data has been scaled to a more normal distribution and has had any necessary outliers removed, we can now apply PCA to the `good_data` to discover which dimensions about the data best maximize the variance of features involved. In addition to finding these dimensions, PCA will also report the *explained variance ratio* of each dimension — how much variance within the data is explained by that dimension alone. Note that a component (dimension) from PCA can be considered a new \"feature\" of the space, however it is a composition of the original features present in the data.\n",
    "\n",
    "In the code block below, you will need to implement the following:\n",
    " - Import `sklearn.decomposition.PCA` and assign the results of fitting PCA in six dimensions with `good_data` to `pca`.\n",
    " - Apply a PCA transformation of the sample log-data `log_samples` using `pca.transform`, and assign the results to `pca_samples`."
   ]
  },
  {
   "cell_type": "code",
   "execution_count": 0,
   "metadata": {
    "colab": {},
    "colab_type": "code",
    "id": "q_WFizqNJ2y0"
   },
   "outputs": [],
   "source": [
    "from sklearn.decomposition import PCA"
   ]
  },
  {
   "cell_type": "code",
   "execution_count": 0,
   "metadata": {
    "colab": {},
    "colab_type": "code",
    "id": "EBkKWP41Q3hM"
   },
   "outputs": [],
   "source": [
    "def pca_results(good_data, pca):\n",
    "\t'''\n",
    "\tCreate a DataFrame of the PCA results\n",
    "\tIncludes dimension feature weights and explained variance\n",
    "\tVisualizes the PCA results\n",
    "\t'''\n",
    "\n",
    "\t# Dimension indexing\n",
    "\tdimensions = dimensions = ['Dimension {}'.format(i) for i in range(1,len(pca.components_)+1)]\n",
    "\n",
    "\t# PCA components\n",
    "\tcomponents = pd.DataFrame(np.round(pca.components_, 4), columns = good_data.keys())\n",
    "\tcomponents.index = dimensions\n",
    "\n",
    "\t# PCA explained variance\n",
    "\tratios = pca.explained_variance_ratio_.reshape(len(pca.components_), 1)\n",
    "\tvariance_ratios = pd.DataFrame(np.round(ratios, 4), columns = ['Explained Variance'])\n",
    "\tvariance_ratios.index = dimensions\n",
    "\n",
    "\t# Create a bar plot visualization\n",
    "\tfig, ax = plt.subplots(figsize = (14,8))\n",
    "\n",
    "\t# Plot the feature weights as a function of the components\n",
    "\tcomponents.plot(ax = ax, kind = 'bar');\n",
    "\tax.set_ylabel(\"Feature Weights\")\n",
    "\tax.set_xticklabels(dimensions, rotation=0)\n",
    "\n",
    "\n",
    "\t# Display the explained variance ratios\n",
    "\tfor i, ev in enumerate(pca.explained_variance_ratio_):\n",
    "\t\tax.text(i-0.40, ax.get_ylim()[1] + 0.05, \"Explained Variance\\n          %.4f\"%(ev))\n",
    "\n",
    "\t# Return a concatenated DataFrame\n",
    "\treturn pd.concat([variance_ratios, components], axis = 1)"
   ]
  },
  {
   "cell_type": "code",
   "execution_count": 60,
   "metadata": {
    "colab": {
     "base_uri": "https://localhost:8080/",
     "height": 515
    },
    "colab_type": "code",
    "executionInfo": {
     "elapsed": 1475,
     "status": "ok",
     "timestamp": 1565198428917,
     "user": {
      "displayName": "Alan Bernardo Palacio",
      "photoUrl": "",
      "userId": "14099975777942802468"
     },
     "user_tz": 180
    },
    "id": "uFNVGprlJ2y1",
    "outputId": "cb5685c4-05f4-4b0f-ca19-1939bd32da65"
   },
   "outputs": [
    {
     "data": {
      "image/png": "[encoded data removed]",
      "text/plain": [
       "<Figure size 1008x576 with 1 Axes>"
      ]
     },
     "metadata": {
      "tags": []
     },
     "output_type": "display_data"
    }
   ],
   "source": [
    "# TODO: Apply PCA by fitting the good data with the same number of dimensions as features\n",
    "# Instantiate\n",
    "pca = PCA(n_components=6)\n",
    "# Fit\n",
    "pca.fit(good_data)\n",
    "\n",
    "# TODO: Transform the sample log-data using the PCA fit above\n",
    "pca_samples = pca.transform(log_samples)\n",
    "\n",
    "# Generate PCA results plot\n",
    "pca_results = pca_results(good_data, pca)"
   ]
  },
  {
   "cell_type": "code",
   "execution_count": 61,
   "metadata": {
    "colab": {
     "base_uri": "https://localhost:8080/",
     "height": 371
    },
    "colab_type": "code",
    "executionInfo": {
     "elapsed": 731,
     "status": "ok",
     "timestamp": 1565198438185,
     "user": {
      "displayName": "Alan Bernardo Palacio",
      "photoUrl": "",
      "userId": "14099975777942802468"
     },
     "user_tz": 180
    },
    "id": "XWA9lbsDJ2y3",
    "outputId": "8b64d6df-8667-47ac-f0bd-88a0c2b1a446"
   },
   "outputs": [
    {
     "data": {
      "text/html": [
       "<div>\n",
       "<style scoped>\n",
       "    .dataframe tbody tr th:only-of-type {\n",
       "        vertical-align: middle;\n",
       "    }\n",
       "\n",
       "    .dataframe tbody tr th {\n",
       "        vertical-align: top;\n",
       "    }\n",
       "\n",
       "    .dataframe thead th {\n",
       "        text-align: right;\n",
       "    }\n",
       "</style>\n",
       "<table border=\"1\" class=\"dataframe\">\n",
       "  <thead>\n",
       "    <tr style=\"text-align: right;\">\n",
       "      <th></th>\n",
       "      <th>Explained Variance</th>\n",
       "      <th>Fresh</th>\n",
       "      <th>Milk</th>\n",
       "      <th>Grocery</th>\n",
       "      <th>Frozen</th>\n",
       "      <th>Detergents_Paper</th>\n",
       "      <th>Delicassen</th>\n",
       "    </tr>\n",
       "  </thead>\n",
       "  <tbody>\n",
       "    <tr>\n",
       "      <th>Dimension 1</th>\n",
       "      <td>0.4430</td>\n",
       "      <td>0.1675</td>\n",
       "      <td>-0.4014</td>\n",
       "      <td>-0.4381</td>\n",
       "      <td>0.1782</td>\n",
       "      <td>-0.7514</td>\n",
       "      <td>-0.1499</td>\n",
       "    </tr>\n",
       "    <tr>\n",
       "      <th>Dimension 2</th>\n",
       "      <td>0.2638</td>\n",
       "      <td>-0.6859</td>\n",
       "      <td>-0.1672</td>\n",
       "      <td>-0.0707</td>\n",
       "      <td>-0.5005</td>\n",
       "      <td>-0.0424</td>\n",
       "      <td>-0.4941</td>\n",
       "    </tr>\n",
       "    <tr>\n",
       "      <th>Dimension 3</th>\n",
       "      <td>0.1231</td>\n",
       "      <td>-0.6774</td>\n",
       "      <td>0.0402</td>\n",
       "      <td>-0.0195</td>\n",
       "      <td>0.3150</td>\n",
       "      <td>-0.2117</td>\n",
       "      <td>0.6286</td>\n",
       "    </tr>\n",
       "    <tr>\n",
       "      <th>Dimension 4</th>\n",
       "      <td>0.1012</td>\n",
       "      <td>-0.2043</td>\n",
       "      <td>0.0128</td>\n",
       "      <td>0.0557</td>\n",
       "      <td>0.7854</td>\n",
       "      <td>0.2096</td>\n",
       "      <td>-0.5423</td>\n",
       "    </tr>\n",
       "    <tr>\n",
       "      <th>Dimension 5</th>\n",
       "      <td>0.0485</td>\n",
       "      <td>-0.0026</td>\n",
       "      <td>0.7192</td>\n",
       "      <td>0.3554</td>\n",
       "      <td>-0.0331</td>\n",
       "      <td>-0.5582</td>\n",
       "      <td>-0.2092</td>\n",
       "    </tr>\n",
       "    <tr>\n",
       "      <th>Dimension 6</th>\n",
       "      <td>0.0204</td>\n",
       "      <td>0.0292</td>\n",
       "      <td>-0.5402</td>\n",
       "      <td>0.8205</td>\n",
       "      <td>0.0205</td>\n",
       "      <td>-0.1824</td>\n",
       "      <td>0.0197</td>\n",
       "    </tr>\n",
       "  </tbody>\n",
       "</table>\n",
       "</div>"
      ],
      "text/plain": [
       "             Explained Variance   Fresh  ...  Detergents_Paper  Delicassen\n",
       "Dimension 1              0.4430  0.1675  ...           -0.7514     -0.1499\n",
       "Dimension 2              0.2638 -0.6859  ...           -0.0424     -0.4941\n",
       "Dimension 3              0.1231 -0.6774  ...           -0.2117      0.6286\n",
       "Dimension 4              0.1012 -0.2043  ...            0.2096     -0.5423\n",
       "Dimension 5              0.0485 -0.0026  ...           -0.5582     -0.2092\n",
       "Dimension 6              0.0204  0.0292  ...           -0.1824      0.0197\n",
       "\n",
       "[6 rows x 7 columns]"
      ]
     },
     "metadata": {
      "tags": []
     },
     "output_type": "display_data"
    },
    {
     "data": {
      "text/plain": [
       "pandas.core.frame.DataFrame"
      ]
     },
     "metadata": {
      "tags": []
     },
     "output_type": "display_data"
    },
    {
     "data": {
      "text/plain": [
       "Dimension 1    0.4430\n",
       "Dimension 2    0.7068\n",
       "Dimension 3    0.8299\n",
       "Dimension 4    0.9311\n",
       "Dimension 5    0.9796\n",
       "Dimension 6    1.0000\n",
       "Name: Explained Variance, dtype: float64"
      ]
     },
     "metadata": {
      "tags": []
     },
     "output_type": "display_data"
    }
   ],
   "source": [
    "# DataFrame of results\n",
    "display(pca_results)\n",
    "\n",
    "# DataFrame\n",
    "display(type(pca_results))\n",
    "\n",
    "# Cumulative explained variance should add to 1\n",
    "display(pca_results['Explained Variance'].cumsum())"
   ]
  },
  {
   "cell_type": "markdown",
   "metadata": {
    "colab_type": "text",
    "id": "sKCDatShJ2y5"
   },
   "source": [
    "### Question 5\n",
    "*How much variance in the data is explained* ***in total*** *by the first and second principal component? What about the first four principal components? Using the visualization provided above, discuss what the first four dimensions best represent in terms of customer spending.*  \n",
    "**Hint:** A positive increase in a specific dimension corresponds with an *increase* of the *positive-weighted* features and a *decrease* of the *negative-weighted* features. The rate of increase or decrease is based on the indivdual feature weights."
   ]
  },
  {
   "cell_type": "markdown",
   "metadata": {
    "colab_type": "text",
    "id": "zDRzCRbZJ2y5"
   },
   "source": [
    "**Answer:**\n",
    "- 70.68% of the variance in the data is explained by the first and second principal components.\n",
    "- 93.11% of the variance in the data is explained by the first four principal components.\n",
    "- Components breakdown:\n",
    "    - The first principal component (PC1):\n",
    "        - An increase in PC1 is associated with large increases in \"Milk\", \"Grocery\" and \"Detergents_Paper\" spending. \n",
    "        - These features best represent PC1.\n",
    "        - This is in line with our initial findings where the 3 features are highly correlated. \n",
    "    - The second principal component (PC2):\n",
    "        - An increase in PC2 is associated with large increases in \"Fresh\", \"Frozen\" and \"Delicatessen\" spending. \n",
    "        - These features best represent PC2. \n",
    "        - This makes sense as PC1 represents different features. And in PC2, the features in PC1 have very small positive weights.\n",
    "    - The third principal component (PC3):\n",
    "        - An increase in PC3 is associated with a large increase in \"Delicatessen\" and a large decrease in \"Fresh\" spending.\n",
    "        - These features best represent PC3. \n",
    "    - The fourth principal component (PC4):\n",
    "        - An increase in PC4 is associated with a large increasing in \"Frozen\" and a large decrease in \"Delicatessen\" spending.\n",
    "        - These features best represent PC4."
   ]
  },
  {
   "cell_type": "markdown",
   "metadata": {
    "colab_type": "text",
    "id": "zsW-dhgdJ2y6"
   },
   "source": [
    "**Further readings**\n",
    "- https://onlinecourses.science.psu.edu/stat505/node/54\n",
    "- http://setosa.io/ev/principal-component-analysis/"
   ]
  },
  {
   "cell_type": "markdown",
   "metadata": {
    "colab_type": "text",
    "id": "DKzTzBNUJ2y6"
   },
   "source": [
    "### Observation\n",
    "Run the code below to see how the log-transformed sample data has changed after having a PCA transformation applied to it in six dimensions. Observe the numerical value for the first four dimensions of the sample points. Consider if this is consistent with your initial interpretation of the sample points."
   ]
  },
  {
   "cell_type": "code",
   "execution_count": 62,
   "metadata": {
    "colab": {
     "base_uri": "https://localhost:8080/",
     "height": 142
    },
    "colab_type": "code",
    "executionInfo": {
     "elapsed": 835,
     "status": "ok",
     "timestamp": 1565198471724,
     "user": {
      "displayName": "Alan Bernardo Palacio",
      "photoUrl": "",
      "userId": "14099975777942802468"
     },
     "user_tz": 180
    },
    "id": "Z2KlbKBUJ2y7",
    "outputId": "13afd80a-b1ad-462b-d542-dd07a0850db9"
   },
   "outputs": [
    {
     "data": {
      "text/html": [
       "<div>\n",
       "<style scoped>\n",
       "    .dataframe tbody tr th:only-of-type {\n",
       "        vertical-align: middle;\n",
       "    }\n",
       "\n",
       "    .dataframe tbody tr th {\n",
       "        vertical-align: top;\n",
       "    }\n",
       "\n",
       "    .dataframe thead th {\n",
       "        text-align: right;\n",
       "    }\n",
       "</style>\n",
       "<table border=\"1\" class=\"dataframe\">\n",
       "  <thead>\n",
       "    <tr style=\"text-align: right;\">\n",
       "      <th></th>\n",
       "      <th>Dimension 1</th>\n",
       "      <th>Dimension 2</th>\n",
       "      <th>Dimension 3</th>\n",
       "      <th>Dimension 4</th>\n",
       "      <th>Dimension 5</th>\n",
       "      <th>Dimension 6</th>\n",
       "    </tr>\n",
       "  </thead>\n",
       "  <tbody>\n",
       "    <tr>\n",
       "      <th>0</th>\n",
       "      <td>-3.1072</td>\n",
       "      <td>2.7017</td>\n",
       "      <td>-0.6386</td>\n",
       "      <td>1.8708</td>\n",
       "      <td>0.6452</td>\n",
       "      <td>0.1333</td>\n",
       "    </tr>\n",
       "    <tr>\n",
       "      <th>1</th>\n",
       "      <td>-2.2406</td>\n",
       "      <td>-1.2419</td>\n",
       "      <td>-1.0729</td>\n",
       "      <td>-1.9589</td>\n",
       "      <td>0.2160</td>\n",
       "      <td>-0.1782</td>\n",
       "    </tr>\n",
       "    <tr>\n",
       "      <th>2</th>\n",
       "      <td>3.0426</td>\n",
       "      <td>-2.5854</td>\n",
       "      <td>0.1965</td>\n",
       "      <td>-0.0757</td>\n",
       "      <td>-1.4213</td>\n",
       "      <td>0.0093</td>\n",
       "    </tr>\n",
       "  </tbody>\n",
       "</table>\n",
       "</div>"
      ],
      "text/plain": [
       "   Dimension 1  Dimension 2  Dimension 3  Dimension 4  Dimension 5  Dimension 6\n",
       "0      -3.1072       2.7017      -0.6386       1.8708       0.6452       0.1333\n",
       "1      -2.2406      -1.2419      -1.0729      -1.9589       0.2160      -0.1782\n",
       "2       3.0426      -2.5854       0.1965      -0.0757      -1.4213       0.0093"
      ]
     },
     "metadata": {
      "tags": []
     },
     "output_type": "display_data"
    }
   ],
   "source": [
    "# Display sample log-data after having a PCA transformation applied\n",
    "display(pd.DataFrame(np.round(pca_samples, 4), columns = pca_results.index.values))"
   ]
  },
  {
   "cell_type": "markdown",
   "metadata": {
    "colab_type": "text",
    "id": "ad_y4uWuJ2y9"
   },
   "source": [
    "### Implementation: Dimensionality Reduction\n",
    "When using principal component analysis, one of the main goals is to reduce the dimensionality of the data — in effect, reducing the complexity of the problem. Dimensionality reduction comes at a cost: Fewer dimensions used implies less of the total variance in the data is being explained. Because of this, the *cumulative explained variance ratio* is extremely important for knowing how many dimensions are necessary for the problem. Additionally, if a signifiant amount of variance is explained by only two or three dimensions, the reduced data can be visualized afterwards.\n",
    "\n",
    "In the code block below, you will need to implement the following:\n",
    " - Assign the results of fitting PCA in two dimensions with `good_data` to `pca`.\n",
    " - Apply a PCA transformation of `good_data` using `pca.transform`, and assign the reuslts to `reduced_data`.\n",
    " - Apply a PCA transformation of the sample log-data `log_samples` using `pca.transform`, and assign the results to `pca_samples`."
   ]
  },
  {
   "cell_type": "code",
   "execution_count": 0,
   "metadata": {
    "colab": {},
    "colab_type": "code",
    "id": "gE5N2cO9J2y9"
   },
   "outputs": [],
   "source": [
    "# TODO: Apply PCA by fitting the good data with only two dimensions\n",
    "# Instantiate\n",
    "pca = PCA(n_components=2)\n",
    "pca.fit(good_data)\n",
    "\n",
    "# TODO: Transform the good data using the PCA fit above\n",
    "reduced_data = pca.transform(good_data)\n",
    "\n",
    "# TODO: Transform the sample log-data using the PCA fit above\n",
    "pca_samples = pca.transform(log_samples)\n",
    "\n",
    "# Create a DataFrame for the reduced data\n",
    "reduced_data = pd.DataFrame(reduced_data, columns = ['Dimension 1', 'Dimension 2'])"
   ]
  },
  {
   "cell_type": "markdown",
   "metadata": {
    "colab_type": "text",
    "id": "LQBKL3ONJ2y_"
   },
   "source": [
    "### Observation\n",
    "Run the code below to see how the log-transformed sample data has changed after having a PCA transformation applied to it using only two dimensions. Observe how the values for the first two dimensions remains unchanged when compared to a PCA transformation in six dimensions."
   ]
  },
  {
   "cell_type": "code",
   "execution_count": 64,
   "metadata": {
    "colab": {
     "base_uri": "https://localhost:8080/",
     "height": 142
    },
    "colab_type": "code",
    "executionInfo": {
     "elapsed": 2089,
     "status": "ok",
     "timestamp": 1565199253371,
     "user": {
      "displayName": "Alan Bernardo Palacio",
      "photoUrl": "",
      "userId": "14099975777942802468"
     },
     "user_tz": 180
    },
    "id": "BKuGfnMEJ2zA",
    "outputId": "1bc1fb6f-1775-40b5-a992-f6a6fd2a1bc8"
   },
   "outputs": [
    {
     "data": {
      "text/html": [
       "<div>\n",
       "<style scoped>\n",
       "    .dataframe tbody tr th:only-of-type {\n",
       "        vertical-align: middle;\n",
       "    }\n",
       "\n",
       "    .dataframe tbody tr th {\n",
       "        vertical-align: top;\n",
       "    }\n",
       "\n",
       "    .dataframe thead th {\n",
       "        text-align: right;\n",
       "    }\n",
       "</style>\n",
       "<table border=\"1\" class=\"dataframe\">\n",
       "  <thead>\n",
       "    <tr style=\"text-align: right;\">\n",
       "      <th></th>\n",
       "      <th>Dimension 1</th>\n",
       "      <th>Dimension 2</th>\n",
       "    </tr>\n",
       "  </thead>\n",
       "  <tbody>\n",
       "    <tr>\n",
       "      <th>0</th>\n",
       "      <td>-3.1072</td>\n",
       "      <td>2.7017</td>\n",
       "    </tr>\n",
       "    <tr>\n",
       "      <th>1</th>\n",
       "      <td>-2.2406</td>\n",
       "      <td>-1.2419</td>\n",
       "    </tr>\n",
       "    <tr>\n",
       "      <th>2</th>\n",
       "      <td>3.0426</td>\n",
       "      <td>-2.5854</td>\n",
       "    </tr>\n",
       "  </tbody>\n",
       "</table>\n",
       "</div>"
      ],
      "text/plain": [
       "   Dimension 1  Dimension 2\n",
       "0      -3.1072       2.7017\n",
       "1      -2.2406      -1.2419\n",
       "2       3.0426      -2.5854"
      ]
     },
     "metadata": {
      "tags": []
     },
     "output_type": "display_data"
    }
   ],
   "source": [
    "# Display sample log-data after applying PCA transformation in two dimensions\n",
    "display(pd.DataFrame(np.round(pca_samples, 4), columns = ['Dimension 1', 'Dimension 2']))"
   ]
  },
  {
   "cell_type": "markdown",
   "metadata": {
    "colab_type": "text",
    "id": "Jf6p5RnPJ2zC"
   },
   "source": [
    "## Clustering\n",
    "\n",
    "In this section, you will choose to use either a K-Means clustering algorithm or a Gaussian Mixture Model clustering algorithm to identify the various customer segments hidden in the data. You will then recover specific data points from the clusters to understand their significance by transforming them back into their original dimension and scale. "
   ]
  },
  {
   "cell_type": "markdown",
   "metadata": {
    "colab_type": "text",
    "id": "EZ3O1dGAJ2zC"
   },
   "source": [
    "### Question 6\n",
    "*What are the advantages to using a K-Means clustering algorithm? What are the advantages to using a Gaussian Mixture Model clustering algorithm? Given your observations about the wholesale customer data so far, which of the two algorithms will you use and why?*"
   ]
  },
  {
   "cell_type": "markdown",
   "metadata": {
    "colab_type": "text",
    "id": "J3bvJSapJ2zD"
   },
   "source": [
    "**Answer:**\n",
    "- **K-Means Clustering Algorithm**\n",
    "    - Intuition: points in the same cluster has shorter than points from other clusters.\n",
    "        - The goal is to minimize the distance within the same cluster.\n",
    "    - Hard assignment\n",
    "        - Points belong explicitly to clusters\n",
    "    - Advantages\n",
    "        - Easy to understand and implement.\n",
    "        - Works well in practice.\n",
    "    - Disadvantages\n",
    "        - It may converge to a local optima depending on your initialization of clusters.\n",
    "            - We can initialize multiple times.\n",
    "        - It may be computationally expensive to compute Euclidean distances. \n",
    "            - Yet we can easily use batch K-means to solve this.\n",
    "        - It is susceptible to outliers.\n",
    "            - We can pre-process our data to exclude outliers to solve this.\n",
    "        \n",
    "- **Gaussian Mixture Model**\n",
    "    - Soft assignment\n",
    "        - There is no definite assignment of points to clusters.\n",
    "        - Points have probabilities of belonging to clusters.\n",
    "    - Advantages\n",
    "        - There is greater flexibility due to clusters having unconstrained covariances.\n",
    "            - In fact, K-means is a special case of the Gaussian Mixture Model.\n",
    "        - It allows mixed memberships.\n",
    "            - Due to the nature of soft assignments, a point can belong to two clusters with varying degree (probability).\n",
    "    - Disadvantages\n",
    "        - It may converge to a local optima depending on your initialization of clusters.\n",
    "            - We can initialize multiple times\n",
    "        - It is a much more complicated model to interpret.\n",
    "        \n",
    "**Due to how there may be a mixed membership problem in our dataset where there is no clear demarcation, I believe we should start with the Gaussian Mixture Model**"
   ]
  },
  {
   "cell_type": "markdown",
   "metadata": {
    "colab_type": "text",
    "id": "OiD3u74gJ2zD"
   },
   "source": [
    "**Further Readings**\n",
    "- http://home.deib.polimi.it/matteucc/Clustering/tutorial_html/mixture.html\n",
    "- http://www.nickgillian.com/wiki/pmwiki.php/GRT/GMMClassifier\n",
    "- http://scikit-learn.org/stable/modules/mixture.html#gmm-classifier\n",
    "- http://playwidtech.blogspot.hk/2013/02/k-means-clustering-advantages-and.html\n",
    "- https://sites.google.com/site/dataclusteringalgorithms/k-means-clustering-algorithm\n",
    "- http://www.improvedoutcomes.com/docs/WebSiteDocs/Clustering/K-Means_Clustering_Overview.htm\n",
    "- http://stats.stackexchange.com/questions/133656/how-to-understand-the-drawbacks-of-k-means\n",
    "- http://www.r-bloggers.com/k-means-clustering-is-not-a-free-lunch/\n",
    "- http://www.r-bloggers.com/pca-and-k-means-clustering-of-delta-aircraft/\n",
    "- https://www.quora.com/What-happens-when-you-pass-correlated-variables-to-a-k-means-clustering-Also-is-there-a-way-by-which-clustering-can-be-used-to-group-similar-pattern-observed-for-a-variable-over-time\n",
    "- https://shapeofdata.wordpress.com/2013/07/30/k-means/\n",
    "- http://mlg.eng.cam.ac.uk/tutorials/06/cb.pdf\n",
    "- https://www.quora.com/What-is-the-difference-between-K-means-and-the-mixture-model-of-Gaussian"
   ]
  },
  {
   "cell_type": "markdown",
   "metadata": {
    "colab_type": "text",
    "id": "XOwUX6mGJ2zE"
   },
   "source": [
    "### Implementation: Creating Clusters\n",
    "Depending on the problem, the number of clusters that you expect to be in the data may already be known. When the number of clusters is not known *a priori*, there is no guarantee that a given number of clusters best segments the data, since it is unclear what structure exists in the data — if any. However, we can quantify the \"goodness\" of a clustering by calculating each data point's *silhouette coefficient*. The [silhouette coefficient](http://scikit-learn.org/stable/modules/generated/sklearn.metrics.silhouette_score.html) for a data point measures how similar it is to its assigned cluster from -1 (dissimilar) to 1 (similar). Calculating the *mean* silhouette coefficient provides for a simple scoring method of a given clustering.\n",
    "\n",
    "In the code block below, you will need to implement the following:\n",
    " - Fit a clustering algorithm to the `reduced_data` and assign it to `clusterer`.\n",
    " - Predict the cluster for each data point in `reduced_data` using `clusterer.predict` and assign them to `preds`.\n",
    " - Find the cluster centers using the algorithm's respective attribute and assign them to `centers`.\n",
    " - Predict the cluster for each sample data point in `pca_samples` and assign them `sample_preds`.\n",
    " - Import sklearn.metrics.silhouette_score and calculate the silhouette score of `reduced_data` against `preds`.\n",
    "   - Assign the silhouette score to `score` and print the result."
   ]
  },
  {
   "cell_type": "code",
   "execution_count": 0,
   "metadata": {
    "colab": {},
    "colab_type": "code",
    "id": "ePglYnwwJ2zE"
   },
   "outputs": [],
   "source": [
    "# Imports\n",
    "\n",
    "from sklearn.mixture import GaussianMixture\n",
    "from sklearn.cluster import KMeans\n",
    "from sklearn.metrics import silhouette_score"
   ]
  },
  {
   "cell_type": "code",
   "execution_count": 66,
   "metadata": {
    "colab": {
     "base_uri": "https://localhost:8080/",
     "height": 34
    },
    "colab_type": "code",
    "executionInfo": {
     "elapsed": 1256,
     "status": "ok",
     "timestamp": 1565199278407,
     "user": {
      "displayName": "Alan Bernardo Palacio",
      "photoUrl": "",
      "userId": "14099975777942802468"
     },
     "user_tz": 180
    },
    "id": "vecpmxoIJ2zG",
    "outputId": "f4fec376-b55e-4852-bbf3-da58f400f8de"
   },
   "outputs": [
    {
     "name": "stdout",
     "output_type": "stream",
     "text": [
      "[2, 3, 4, 5, 6, 7, 8, 9, 10]\n"
     ]
    }
   ],
   "source": [
    "# Create range of clusters \n",
    "range_n_clusters = list(range(2,11))\n",
    "print(range_n_clusters)"
   ]
  },
  {
   "cell_type": "markdown",
   "metadata": {
    "colab_type": "text",
    "id": "IQ1qE39SJ2zI"
   },
   "source": [
    "**GMM Implementation**"
   ]
  },
  {
   "cell_type": "code",
   "execution_count": 67,
   "metadata": {
    "colab": {
     "base_uri": "https://localhost:8080/",
     "height": 170
    },
    "colab_type": "code",
    "executionInfo": {
     "elapsed": 1166,
     "status": "ok",
     "timestamp": 1565199305477,
     "user": {
      "displayName": "Alan Bernardo Palacio",
      "photoUrl": "",
      "userId": "14099975777942802468"
     },
     "user_tz": 180
    },
    "id": "oTfNLi3SJ2zJ",
    "outputId": "0dc7efec-a453-4332-8dd9-e8ff8b1f5130"
   },
   "outputs": [
    {
     "name": "stdout",
     "output_type": "stream",
     "text": [
      "For n_clusters = 2. The average silhouette_score is : 0.37598604546578707\n",
      "For n_clusters = 3. The average silhouette_score is : 0.366387385330114\n",
      "For n_clusters = 4. The average silhouette_score is : 0.2964173962980854\n",
      "For n_clusters = 5. The average silhouette_score is : 0.2336782225296284\n",
      "For n_clusters = 6. The average silhouette_score is : 0.27370282053103406\n",
      "For n_clusters = 7. The average silhouette_score is : 0.21485120346561998\n",
      "For n_clusters = 8. The average silhouette_score is : 0.29448496663973817\n",
      "For n_clusters = 9. The average silhouette_score is : 0.29171880877440004\n",
      "For n_clusters = 10. The average silhouette_score is : 0.3009292486082948\n"
     ]
    }
   ],
   "source": [
    "# Loop through clusters\n",
    "for n_clusters in range_n_clusters:\n",
    "    # TODO: Apply your clustering algorithm of choice to the reduced data \n",
    "    clusterer = GaussianMixture(n_components=n_clusters).fit(reduced_data)\n",
    "\n",
    "    # TODO: Predict the cluster for each data point\n",
    "    preds = clusterer.predict(reduced_data)\n",
    "\n",
    "    # TODO: Find the cluster centers\n",
    "    centers = clusterer.means_\n",
    "\n",
    "    # TODO: Predict the cluster for each transformed sample data point\n",
    "    sample_preds = clusterer.predict(pca_samples)\n",
    "\n",
    "    # TODO: Calculate the mean silhouette coefficient for the number of clusters chosen\n",
    "    score = silhouette_score(reduced_data, preds, metric='mahalanobis')\n",
    "    print(\"For n_clusters = {}. The average silhouette_score is : {}\".format(n_clusters, score))"
   ]
  },
  {
   "cell_type": "markdown",
   "metadata": {
    "colab_type": "text",
    "id": "EvpoIeujJ2zN"
   },
   "source": [
    "**KNN Implementation**"
   ]
  },
  {
   "cell_type": "code",
   "execution_count": 68,
   "metadata": {
    "colab": {
     "base_uri": "https://localhost:8080/",
     "height": 170
    },
    "colab_type": "code",
    "executionInfo": {
     "elapsed": 1504,
     "status": "ok",
     "timestamp": 1565199336322,
     "user": {
      "displayName": "Alan Bernardo Palacio",
      "photoUrl": "",
      "userId": "14099975777942802468"
     },
     "user_tz": 180
    },
    "id": "eI_ugCEGJ2zO",
    "outputId": "d0f9dc7f-1a21-4cc4-94e8-c89f65c034fc"
   },
   "outputs": [
    {
     "name": "stdout",
     "output_type": "stream",
     "text": [
      "For n_clusters = 2. The average silhouette_score is : 0.42628101546910835\n",
      "For n_clusters = 3. The average silhouette_score is : 0.39689092644980506\n",
      "For n_clusters = 4. The average silhouette_score is : 0.3310102351330372\n",
      "For n_clusters = 5. The average silhouette_score is : 0.352208874352643\n",
      "For n_clusters = 6. The average silhouette_score is : 0.36759985315009497\n",
      "For n_clusters = 7. The average silhouette_score is : 0.3649035324848901\n",
      "For n_clusters = 8. The average silhouette_score is : 0.3529827767174601\n",
      "For n_clusters = 9. The average silhouette_score is : 0.3486933569832059\n",
      "For n_clusters = 10. The average silhouette_score is : 0.35966861993018673\n"
     ]
    }
   ],
   "source": [
    "# Loop through clusters\n",
    "for n_clusters in range_n_clusters:\n",
    "    # TODO: Apply your clustering algorithm of choice to the reduced data \n",
    "    clusterer = KMeans(n_clusters=n_clusters).fit(reduced_data)\n",
    "\n",
    "    # TODO: Predict the cluster for each data point\n",
    "    preds = clusterer.predict(reduced_data)\n",
    "\n",
    "    # TODO: Find the cluster centers\n",
    "    centers = clusterer.cluster_centers_\n",
    "\n",
    "    # TODO: Predict the cluster for each transformed sample data point\n",
    "    sample_preds = clusterer.predict(pca_samples)\n",
    "\n",
    "    # TODO: Calculate the mean silhouette coefficient for the number of clusters chosen\n",
    "    score = silhouette_score(reduced_data, preds, metric='euclidean')\n",
    "    print(\"For n_clusters = {}. The average silhouette_score is : {}\".format(n_clusters, score))"
   ]
  },
  {
   "cell_type": "markdown",
   "metadata": {
    "colab_type": "text",
    "id": "CD1J7jb1J2zP"
   },
   "source": [
    "**Distance Metric**\n",
    "- The Silhouette Coefficient is calculated using the mean intra-cluster distance and the mean nearest-cluster distance for each sample. Therefore, it makes sense to use the same distance metric here as the one used in the clustering algorithm. This is **Euclidean for KMeans** and **Mahalanobis for general GMM**.\n",
    "\n",
    "**Metric for GMM**\n",
    "- [BIC](http://scikit-learn.org/stable/auto_examples/mixture/plot_gmm_selection.html) could sometimes be a better criterion for deciding on the optimal number of clusters."
   ]
  },
  {
   "cell_type": "markdown",
   "metadata": {
    "colab_type": "text",
    "id": "xrDCQ5J_J2zQ"
   },
   "source": [
    "### Question 7\n",
    "*Report the silhouette score for several cluster numbers you tried. Of these, which number of clusters has the best silhouette score?* "
   ]
  },
  {
   "cell_type": "markdown",
   "metadata": {
    "colab_type": "text",
    "id": "EvZRMaPZJ2zQ"
   },
   "source": [
    "**Answer: GMM**\n",
    "\n",
    "For n_clusters = 2. The average silhouette_score is : 0.411818864386\n",
    "\n",
    "For n_clusters = 3. The average silhouette_score is : 0.373560747175\n",
    "\n",
    "For n_clusters = 4. The average silhouette_score is : 0.332870064265\n",
    "\n",
    "For n_clusters = 5. The average silhouette_score is : 0.287122500285\n",
    "\n",
    "For n_clusters = 6. The average silhouette_score is : 0.277900119783\n",
    "\n",
    "For n_clusters = 7. The average silhouette_score is : 0.322542962762\n",
    "\n",
    "For n_clusters = 8. The average silhouette_score is : 0.310386058749\n",
    "\n",
    "For n_clusters = 9. The average silhouette_score is : 0.309984687201\n",
    "\n",
    "For n_clusters = 10. The average silhouette_score is : 0.316531857813\n",
    "\n",
    "**The best score is obtained when the number of clusters is 2. Similarly, when we use KMeans, the best score is also obtained with the same number of clusters.**"
   ]
  },
  {
   "cell_type": "markdown",
   "metadata": {
    "colab_type": "text",
    "id": "dqFuyhfSJ2zQ"
   },
   "source": [
    "### Cluster Visualization\n",
    "Once you've chosen the optimal number of clusters for your clustering algorithm using the scoring metric above, you can now visualize the results by executing the code block below. Note that, for experimentation purposes, you are welcome to adjust the number of clusters for your clustering algorithm to see various visualizations. The final visualization provided should, however, correspond with the optimal number of clusters. "
   ]
  },
  {
   "cell_type": "code",
   "execution_count": 0,
   "metadata": {
    "colab": {},
    "colab_type": "code",
    "id": "hStImGBWJ2zR"
   },
   "outputs": [],
   "source": [
    "# Extra code because we ran a loop on top and this resets to what we want\n",
    "clusterer = GaussianMixture(n_components=2).fit(reduced_data)\n",
    "preds = clusterer.predict(reduced_data)\n",
    "centers = clusterer.means_\n",
    "sample_preds = clusterer.predict(pca_samples)"
   ]
  },
  {
   "cell_type": "code",
   "execution_count": 0,
   "metadata": {
    "colab": {},
    "colab_type": "code",
    "id": "ZMrFVVQUSLmY"
   },
   "outputs": [],
   "source": [
    "import matplotlib.cm as cm\n",
    "def cluster_results(reduced_data, preds, centers, pca_samples):\n",
    "\t'''\n",
    "\tVisualizes the PCA-reduced cluster data in two dimensions\n",
    "\tAdds cues for cluster centers and student-selected sample data\n",
    "\t'''\n",
    "\n",
    "\tpredictions = pd.DataFrame(preds, columns = ['Cluster'])\n",
    "\tplot_data = pd.concat([predictions, reduced_data], axis = 1)\n",
    "\n",
    "\t# Generate the cluster plot\n",
    "\tfig, ax = plt.subplots(figsize = (14,8))\n",
    "\n",
    "\t# Color map\n",
    "\tcmap = cm.get_cmap('gist_rainbow')\n",
    "\n",
    "\t# Color the points based on assigned cluster\n",
    "\tfor i, cluster in plot_data.groupby('Cluster'):   \n",
    "\t    cluster.plot(ax = ax, kind = 'scatter', x = 'Dimension 1', y = 'Dimension 2', \\\n",
    "\t                 color = cmap((i)*1.0/(len(centers)-1)), label = 'Cluster %i'%(i), s=30);\n",
    "\n",
    "\t# Plot centers with indicators\n",
    "\tfor i, c in enumerate(centers):\n",
    "\t    ax.scatter(x = c[0], y = c[1], color = 'white', edgecolors = 'black', \\\n",
    "\t               alpha = 1, linewidth = 2, marker = 'o', s=200);\n",
    "\t    ax.scatter(x = c[0], y = c[1], marker='$%d$'%(i), alpha = 1, s=100);\n",
    "\n",
    "\t# Plot transformed sample points \n",
    "\tax.scatter(x = pca_samples[:,0], y = pca_samples[:,1], \\\n",
    "\t           s = 150, linewidth = 4, color = 'black', marker = 'x');\n",
    "\n",
    "\t# Set plot title\n",
    "\tax.set_title(\"Cluster Learning on PCA-Reduced Data - Centroids Marked by Number\\nTransformed Sample Data Marked by Black Cross\");"
   ]
  },
  {
   "cell_type": "code",
   "execution_count": 71,
   "metadata": {
    "colab": {
     "base_uri": "https://localhost:8080/",
     "height": 528
    },
    "colab_type": "code",
    "executionInfo": {
     "elapsed": 1680,
     "status": "ok",
     "timestamp": 1565199734876,
     "user": {
      "displayName": "Alan Bernardo Palacio",
      "photoUrl": "",
      "userId": "14099975777942802468"
     },
     "user_tz": 180
    },
    "id": "AWE_qD-tJ2zT",
    "outputId": "e595c585-5c18-4bf6-8023-0d3b83558874"
   },
   "outputs": [
    {
     "data": {
      "image/png": "[encoded data removed]",
      "text/plain": [
       "<Figure size 1008x576 with 1 Axes>"
      ]
     },
     "metadata": {
      "tags": []
     },
     "output_type": "display_data"
    }
   ],
   "source": [
    "# Display the results of the clustering from implementation\n",
    "cluster_results(reduced_data, preds, centers, pca_samples)"
   ]
  },
  {
   "cell_type": "markdown",
   "metadata": {
    "colab_type": "text",
    "id": "eJgqNTO4J2zV"
   },
   "source": [
    "### Implementation: Data Recovery\n",
    "Each cluster present in the visualization above has a central point. These centers (or means) are not specifically data points from the data, but rather the *averages* of all the data points predicted in the respective clusters. For the problem of creating customer segments, a cluster's center point corresponds to *the average customer of that segment*. Since the data is currently reduced in dimension and scaled by a logarithm, we can recover the representative customer spending from these data points by applying the inverse transformations.\n",
    "\n",
    "In the code block below, you will need to implement the following:\n",
    " - Apply the inverse transform to `centers` using `pca.inverse_transform` and assign the new centers to `log_centers`.\n",
    " - Apply the inverse function of `np.log` to `log_centers` using `np.exp` and assign the true centers to `true_centers`.\n"
   ]
  },
  {
   "cell_type": "code",
   "execution_count": 72,
   "metadata": {
    "colab": {
     "base_uri": "https://localhost:8080/",
     "height": 111
    },
    "colab_type": "code",
    "executionInfo": {
     "elapsed": 773,
     "status": "ok",
     "timestamp": 1565200012910,
     "user": {
      "displayName": "Alan Bernardo Palacio",
      "photoUrl": "",
      "userId": "14099975777942802468"
     },
     "user_tz": 180
    },
    "id": "X1HRl3m3J2zW",
    "outputId": "0b0ecbf7-b1f6-4dc8-f621-6b430c5af878"
   },
   "outputs": [
    {
     "data": {
      "text/html": [
       "<div>\n",
       "<style scoped>\n",
       "    .dataframe tbody tr th:only-of-type {\n",
       "        vertical-align: middle;\n",
       "    }\n",
       "\n",
       "    .dataframe tbody tr th {\n",
       "        vertical-align: top;\n",
       "    }\n",
       "\n",
       "    .dataframe thead th {\n",
       "        text-align: right;\n",
       "    }\n",
       "</style>\n",
       "<table border=\"1\" class=\"dataframe\">\n",
       "  <thead>\n",
       "    <tr style=\"text-align: right;\">\n",
       "      <th></th>\n",
       "      <th>Fresh</th>\n",
       "      <th>Milk</th>\n",
       "      <th>Grocery</th>\n",
       "      <th>Frozen</th>\n",
       "      <th>Detergents_Paper</th>\n",
       "      <th>Delicassen</th>\n",
       "    </tr>\n",
       "  </thead>\n",
       "  <tbody>\n",
       "    <tr>\n",
       "      <th>Segment 0</th>\n",
       "      <td>8953.0</td>\n",
       "      <td>2114.0</td>\n",
       "      <td>2765.0</td>\n",
       "      <td>2075.0</td>\n",
       "      <td>353.0</td>\n",
       "      <td>732.0</td>\n",
       "    </tr>\n",
       "    <tr>\n",
       "      <th>Segment 1</th>\n",
       "      <td>3552.0</td>\n",
       "      <td>7837.0</td>\n",
       "      <td>12219.0</td>\n",
       "      <td>870.0</td>\n",
       "      <td>4696.0</td>\n",
       "      <td>962.0</td>\n",
       "    </tr>\n",
       "  </tbody>\n",
       "</table>\n",
       "</div>"
      ],
      "text/plain": [
       "            Fresh    Milk  Grocery  Frozen  Detergents_Paper  Delicassen\n",
       "Segment 0  8953.0  2114.0   2765.0  2075.0             353.0       732.0\n",
       "Segment 1  3552.0  7837.0  12219.0   870.0            4696.0       962.0"
      ]
     },
     "metadata": {
      "tags": []
     },
     "output_type": "display_data"
    }
   ],
   "source": [
    "# TODO: Inverse transform the centers\n",
    "log_centers = pca.inverse_transform(centers)\n",
    "\n",
    "# TODO: Exponentiate the centers\n",
    "true_centers = np.exp(log_centers)\n",
    "\n",
    "# Display the true centers\n",
    "segments = ['Segment {}'.format(i) for i in range(0,len(centers))]\n",
    "true_centers = pd.DataFrame(np.round(true_centers), columns = data.columns)\n",
    "true_centers.index = segments\n",
    "display(true_centers)"
   ]
  },
  {
   "cell_type": "markdown",
   "metadata": {
    "colab_type": "text",
    "id": "BkHwsP1fJ2zX"
   },
   "source": [
    "### Question 8\n",
    "Consider the total purchase cost of each product category for the representative data points above, and reference the statistical description of the dataset at the beginning of this project. *What set of establishments could each of the customer segments represent?*  \n",
    "**Hint:** A customer who is assigned to `'Cluster X'` should best identify with the establishments represented by the feature set of `'Segment X'`."
   ]
  },
  {
   "cell_type": "code",
   "execution_count": 73,
   "metadata": {
    "colab": {
     "base_uri": "https://localhost:8080/",
     "height": 205
    },
    "colab_type": "code",
    "executionInfo": {
     "elapsed": 780,
     "status": "ok",
     "timestamp": 1565200052795,
     "user": {
      "displayName": "Alan Bernardo Palacio",
      "photoUrl": "",
      "userId": "14099975777942802468"
     },
     "user_tz": 180
    },
    "id": "lWl0KLMaJ2zY",
    "outputId": "9e39f798-afe0-41e8-f911-30331c64fe9d"
   },
   "outputs": [
    {
     "data": {
      "text/html": [
       "<div>\n",
       "<style scoped>\n",
       "    .dataframe tbody tr th:only-of-type {\n",
       "        vertical-align: middle;\n",
       "    }\n",
       "\n",
       "    .dataframe tbody tr th {\n",
       "        vertical-align: top;\n",
       "    }\n",
       "\n",
       "    .dataframe thead th {\n",
       "        text-align: right;\n",
       "    }\n",
       "</style>\n",
       "<table border=\"1\" class=\"dataframe\">\n",
       "  <thead>\n",
       "    <tr style=\"text-align: right;\">\n",
       "      <th></th>\n",
       "      <th>Fresh</th>\n",
       "      <th>Milk</th>\n",
       "      <th>Grocery</th>\n",
       "      <th>Frozen</th>\n",
       "      <th>Detergents_Paper</th>\n",
       "      <th>Delicassen</th>\n",
       "    </tr>\n",
       "  </thead>\n",
       "  <tbody>\n",
       "    <tr>\n",
       "      <th>Segment 0</th>\n",
       "      <td>449.0</td>\n",
       "      <td>-1513.0</td>\n",
       "      <td>-1990.5</td>\n",
       "      <td>549.0</td>\n",
       "      <td>-463.5</td>\n",
       "      <td>-233.5</td>\n",
       "    </tr>\n",
       "    <tr>\n",
       "      <th>Segment 1</th>\n",
       "      <td>-4952.0</td>\n",
       "      <td>4210.0</td>\n",
       "      <td>7463.5</td>\n",
       "      <td>-656.0</td>\n",
       "      <td>3879.5</td>\n",
       "      <td>-3.5</td>\n",
       "    </tr>\n",
       "  </tbody>\n",
       "</table>\n",
       "</div>"
      ],
      "text/plain": [
       "            Fresh    Milk  Grocery  Frozen  Detergents_Paper  Delicassen\n",
       "Segment 0   449.0 -1513.0  -1990.5   549.0            -463.5      -233.5\n",
       "Segment 1 -4952.0  4210.0   7463.5  -656.0            3879.5        -3.5"
      ]
     },
     "metadata": {
      "tags": []
     },
     "output_type": "display_data"
    },
    {
     "data": {
      "text/html": [
       "<div>\n",
       "<style scoped>\n",
       "    .dataframe tbody tr th:only-of-type {\n",
       "        vertical-align: middle;\n",
       "    }\n",
       "\n",
       "    .dataframe tbody tr th {\n",
       "        vertical-align: top;\n",
       "    }\n",
       "\n",
       "    .dataframe thead th {\n",
       "        text-align: right;\n",
       "    }\n",
       "</style>\n",
       "<table border=\"1\" class=\"dataframe\">\n",
       "  <thead>\n",
       "    <tr style=\"text-align: right;\">\n",
       "      <th></th>\n",
       "      <th>Fresh</th>\n",
       "      <th>Milk</th>\n",
       "      <th>Grocery</th>\n",
       "      <th>Frozen</th>\n",
       "      <th>Detergents_Paper</th>\n",
       "      <th>Delicassen</th>\n",
       "    </tr>\n",
       "  </thead>\n",
       "  <tbody>\n",
       "    <tr>\n",
       "      <th>Segment 0</th>\n",
       "      <td>-3047.297727</td>\n",
       "      <td>-3682.265909</td>\n",
       "      <td>-5186.277273</td>\n",
       "      <td>-996.931818</td>\n",
       "      <td>-2528.493182</td>\n",
       "      <td>-792.870455</td>\n",
       "    </tr>\n",
       "    <tr>\n",
       "      <th>Segment 1</th>\n",
       "      <td>-8448.297727</td>\n",
       "      <td>2040.734091</td>\n",
       "      <td>4267.722727</td>\n",
       "      <td>-2201.931818</td>\n",
       "      <td>1814.506818</td>\n",
       "      <td>-562.870455</td>\n",
       "    </tr>\n",
       "  </tbody>\n",
       "</table>\n",
       "</div>"
      ],
      "text/plain": [
       "                 Fresh         Milk  ...  Detergents_Paper  Delicassen\n",
       "Segment 0 -3047.297727 -3682.265909  ...      -2528.493182 -792.870455\n",
       "Segment 1 -8448.297727  2040.734091  ...       1814.506818 -562.870455\n",
       "\n",
       "[2 rows x 6 columns]"
      ]
     },
     "metadata": {
      "tags": []
     },
     "output_type": "display_data"
    }
   ],
   "source": [
    "# Clusters' deviation from median\n",
    "display(true_centers - data.median())\n",
    "\n",
    "# Clusters' deviation from mean\n",
    "# As you can see, this is not a meaningful comparison for Segment 1 where everything is negative\n",
    "display(true_centers - data.mean())"
   ]
  },
  {
   "cell_type": "markdown",
   "metadata": {
    "colab_type": "text",
    "id": "Pwt8qBopJ2zZ"
   },
   "source": [
    "**Answer:**\n",
    "- We will be using deviations from the median, with reference to the statistical description of the dataset at the beginning of this project, since mean is sensitive to outliers and would not yield meaningful comparisons. \n",
    "- Segment 0:\n",
    "    - Establishments in this segment have above median spending on \"Milk\", \"Grocery\" and \"Detergents_Paper\".\n",
    "    - This could represent restaurants and cafes.\n",
    "- Segment 1:\n",
    "    - Establishments in this segment have above median spending on \"Fresh\" and \"Frozen\".\n",
    "    - This could represent typical retailers such as markets specializing in fresh and frozen food.\n",
    "        - This is typical in seafood or meat markets."
   ]
  },
  {
   "cell_type": "markdown",
   "metadata": {
    "colab_type": "text",
    "id": "sC80pLJhJ2zZ"
   },
   "source": [
    "### Question 9\n",
    "*For each sample point, which customer segment from* ***Question 8*** *best represents it? Are the predictions for each sample point consistent with this?*\n",
    "\n",
    "Run the code block below to find which cluster each sample point is predicted to be."
   ]
  },
  {
   "cell_type": "code",
   "execution_count": 74,
   "metadata": {
    "colab": {
     "base_uri": "https://localhost:8080/",
     "height": 68
    },
    "colab_type": "code",
    "executionInfo": {
     "elapsed": 748,
     "status": "ok",
     "timestamp": 1565200169577,
     "user": {
      "displayName": "Alan Bernardo Palacio",
      "photoUrl": "",
      "userId": "14099975777942802468"
     },
     "user_tz": 180
    },
    "id": "2XkJYYMzJ2za",
    "outputId": "aa9c070a-6f2d-43b8-fad4-2eb76c04e9bc"
   },
   "outputs": [
    {
     "name": "stdout",
     "output_type": "stream",
     "text": [
      "Sample point 0 predicted to be in Cluster 1\n",
      "Sample point 1 predicted to be in Cluster 1\n",
      "Sample point 2 predicted to be in Cluster 0\n"
     ]
    }
   ],
   "source": [
    "# Display the predictions\n",
    "for i, pred in enumerate(sample_preds):\n",
    "    print(\"Sample point\", i, \"predicted to be in Cluster\", pred)"
   ]
  },
  {
   "cell_type": "code",
   "execution_count": 75,
   "metadata": {
    "colab": {
     "base_uri": "https://localhost:8080/",
     "height": 142
    },
    "colab_type": "code",
    "executionInfo": {
     "elapsed": 770,
     "status": "ok",
     "timestamp": 1565200181035,
     "user": {
      "displayName": "Alan Bernardo Palacio",
      "photoUrl": "",
      "userId": "14099975777942802468"
     },
     "user_tz": 180
    },
    "id": "EoxcEzDmJ2zb",
    "outputId": "dc70133e-db1a-4514-cf5b-b6077bbc4eba"
   },
   "outputs": [
    {
     "data": {
      "text/html": [
       "<div>\n",
       "<style scoped>\n",
       "    .dataframe tbody tr th:only-of-type {\n",
       "        vertical-align: middle;\n",
       "    }\n",
       "\n",
       "    .dataframe tbody tr th {\n",
       "        vertical-align: top;\n",
       "    }\n",
       "\n",
       "    .dataframe thead th {\n",
       "        text-align: right;\n",
       "    }\n",
       "</style>\n",
       "<table border=\"1\" class=\"dataframe\">\n",
       "  <thead>\n",
       "    <tr style=\"text-align: right;\">\n",
       "      <th></th>\n",
       "      <th>Fresh</th>\n",
       "      <th>Milk</th>\n",
       "      <th>Grocery</th>\n",
       "      <th>Frozen</th>\n",
       "      <th>Detergents_Paper</th>\n",
       "      <th>Delicassen</th>\n",
       "    </tr>\n",
       "  </thead>\n",
       "  <tbody>\n",
       "    <tr>\n",
       "      <th>0</th>\n",
       "      <td>630</td>\n",
       "      <td>11095</td>\n",
       "      <td>23998</td>\n",
       "      <td>787</td>\n",
       "      <td>9529</td>\n",
       "      <td>72</td>\n",
       "    </tr>\n",
       "    <tr>\n",
       "      <th>1</th>\n",
       "      <td>31714</td>\n",
       "      <td>12319</td>\n",
       "      <td>11757</td>\n",
       "      <td>287</td>\n",
       "      <td>3881</td>\n",
       "      <td>2931</td>\n",
       "    </tr>\n",
       "    <tr>\n",
       "      <th>2</th>\n",
       "      <td>56159</td>\n",
       "      <td>555</td>\n",
       "      <td>902</td>\n",
       "      <td>10002</td>\n",
       "      <td>212</td>\n",
       "      <td>2916</td>\n",
       "    </tr>\n",
       "  </tbody>\n",
       "</table>\n",
       "</div>"
      ],
      "text/plain": [
       "   Fresh   Milk  Grocery  Frozen  Detergents_Paper  Delicassen\n",
       "0    630  11095    23998     787              9529          72\n",
       "1  31714  12319    11757     287              3881        2931\n",
       "2  56159    555      902   10002               212        2916"
      ]
     },
     "execution_count": 75,
     "metadata": {
      "tags": []
     },
     "output_type": "execute_result"
    }
   ],
   "source": [
    "samples"
   ]
  },
  {
   "cell_type": "markdown",
   "metadata": {
    "colab_type": "text",
    "id": "bVY7QRXIJ2zd"
   },
   "source": [
    "**Answer:**\n",
    "- Sample 1:\n",
    "    - It is evident that this belongs to cluster 0 (segment 0) where spending on \"Milk\", \"Grocery\" And \"Detergents_Paper\" is high.\n",
    "- Sample 2:\n",
    "    - This is tricky. The spending on \"Milk\", \"Grocery\" and \"Detergents_Paper\" is high. But spending on \"Fresh\" is high too.\n",
    "        - Considering spending on \"Frozen\" is low, I guess it makes sense to cluster it under cluster 0.\n",
    "- Sample 3:\n",
    "    - It is evident that this belongs to cluster 1 because spending on \"Fresh\" and \"Frozen\" is high."
   ]
  },
  {
   "cell_type": "markdown",
   "metadata": {
    "colab_type": "text",
    "id": "TDg8sJsoJ2zd"
   },
   "source": [
    "## Conclusion"
   ]
  },
  {
   "cell_type": "markdown",
   "metadata": {
    "colab_type": "text",
    "id": "HLfTAPrQJ2ze"
   },
   "source": [
    "In this final section, you will investigate ways that you can make use of the clustered data. First, you will consider how the different groups of customers, the ***customer segments***, may be affected differently by a specific delivery scheme. Next, you will consider how giving a label to each customer (which *segment* that customer belongs to) can provide for additional features about the customer data. Finally, you will compare the ***customer segments*** to a hidden variable present in the data, to see whether the clustering identified certain relationships."
   ]
  },
  {
   "cell_type": "markdown",
   "metadata": {
    "colab_type": "text",
    "collapsed": true,
    "id": "Mm6zxLP-J2ze"
   },
   "source": [
    "### Question 10\n",
    "Companies will often run [A/B tests](https://en.wikipedia.org/wiki/A/B_testing) when making small changes to their products or services to determine whether making that change will affect its customers positively or negatively. The wholesale distributor is considering changing its delivery service from currently 5 days a week to 3 days a week. However, the distributor will only make this change in delivery service for customers that react positively. *How can the wholesale distributor use the customer segments to determine which customers, if any, would react positively to the change in delivery service?*  \n",
    "**Hint:** Can we assume the change affects all customers equally? How can we determine which group of customers it affects the most?"
   ]
  },
  {
   "cell_type": "markdown",
   "metadata": {
    "colab_type": "text",
    "id": "yOhkh9IQJ2zf"
   },
   "source": [
    "**Answer:**\n",
    "- Impact on Segment 0\n",
    "    - Intuitively, the impact on Segment 0's customers should be minimal. \n",
    "    - This is because their products are mainly non-perishable products from \"Grocery\" to \"Detergents_Paper\".\n",
    "    - However this situation is complicated as this segment has high spending on \"Milk\" products which is perishable. \n",
    "    - But with advances in preservation, most \"Milk\" products last more than a week these days. \n",
    "- Impact on Segment 1\n",
    "    - One would surmise that Segment 1's customers would have a substantial impact by the change in delivery service.\n",
    "    - This is because their products are highly perishable such as \"Fresh\" products including fruits, vegetables, seafood and meat. \n",
    "- We can formalize the impact by running an experiment to determine which group of customers would have the greatest impact.\n",
    "    1. Randomly sample 4 groups where we sample 2 groups from each cluster.\n",
    "        - Group 0a, 0b would be the group experiencing the change and the control group respectively for cluster 0.\n",
    "        - Group 1a, 1b would be the group experiencing the change and the control group respectively for cluster 1.\n",
    "    2. We will change the schedules for group 0a and 1a keeping the schedules for 0b and 1b unchanged.\n",
    "    3. We will have 2 metrics.\n",
    "        1. We will conduct customer satisfaction survey for all groups.\n",
    "        2. We will cross-reference their satisfaction level with their spending.\n",
    "    4. Clients experiencing a negative impact would have a low satisfaction level and a decreased or similar spending. And clients experiencing a positive impact would have a high satisfaction level and an increased or similar spending.\n",
    "        - We can investigate anomalies where clients display contradictory signals like expressing a low satisfaction level and increasing spending, and vice versa."
   ]
  },
  {
   "cell_type": "markdown",
   "metadata": {
    "colab_type": "text",
    "id": "_hrq3fuJJ2zf"
   },
   "source": [
    "**Further Readings**\n",
    "- https://www.quora.com/When-should-A-B-testing-not-be-trusted-to-make-decisions/answer/Edwin-Chen-1\n",
    "- http://multithreaded.stitchfix.com/blog/2015/05/26/significant-sample/\n",
    "- http://techblog.netflix.com/2016/04/its-all-about-testing-netflix.html\n",
    "- https://vwo.com/ab-testing/\n",
    "- http://stats.stackexchange.com/questions/192752/clustering-and-a-b-testing"
   ]
  },
  {
   "cell_type": "markdown",
   "metadata": {
    "colab_type": "text",
    "id": "n6EbKYynJ2zg"
   },
   "source": [
    "### Question 11\n",
    "Additional structure is derived from originally unlabeled data when using clustering techniques. Since each customer has a ***customer segment*** it best identifies with (depending on the clustering algorithm applied), we can consider *'customer segment'* as an **engineered feature** for the data. Assume the wholesale distributor recently acquired ten new customers and each provided estimates for anticipated annual spending of each product category. Knowing these estimates, the wholesale distributor wants to classify each new customer to a ***customer segment*** to determine the most appropriate delivery service.  \n",
    "*How can the wholesale distributor label the new customers using only their estimated product spending and the* ***customer segment*** *data?*  \n",
    "**Hint:** A supervised learner could be used to train on the original customers. What would be the target variable?"
   ]
  },
  {
   "cell_type": "markdown",
   "metadata": {
    "colab_type": "text",
    "id": "nQDhPyLRJ2zg"
   },
   "source": [
    "**Answer:**\n",
    "- You could use support vector machines, naive bayes, logistic regression or any other suitable classifier to classify the new clients based on their features.\n",
    "    - 0: cluster 0.\n",
    "    - 1: cluster 1.\n",
    "- Target variable would be the cluster group."
   ]
  },
  {
   "cell_type": "markdown",
   "metadata": {
    "colab_type": "text",
    "id": "peBleeMUJ2zg"
   },
   "source": [
    "### Visualizing Underlying Distributions\n",
    "\n",
    "At the beginning of this project, it was discussed that the `'Channel'` and `'Region'` features would be excluded from the dataset so that the customer product categories were emphasized in the analysis. By reintroducing the `'Channel'` feature to the dataset, an interesting structure emerges when considering the same PCA dimensionality reduction applied earlier to the original dataset.\n",
    "\n",
    "Run the code block below to see how each data point is labeled either `'HoReCa'` (Hotel/Restaurant/Cafe) or `'Retail'` the reduced space. In addition, you will find the sample points are circled in the plot, which will identify their labeling."
   ]
  },
  {
   "cell_type": "code",
   "execution_count": 76,
   "metadata": {
    "colab": {
     "base_uri": "https://localhost:8080/",
     "height": 34
    },
    "colab_type": "code",
    "executionInfo": {
     "elapsed": 872,
     "status": "ok",
     "timestamp": 1565200210435,
     "user": {
      "displayName": "Alan Bernardo Palacio",
      "photoUrl": "",
      "userId": "14099975777942802468"
     },
     "user_tz": 180
    },
    "id": "EfqRZFOPJ2zh",
    "outputId": "5c34710b-8a87-412b-d65c-fa697d3c7296"
   },
   "outputs": [
    {
     "data": {
      "text/plain": [
       "[128, 65, 66, 75, 154]"
      ]
     },
     "execution_count": 76,
     "metadata": {
      "tags": []
     },
     "output_type": "execute_result"
    }
   ],
   "source": [
    "dup_outliers"
   ]
  },
  {
   "cell_type": "code",
   "execution_count": 0,
   "metadata": {
    "colab": {},
    "colab_type": "code",
    "id": "q7ECB3R_SjtB"
   },
   "outputs": [],
   "source": [
    "def channel_results(reduced_data, outliers, pca_samples):\n",
    "\t'''\n",
    "\tVisualizes the PCA-reduced cluster data in two dimensions using the full dataset\n",
    "\tData is labeled by \"Channel\" and cues added for student-selected sample data\n",
    "\t'''\n",
    "\n",
    "\t# Check that the dataset is loadable\n",
    "\ttry:\n",
    "\t    full_data = pd.read_csv(\"Wholesale customers data.csv\")\n",
    "\texcept:\n",
    "\t    print(\"Dataset could not be loaded. Is the file missing?\")\n",
    "\t    return False\n",
    "\n",
    "\t# Create the Channel DataFrame\n",
    "\tchannel = pd.DataFrame(full_data['Channel'], columns = ['Channel'])\n",
    "\tchannel = channel.drop(channel.index[outliers]).reset_index(drop = True)\n",
    "\tlabeled = pd.concat([reduced_data, channel], axis = 1)\n",
    "\t\n",
    "\t# Generate the cluster plot\n",
    "\tfig, ax = plt.subplots(figsize = (14,8))\n",
    "\n",
    "\t# Color map\n",
    "\tcmap = cm.get_cmap('gist_rainbow')\n",
    "\n",
    "\t# Color the points based on assigned Channel\n",
    "\tlabels = ['Hotel/Restaurant/Cafe', 'Retailer']\n",
    "\tgrouped = labeled.groupby('Channel')\n",
    "\tfor i, channel in grouped:   \n",
    "\t    channel.plot(ax = ax, kind = 'scatter', x = 'Dimension 1', y = 'Dimension 2', \\\n",
    "\t                 color = cmap((i-1)*1.0/2), label = labels[i-1], s=30);\n",
    "\t    \n",
    "\t# Plot transformed sample points   \n",
    "\tfor i, sample in enumerate(pca_samples):\n",
    "\t\tax.scatter(x = sample[0], y = sample[1], \\\n",
    "\t           s = 200, linewidth = 3, color = 'black', marker = 'o', facecolors = 'none');\n",
    "\t\tax.scatter(x = sample[0]+0.25, y = sample[1]+0.3, marker='$%d$'%(i), alpha = 1, s=125);\n",
    "\n",
    "\t# Set plot title\n",
    "\tax.set_title(\"PCA-Reduced Data Labeled by 'Channel'\\nTransformed Sample Data Circled\");"
   ]
  },
  {
   "cell_type": "code",
   "execution_count": 79,
   "metadata": {
    "colab": {
     "base_uri": "https://localhost:8080/",
     "height": 528
    },
    "colab_type": "code",
    "executionInfo": {
     "elapsed": 1449,
     "status": "ok",
     "timestamp": 1565117859205,
     "user": {
      "displayName": "Alan Bernardo Palacio",
      "photoUrl": "",
      "userId": "14099975777942802468"
     },
     "user_tz": 180
    },
    "id": "wMFvZ7v6J2zk",
    "outputId": "2f460485-eec7-443f-f0c6-f7d782bf69c1",
    "scrolled": false
   },
   "outputs": [
    {
     "data": {
      "image/png": "[encoded data removed]",
      "text/plain": [
       "<Figure size 1008x576 with 1 Axes>"
      ]
     },
     "metadata": {
      "tags": []
     },
     "output_type": "display_data"
    }
   ],
   "source": [
    "# Display the clustering results based on 'Channel' data\n",
    "channel_results(reduced_data, dup_outliers, pca_samples)"
   ]
  },
  {
   "cell_type": "markdown",
   "metadata": {
    "colab_type": "text",
    "id": "8dWwyyiGJ2zp"
   },
   "source": [
    "### Question 12\n",
    "*How well does the clustering algorithm and number of clusters you've chosen compare to this underlying distribution of Hotel/Restaurant/Cafe customers to Retailer customers? Are there customer segments that would be classified as purely 'Retailers' or 'Hotels/Restaurants/Cafes' by this distribution? Would you consider these classifications as consistent with your previous definition of the customer segments?*"
   ]
  },
  {
   "cell_type": "markdown",
   "metadata": {
    "colab_type": "text",
    "id": "BYWjQsd6J2zp"
   },
   "source": [
    "**Answer:**\n",
    "- The number of clusters is consistent with the underlying distribution with 2 major clusters hence the clustering algorithm did well.\n",
    "- There are customer segments that would be purely classified as \"Retailers\" or \"Hotels/\"Restaurants/Cafes\" on the extreme left and right accordingly.\n",
    "- This underlying classification is consistent with our observation where we noted cluster 0 customers are typically restaurants and cafes and cluster 1 customers are typically markets. "
   ]
  }
 ],
 "metadata": {
  "anaconda-cloud": {},
  "colab": {
   "name": "customer_segments.ipynb",
   "provenance": [],
   "toc_visible": true,
   "version": "0.3.2"
  },
  "kernelspec": {
   "display_name": "Python 3",
   "language": "python",
   "name": "python3"
  },
  "language_info": {
   "codemirror_mode": {
    "name": "ipython",
    "version": 3
   },
   "file_extension": ".py",
   "mimetype": "text/x-python",
   "name": "python",
   "nbconvert_exporter": "python",
   "pygments_lexer": "ipython3",
   "version": "3.7.3"
  },
  "toc": {
   "base_numbering": 1,
   "nav_menu": {},
   "number_sections": true,
   "sideBar": true,
   "skip_h1_title": false,
   "title_cell": "Table of Contents",
   "title_sidebar": "Contents",
   "toc_cell": false,
   "toc_position": {},
   "toc_section_display": true,
   "toc_window_display": false
  },
  "varInspector": {
   "cols": {
    "lenName": 16,
    "lenType": 16,
    "lenVar": 40
   },
   "kernels_config": {
    "python": {
     "delete_cmd_postfix": "",
     "delete_cmd_prefix": "del ",
     "library": "var_list.py",
     "varRefreshCmd": "print(var_dic_list())"
    },
    "r": {
     "delete_cmd_postfix": ") ",
     "delete_cmd_prefix": "rm(",
     "library": "var_list.r",
     "varRefreshCmd": "cat(var_dic_list()) "
    }
   },
   "types_to_exclude": [
    "module",
    "function",
    "builtin_function_or_method",
    "instance",
    "_Feature"
   ],
   "window_display": false
  }
 },
 "nbformat": 4,
 "nbformat_minor": 1
}
